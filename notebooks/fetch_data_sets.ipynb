{
 "cells": [
  {
   "cell_type": "code",
   "execution_count": 2,
   "id": "a8537b7a",
   "metadata": {
    "pycharm": {
     "name": "#%%\n"
    }
   },
   "outputs": [],
   "source": [
    "#kedro jupyter notebook"
   ]
  },
  {
   "cell_type": "code",
   "execution_count": 1,
   "id": "9766ea93",
   "metadata": {
    "pycharm": {
     "name": "#%%\n"
    }
   },
   "outputs": [],
   "source": [
    "import pandas as pd\n",
    "from kedro.extras.datasets.api import APIDataSet"
   ]
  },
  {
   "cell_type": "code",
   "execution_count": 2,
   "id": "99d96c1f",
   "metadata": {
    "pycharm": {
     "name": "#%%\n"
    }
   },
   "outputs": [],
   "source": [
    "dji_indx_data_set = APIDataSet(\n",
    "    url=\"https://eodhistoricaldata.com/api/eod/DJI.INDX\",\n",
    "    params={\n",
    "        \"api_token\":\"6395b77e97d0a9.58410479\",\n",
    "        \"s\":\"DJI.INDX\",\n",
    "        \"fmt\":\"json\",\n",
    "        \"period\":\"d\",\n",
    "        \"from\":\"1930-01-01\",\n",
    "        \"to\":\"2022-12-26\",\n",
    "    }\n",
    ")"
   ]
  },
  {
   "cell_type": "code",
   "execution_count": null,
   "outputs": [],
   "source": [],
   "metadata": {
    "collapsed": false,
    "pycharm": {
     "name": "#%%\n"
    }
   }
  },
  {
   "cell_type": "code",
   "execution_count": 3,
   "id": "3aa80ae4",
   "metadata": {
    "pycharm": {
     "name": "#%%\n"
    }
   },
   "outputs": [],
   "source": [
    "dji_index_data = dji_indx_data_set.load()"
   ]
  },
  {
   "cell_type": "code",
   "execution_count": null,
   "outputs": [],
   "source": [
    "dji_index_data"
   ],
   "metadata": {
    "collapsed": false,
    "pycharm": {
     "name": "#%%\n",
     "is_executing": true
    }
   }
  },
  {
   "cell_type": "code",
   "execution_count": null,
   "outputs": [],
   "source": [
    "# Check the status code to make sure the request was successful\n",
    "if dji_index_data.status_code == 200:\n",
    "  # Convert the response to a JSON object\n",
    "  dji_index_data = dji_index_data.json()\n",
    "\n",
    "  # Convert the JSON object to a DataFrame\n",
    "  dji_indx_df = pd.DataFrame.from_dict(dji_index_data)\n",
    "\n",
    "  # Display the DataFrame\n",
    "  print(dji_indx_df.head())\n",
    "else:\n",
    "  print('Request failed')"
   ],
   "metadata": {
    "collapsed": false,
    "pycharm": {
     "name": "#%%\n",
     "is_executing": true
    }
   }
  },
  {
   "cell_type": "code",
   "execution_count": 8,
   "id": "59c0be36",
   "metadata": {
    "pycharm": {
     "name": "#%%\n"
    }
   },
   "outputs": [],
   "source": [
    "dji_stock_dataPath = '../data/01_raw'\n",
    "dji_stock_index = \"dji_stock_indx\"\n",
    "with open(f\"{dji_stock_dataPath}/{dji_stock_index}.csv\", \"w\",newline=\"\", encoding='utf-8') as csvfile:\n",
    "    dji_indx_df.to_csv(csvfile)"
   ]
  },
  {
   "cell_type": "code",
   "execution_count": 9,
   "id": "35e73c45",
   "metadata": {
    "pycharm": {
     "name": "#%%\n"
    }
   },
   "outputs": [],
   "source": [
    "dji_news_sentiment_data_set = APIDataSet(\n",
    "    url=\"https://eodhistoricaldata.com/api/sentiments\",\n",
    "    params={\n",
    "        \"api_token\":\"6395b77e97d0a9.58410479\",\n",
    "        \"s\":\"DJI.INDX\",\n",
    "        \"from\":\"1930-01-01\",\n",
    "        \"to\":\"2022-12-26\",\n",
    "    }\n",
    ")"
   ]
  },
  {
   "cell_type": "code",
   "execution_count": 10,
   "id": "cf9f72c7",
   "metadata": {
    "pycharm": {
     "name": "#%%\n"
    }
   },
   "outputs": [],
   "source": [
    "dji_news_sentiment_data = dji_news_sentiment_data_set.load()"
   ]
  },
  {
   "cell_type": "code",
   "execution_count": 11,
   "id": "c6ebf4ca",
   "metadata": {
    "pycharm": {
     "name": "#%%\n"
    }
   },
   "outputs": [],
   "source": [
    "dji_news_sentiment_data = dji_news_sentiment_data.json()"
   ]
  },
  {
   "cell_type": "code",
   "execution_count": null,
   "id": "8b3f14b5",
   "metadata": {
    "pycharm": {
     "name": "#%%\n",
     "is_executing": true
    }
   },
   "outputs": [],
   "source": [
    "# Convert the JSON object to a DataFrame\n",
    "dji_news_df = pd.DataFrame.from_dict(dji_news_sentiment_data['DJI.INDX'])\n",
    "\n",
    "# Display the DataFrame\n",
    "print(dji_news_df.head())"
   ]
  },
  {
   "cell_type": "code",
   "execution_count": 13,
   "id": "1e5c5b5a",
   "metadata": {
    "pycharm": {
     "name": "#%%\n"
    }
   },
   "outputs": [],
   "source": [
    "dji_news_dataPath = '../data/01_raw'\n",
    "dji_news_data = \"dji_news_data\"\n",
    "with open(f\"{dji_news_dataPath}/{dji_news_data}.csv\", \"w\",newline=\"\", encoding='utf-8') as csvfile:\n",
    "    dji_news_df.to_csv(csvfile)"
   ]
  },
  {
   "cell_type": "code",
   "execution_count": 14,
   "id": "fa4c1071",
   "metadata": {
    "pycharm": {
     "name": "#%%\n"
    }
   },
   "outputs": [],
   "source": [
    "dji_tweet_sentiment_data_set = APIDataSet(\n",
    "    url=\"https://eodhistoricaldata.com/api/tweets-sentiments\",\n",
    "    params={\n",
    "        \"api_token\":\"6395b77e97d0a9.58410479\",\n",
    "        \"s\":\"DJI\",\n",
    "        \"from\":\"1930-01-01\",\n",
    "        \"to\":\"2022-12-26\",\n",
    "    }\n",
    ")"
   ]
  },
  {
   "cell_type": "code",
   "execution_count": 15,
   "id": "b8805fe0",
   "metadata": {
    "pycharm": {
     "name": "#%%\n"
    }
   },
   "outputs": [],
   "source": [
    "dji_tweet_sentiment_data = dji_tweet_sentiment_data_set.load()"
   ]
  },
  {
   "cell_type": "code",
   "execution_count": 16,
   "id": "b1fc0e5b",
   "metadata": {
    "pycharm": {
     "name": "#%%\n"
    }
   },
   "outputs": [],
   "source": [
    "dji_tweet_sentiment_data = dji_tweet_sentiment_data.json()"
   ]
  },
  {
   "cell_type": "code",
   "execution_count": null,
   "id": "33a4f070",
   "metadata": {
    "pycharm": {
     "name": "#%%\n",
     "is_executing": true
    }
   },
   "outputs": [],
   "source": [
    "# Convert the JSON object to a DataFrame\n",
    "dji_tweet_df = pd.DataFrame.from_dict(dji_tweet_sentiment_data['DJI.US'])\n",
    "\n",
    "# Display the DataFrame\n",
    "print(dji_tweet_df.head())"
   ]
  },
  {
   "cell_type": "code",
   "execution_count": 18,
   "id": "637cb548",
   "metadata": {
    "pycharm": {
     "name": "#%%\n"
    }
   },
   "outputs": [],
   "source": [
    "dji_tweet_dataPath = '../data/01_raw'\n",
    "dji_tweet_data = \"dji_tweet_data\"\n",
    "with open(f\"{dji_tweet_dataPath}/{dji_tweet_data}.csv\", \"w\",newline=\"\", encoding='utf-8') as csvfile:\n",
    "    dji_tweet_df.to_csv(csvfile)"
   ]
  }
 ],
 "metadata": {
  "kernelspec": {
   "display_name": "Kedro (stock_market_forecast)",
   "language": "python",
   "name": "kedro_stock_market_forecast"
  },
  "language_info": {
   "codemirror_mode": {
    "name": "ipython",
    "version": 3
   },
   "file_extension": ".py",
   "mimetype": "text/x-python",
   "name": "python",
   "nbconvert_exporter": "python",
   "pygments_lexer": "ipython3",
   "version": "3.10.9"
  }
 },
 "nbformat": 4,
 "nbformat_minor": 5
}