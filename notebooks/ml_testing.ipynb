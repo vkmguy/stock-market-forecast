{
 "cells": [
  {
   "cell_type": "code",
   "execution_count": 26,
   "id": "f98a6151",
   "metadata": {
    "pycharm": {
     "name": "#%%\n"
    }
   },
   "outputs": [],
   "source": [
    "\n",
    "import pandas as pd\n",
    "from kedro.config import ConfigLoader\n",
    "from kedro.io import DataCatalog"
   ]
  },
  {
   "cell_type": "code",
   "execution_count": 2,
   "outputs": [
    {
     "data": {
      "text/plain": "WindowsPath('C:/respository/stock-market-forecast/notebooks')"
     },
     "execution_count": 2,
     "metadata": {},
     "output_type": "execute_result"
    }
   ],
   "source": [
    "from pathlib import Path\n",
    "\n",
    "path = Path()\n",
    "path.absolute()"
   ],
   "metadata": {
    "collapsed": false,
    "pycharm": {
     "name": "#%%\n"
    }
   }
  },
  {
   "cell_type": "code",
   "execution_count": 3,
   "outputs": [
    {
     "name": "stderr",
     "output_type": "stream",
     "text": [
      "C:\\respository\\stock-market-forecast\\venv\\lib\\site-packages\\tensorflow\\python\\framework\\dtypes.py:246: DeprecationWarning: `np.bool8` is a deprecated alias for `np.bool_`.  (Deprecated NumPy 1.24)\n",
      "  np.bool8: (False, True),\n",
      "C:\\respository\\stock-market-forecast\\venv\\lib\\site-packages\\tensorboard\\compat\\tensorflow_stub\\dtypes.py:326: DeprecationWarning: `np.bool8` is a deprecated alias for `np.bool_`.  (Deprecated NumPy 1.24)\n",
      "  np.bool8: (False, True),\n"
     ]
    }
   ],
   "source": [
    "# Initialise a ConfigLoader\n",
    "conf_loader = ConfigLoader(\"../conf\")\n",
    "\n",
    "# Load the data catalog configuration from catalog.yml\n",
    "conf_catalog = conf_loader.get(\"catalog.yml\")\n",
    "\n",
    "# Create the DataCatalog instance from the configuration\n",
    "catalog = DataCatalog.from_config(conf_catalog)"
   ],
   "metadata": {
    "collapsed": false,
    "pycharm": {
     "name": "#%%\n"
    }
   }
  },
  {
   "cell_type": "code",
   "execution_count": 4,
   "id": "a4cb3692",
   "metadata": {
    "pycharm": {
     "name": "#%%\n"
    }
   },
   "outputs": [
    {
     "data": {
      "text/plain": "   Unnamed: 0        date    open    high     low   close  adjusted_close  \\\n0           0  1950-01-03  198.89  198.89  198.89  198.89          198.89   \n1           1  1950-01-04  200.20  200.20  200.20  200.20          200.20   \n2           2  1950-01-05  200.57  200.57  200.57  200.57          200.57   \n3           3  1950-01-06  200.96  200.96  200.96  200.96          200.96   \n4           4  1950-01-07  201.94  201.94  201.94  201.94          201.94   \n\n   volume  \n0       0  \n1       0  \n2       0  \n3       0  \n4       0  ",
      "text/html": "<div>\n<style scoped>\n    .dataframe tbody tr th:only-of-type {\n        vertical-align: middle;\n    }\n\n    .dataframe tbody tr th {\n        vertical-align: top;\n    }\n\n    .dataframe thead th {\n        text-align: right;\n    }\n</style>\n<table border=\"1\" class=\"dataframe\">\n  <thead>\n    <tr style=\"text-align: right;\">\n      <th></th>\n      <th>Unnamed: 0</th>\n      <th>date</th>\n      <th>open</th>\n      <th>high</th>\n      <th>low</th>\n      <th>close</th>\n      <th>adjusted_close</th>\n      <th>volume</th>\n    </tr>\n  </thead>\n  <tbody>\n    <tr>\n      <th>0</th>\n      <td>0</td>\n      <td>1950-01-03</td>\n      <td>198.89</td>\n      <td>198.89</td>\n      <td>198.89</td>\n      <td>198.89</td>\n      <td>198.89</td>\n      <td>0</td>\n    </tr>\n    <tr>\n      <th>1</th>\n      <td>1</td>\n      <td>1950-01-04</td>\n      <td>200.20</td>\n      <td>200.20</td>\n      <td>200.20</td>\n      <td>200.20</td>\n      <td>200.20</td>\n      <td>0</td>\n    </tr>\n    <tr>\n      <th>2</th>\n      <td>2</td>\n      <td>1950-01-05</td>\n      <td>200.57</td>\n      <td>200.57</td>\n      <td>200.57</td>\n      <td>200.57</td>\n      <td>200.57</td>\n      <td>0</td>\n    </tr>\n    <tr>\n      <th>3</th>\n      <td>3</td>\n      <td>1950-01-06</td>\n      <td>200.96</td>\n      <td>200.96</td>\n      <td>200.96</td>\n      <td>200.96</td>\n      <td>200.96</td>\n      <td>0</td>\n    </tr>\n    <tr>\n      <th>4</th>\n      <td>4</td>\n      <td>1950-01-07</td>\n      <td>201.94</td>\n      <td>201.94</td>\n      <td>201.94</td>\n      <td>201.94</td>\n      <td>201.94</td>\n      <td>0</td>\n    </tr>\n  </tbody>\n</table>\n</div>"
     },
     "execution_count": 4,
     "metadata": {},
     "output_type": "execute_result"
    }
   ],
   "source": [
    "# Load the dataset and print the output\n",
    "djiStockData = catalog.load(\"nb_dji_stock\")\n",
    "djiStockData.head()"
   ]
  },
  {
   "cell_type": "code",
   "execution_count": 5,
   "id": "7b5be975",
   "metadata": {
    "pycharm": {
     "name": "#%%\n"
    }
   },
   "outputs": [
    {
     "data": {
      "text/plain": "   Unnamed: 0        date    open    high     low   close  adjusted_close  \\\n0           0  1950-01-03  198.89  198.89  198.89  198.89          198.89   \n1           1  1950-01-04  200.20  200.20  200.20  200.20          200.20   \n2           2  1950-01-05  200.57  200.57  200.57  200.57          200.57   \n3           3  1950-01-06  200.96  200.96  200.96  200.96          200.96   \n4           4  1950-01-07  201.94  201.94  201.94  201.94          201.94   \n\n   volume  \n0       0  \n1       0  \n2       0  \n3       0  \n4       0  ",
      "text/html": "<div>\n<style scoped>\n    .dataframe tbody tr th:only-of-type {\n        vertical-align: middle;\n    }\n\n    .dataframe tbody tr th {\n        vertical-align: top;\n    }\n\n    .dataframe thead th {\n        text-align: right;\n    }\n</style>\n<table border=\"1\" class=\"dataframe\">\n  <thead>\n    <tr style=\"text-align: right;\">\n      <th></th>\n      <th>Unnamed: 0</th>\n      <th>date</th>\n      <th>open</th>\n      <th>high</th>\n      <th>low</th>\n      <th>close</th>\n      <th>adjusted_close</th>\n      <th>volume</th>\n    </tr>\n  </thead>\n  <tbody>\n    <tr>\n      <th>0</th>\n      <td>0</td>\n      <td>1950-01-03</td>\n      <td>198.89</td>\n      <td>198.89</td>\n      <td>198.89</td>\n      <td>198.89</td>\n      <td>198.89</td>\n      <td>0</td>\n    </tr>\n    <tr>\n      <th>1</th>\n      <td>1</td>\n      <td>1950-01-04</td>\n      <td>200.20</td>\n      <td>200.20</td>\n      <td>200.20</td>\n      <td>200.20</td>\n      <td>200.20</td>\n      <td>0</td>\n    </tr>\n    <tr>\n      <th>2</th>\n      <td>2</td>\n      <td>1950-01-05</td>\n      <td>200.57</td>\n      <td>200.57</td>\n      <td>200.57</td>\n      <td>200.57</td>\n      <td>200.57</td>\n      <td>0</td>\n    </tr>\n    <tr>\n      <th>3</th>\n      <td>3</td>\n      <td>1950-01-06</td>\n      <td>200.96</td>\n      <td>200.96</td>\n      <td>200.96</td>\n      <td>200.96</td>\n      <td>200.96</td>\n      <td>0</td>\n    </tr>\n    <tr>\n      <th>4</th>\n      <td>4</td>\n      <td>1950-01-07</td>\n      <td>201.94</td>\n      <td>201.94</td>\n      <td>201.94</td>\n      <td>201.94</td>\n      <td>201.94</td>\n      <td>0</td>\n    </tr>\n  </tbody>\n</table>\n</div>"
     },
     "execution_count": 5,
     "metadata": {},
     "output_type": "execute_result"
    }
   ],
   "source": [
    "djiStockData.head(5)"
   ]
  },
  {
   "cell_type": "code",
   "execution_count": 6,
   "id": "c7bef7a3",
   "metadata": {
    "pycharm": {
     "name": "#%%\n"
    }
   },
   "outputs": [],
   "source": [
    "tweetData = catalog.load(\"nb_dji_tweets\")"
   ]
  },
  {
   "cell_type": "code",
   "execution_count": 7,
   "id": "d1cb83ab",
   "metadata": {
    "pycharm": {
     "name": "#%%\n"
    }
   },
   "outputs": [
    {
     "data": {
      "text/plain": "     Unnamed: 0        date  count  normalized\n0             0  2022-12-26     12      0.3424\n1             1  2022-12-25      7      0.3077\n2             2  2022-12-24      2     -0.5678\n3             3  2022-12-23     16      0.1991\n4             4  2022-12-22      6      0.3884\n..          ...         ...    ...         ...\n321         321  2021-12-30     57     -0.3214\n322         322  2021-12-29     52     -0.2934\n323         323  2021-12-28     59     -0.2321\n324         324  2021-12-27     55     -0.2837\n325         325  2021-12-26      5      0.2191\n\n[326 rows x 4 columns]",
      "text/html": "<div>\n<style scoped>\n    .dataframe tbody tr th:only-of-type {\n        vertical-align: middle;\n    }\n\n    .dataframe tbody tr th {\n        vertical-align: top;\n    }\n\n    .dataframe thead th {\n        text-align: right;\n    }\n</style>\n<table border=\"1\" class=\"dataframe\">\n  <thead>\n    <tr style=\"text-align: right;\">\n      <th></th>\n      <th>Unnamed: 0</th>\n      <th>date</th>\n      <th>count</th>\n      <th>normalized</th>\n    </tr>\n  </thead>\n  <tbody>\n    <tr>\n      <th>0</th>\n      <td>0</td>\n      <td>2022-12-26</td>\n      <td>12</td>\n      <td>0.3424</td>\n    </tr>\n    <tr>\n      <th>1</th>\n      <td>1</td>\n      <td>2022-12-25</td>\n      <td>7</td>\n      <td>0.3077</td>\n    </tr>\n    <tr>\n      <th>2</th>\n      <td>2</td>\n      <td>2022-12-24</td>\n      <td>2</td>\n      <td>-0.5678</td>\n    </tr>\n    <tr>\n      <th>3</th>\n      <td>3</td>\n      <td>2022-12-23</td>\n      <td>16</td>\n      <td>0.1991</td>\n    </tr>\n    <tr>\n      <th>4</th>\n      <td>4</td>\n      <td>2022-12-22</td>\n      <td>6</td>\n      <td>0.3884</td>\n    </tr>\n    <tr>\n      <th>...</th>\n      <td>...</td>\n      <td>...</td>\n      <td>...</td>\n      <td>...</td>\n    </tr>\n    <tr>\n      <th>321</th>\n      <td>321</td>\n      <td>2021-12-30</td>\n      <td>57</td>\n      <td>-0.3214</td>\n    </tr>\n    <tr>\n      <th>322</th>\n      <td>322</td>\n      <td>2021-12-29</td>\n      <td>52</td>\n      <td>-0.2934</td>\n    </tr>\n    <tr>\n      <th>323</th>\n      <td>323</td>\n      <td>2021-12-28</td>\n      <td>59</td>\n      <td>-0.2321</td>\n    </tr>\n    <tr>\n      <th>324</th>\n      <td>324</td>\n      <td>2021-12-27</td>\n      <td>55</td>\n      <td>-0.2837</td>\n    </tr>\n    <tr>\n      <th>325</th>\n      <td>325</td>\n      <td>2021-12-26</td>\n      <td>5</td>\n      <td>0.2191</td>\n    </tr>\n  </tbody>\n</table>\n<p>326 rows × 4 columns</p>\n</div>"
     },
     "execution_count": 7,
     "metadata": {},
     "output_type": "execute_result"
    }
   ],
   "source": [
    "tweetData.head(-5)"
   ]
  },
  {
   "cell_type": "code",
   "execution_count": 8,
   "id": "462f7b4a",
   "metadata": {
    "pycharm": {
     "name": "#%%\n"
    }
   },
   "outputs": [
    {
     "name": "stdout",
     "output_type": "stream",
     "text": [
      "<class 'pandas.core.frame.DataFrame'>\n",
      "RangeIndex: 331 entries, 0 to 330\n",
      "Data columns (total 4 columns):\n",
      " #   Column      Non-Null Count  Dtype  \n",
      "---  ------      --------------  -----  \n",
      " 0   Unnamed: 0  331 non-null    int64  \n",
      " 1   date        331 non-null    object \n",
      " 2   count       331 non-null    int64  \n",
      " 3   normalized  331 non-null    float64\n",
      "dtypes: float64(1), int64(2), object(1)\n",
      "memory usage: 10.5+ KB\n"
     ]
    }
   ],
   "source": [
    "tweetData.info()"
   ]
  },
  {
   "cell_type": "code",
   "execution_count": 9,
   "id": "dbfb4af8",
   "metadata": {
    "pycharm": {
     "name": "#%%\n"
    }
   },
   "outputs": [],
   "source": [
    "df_merge = pd.merge(djiStockData, tweetData, how='inner', on='date')"
   ]
  },
  {
   "cell_type": "code",
   "execution_count": 10,
   "id": "49960993",
   "metadata": {
    "pycharm": {
     "name": "#%%\n"
    }
   },
   "outputs": [],
   "source": [
    "df_merge[\"pct_change\"] = df_merge['adjusted_close'].shift(1) / df_merge['adjusted_close'] - 1\n",
    "df_merge['direction'] = df_merge['pct_change'].apply(lambda x: 1 if x > 0 else 0)\n",
    "df_merge['date'] = pd.to_datetime(df_merge['date'])\n",
    "df_merge.set_index('date', inplace=True)\n",
    "df_merge['direction'] = df_merge['direction'].shift(1)\n",
    "df_merge.dropna(inplace=True)"
   ]
  },
  {
   "cell_type": "code",
   "execution_count": 11,
   "id": "a0de0d05",
   "metadata": {
    "pycharm": {
     "name": "#%%\n"
    }
   },
   "outputs": [
    {
     "data": {
      "text/plain": "            Unnamed: 0_x      open      high       low     close  \\\ndate                                                               \n2021-12-22         16138  35491.71  35764.67  35433.13  35753.89   \n2021-12-23         16139  35782.42  36060.99  35782.42  35950.56   \n2021-12-27         16140  35954.48  36306.61  35954.48  36302.38   \n2021-12-28         16141  36302.99  36527.26  36302.99  36398.21   \n2021-12-29         16142  36421.14  36571.55  36396.19  36488.63   \n\n            adjusted_close     volume  Unnamed: 0_y  count  normalized  \\\ndate                                                                     \n2021-12-22        35753.89  290725286           329     58     -0.3296   \n2021-12-23        35950.56  250941712           328     57     -0.1820   \n2021-12-27        36302.38  250260983           324     55     -0.2837   \n2021-12-28        36398.21  239087792           323     59     -0.2321   \n2021-12-29        36488.63  214403952           322     52     -0.2934   \n\n            pct_change  direction  \ndate                               \n2021-12-22   -0.007305        0.0  \n2021-12-23   -0.005471        0.0  \n2021-12-27   -0.009691        0.0  \n2021-12-28   -0.002633        0.0  \n2021-12-29   -0.002478        0.0  ",
      "text/html": "<div>\n<style scoped>\n    .dataframe tbody tr th:only-of-type {\n        vertical-align: middle;\n    }\n\n    .dataframe tbody tr th {\n        vertical-align: top;\n    }\n\n    .dataframe thead th {\n        text-align: right;\n    }\n</style>\n<table border=\"1\" class=\"dataframe\">\n  <thead>\n    <tr style=\"text-align: right;\">\n      <th></th>\n      <th>Unnamed: 0_x</th>\n      <th>open</th>\n      <th>high</th>\n      <th>low</th>\n      <th>close</th>\n      <th>adjusted_close</th>\n      <th>volume</th>\n      <th>Unnamed: 0_y</th>\n      <th>count</th>\n      <th>normalized</th>\n      <th>pct_change</th>\n      <th>direction</th>\n    </tr>\n    <tr>\n      <th>date</th>\n      <th></th>\n      <th></th>\n      <th></th>\n      <th></th>\n      <th></th>\n      <th></th>\n      <th></th>\n      <th></th>\n      <th></th>\n      <th></th>\n      <th></th>\n      <th></th>\n    </tr>\n  </thead>\n  <tbody>\n    <tr>\n      <th>2021-12-22</th>\n      <td>16138</td>\n      <td>35491.71</td>\n      <td>35764.67</td>\n      <td>35433.13</td>\n      <td>35753.89</td>\n      <td>35753.89</td>\n      <td>290725286</td>\n      <td>329</td>\n      <td>58</td>\n      <td>-0.3296</td>\n      <td>-0.007305</td>\n      <td>0.0</td>\n    </tr>\n    <tr>\n      <th>2021-12-23</th>\n      <td>16139</td>\n      <td>35782.42</td>\n      <td>36060.99</td>\n      <td>35782.42</td>\n      <td>35950.56</td>\n      <td>35950.56</td>\n      <td>250941712</td>\n      <td>328</td>\n      <td>57</td>\n      <td>-0.1820</td>\n      <td>-0.005471</td>\n      <td>0.0</td>\n    </tr>\n    <tr>\n      <th>2021-12-27</th>\n      <td>16140</td>\n      <td>35954.48</td>\n      <td>36306.61</td>\n      <td>35954.48</td>\n      <td>36302.38</td>\n      <td>36302.38</td>\n      <td>250260983</td>\n      <td>324</td>\n      <td>55</td>\n      <td>-0.2837</td>\n      <td>-0.009691</td>\n      <td>0.0</td>\n    </tr>\n    <tr>\n      <th>2021-12-28</th>\n      <td>16141</td>\n      <td>36302.99</td>\n      <td>36527.26</td>\n      <td>36302.99</td>\n      <td>36398.21</td>\n      <td>36398.21</td>\n      <td>239087792</td>\n      <td>323</td>\n      <td>59</td>\n      <td>-0.2321</td>\n      <td>-0.002633</td>\n      <td>0.0</td>\n    </tr>\n    <tr>\n      <th>2021-12-29</th>\n      <td>16142</td>\n      <td>36421.14</td>\n      <td>36571.55</td>\n      <td>36396.19</td>\n      <td>36488.63</td>\n      <td>36488.63</td>\n      <td>214403952</td>\n      <td>322</td>\n      <td>52</td>\n      <td>-0.2934</td>\n      <td>-0.002478</td>\n      <td>0.0</td>\n    </tr>\n  </tbody>\n</table>\n</div>"
     },
     "execution_count": 11,
     "metadata": {},
     "output_type": "execute_result"
    }
   ],
   "source": [
    "df_merge.head()"
   ]
  },
  {
   "cell_type": "code",
   "execution_count": 12,
   "id": "17c162ea",
   "metadata": {
    "pycharm": {
     "name": "#%%\n"
    }
   },
   "outputs": [
    {
     "data": {
      "text/plain": "Index(['Unnamed: 0_x', 'open', 'high', 'low', 'close', 'adjusted_close',\n       'volume', 'Unnamed: 0_y', 'count', 'normalized', 'pct_change',\n       'direction'],\n      dtype='object')"
     },
     "execution_count": 12,
     "metadata": {},
     "output_type": "execute_result"
    }
   ],
   "source": [
    "df_merge.columns"
   ]
  },
  {
   "cell_type": "code",
   "execution_count": 13,
   "id": "6871e06b",
   "metadata": {
    "pycharm": {
     "name": "#%%\n"
    }
   },
   "outputs": [],
   "source": [
    "X = df_merge.loc[:, ['open', 'high', 'low', 'adjusted_close', 'volume', 'count', 'normalized']]\n",
    "y = df_merge.loc[:, 'direction']"
   ]
  },
  {
   "cell_type": "code",
   "execution_count": 14,
   "id": "bd70080f",
   "metadata": {
    "pycharm": {
     "name": "#%%\n"
    }
   },
   "outputs": [
    {
     "data": {
      "text/plain": "((231, 7), (231,))"
     },
     "execution_count": 14,
     "metadata": {},
     "output_type": "execute_result"
    }
   ],
   "source": [
    "X.shape, y.shape"
   ]
  },
  {
   "cell_type": "code",
   "execution_count": 15,
   "outputs": [],
   "source": [
    "X_train, X_test = X.iloc[:200, :], X.iloc[200:, :]\n",
    "y_train, y_test = y.iloc[:200], y.iloc[200:]"
   ],
   "metadata": {
    "collapsed": false,
    "pycharm": {
     "name": "#%%\n"
    }
   }
  },
  {
   "cell_type": "code",
   "execution_count": 16,
   "outputs": [],
   "source": [
    "# from sklearn.model_selection import train_test_split\n",
    "#\n",
    "# X_train, X_test, y_train, y_test = train_test_split(X, y, test_size=.33, random_state=42)"
   ],
   "metadata": {
    "collapsed": false,
    "pycharm": {
     "name": "#%%\n"
    }
   }
  },
  {
   "cell_type": "code",
   "execution_count": 17,
   "outputs": [
    {
     "name": "stdout",
     "output_type": "stream",
     "text": [
      "Train: (200, 7) (200,)\n",
      "Test: (31, 7) (31,)\n"
     ]
    }
   ],
   "source": [
    "print(f'Train: {X_train.shape} {y_train.shape}')\n",
    "print(f'Test: {X_test.shape} {y_test.shape}')"
   ],
   "metadata": {
    "collapsed": false,
    "pycharm": {
     "name": "#%%\n"
    }
   }
  },
  {
   "cell_type": "markdown",
   "source": [
    "### Tensorflow"
   ],
   "metadata": {
    "collapsed": false,
    "pycharm": {
     "name": "#%% md\n"
    }
   }
  },
  {
   "cell_type": "code",
   "execution_count": 52,
   "outputs": [
    {
     "name": "stdout",
     "output_type": "stream",
     "text": [
      "Epoch 1/100\n",
      "6/6 [==============================] - 0s 42ms/step - loss: 0.7666 - accuracy: 0.5389 - val_loss: 0.7145 - val_accuracy: 0.4500\n",
      "Epoch 2/100\n",
      "6/6 [==============================] - 0s 4ms/step - loss: 0.7460 - accuracy: 0.5333 - val_loss: 0.7133 - val_accuracy: 0.4500\n",
      "Epoch 3/100\n",
      "6/6 [==============================] - 0s 4ms/step - loss: 0.7390 - accuracy: 0.5056 - val_loss: 0.7129 - val_accuracy: 0.4500\n",
      "Epoch 4/100\n",
      "6/6 [==============================] - 0s 4ms/step - loss: 0.7036 - accuracy: 0.5389 - val_loss: 0.7118 - val_accuracy: 0.5000\n",
      "Epoch 5/100\n",
      "6/6 [==============================] - 0s 4ms/step - loss: 0.7167 - accuracy: 0.5222 - val_loss: 0.7117 - val_accuracy: 0.4500\n",
      "Epoch 6/100\n",
      "6/6 [==============================] - 0s 4ms/step - loss: 0.7146 - accuracy: 0.4778 - val_loss: 0.7109 - val_accuracy: 0.5000\n",
      "Epoch 7/100\n",
      "6/6 [==============================] - 0s 4ms/step - loss: 0.6977 - accuracy: 0.4944 - val_loss: 0.7124 - val_accuracy: 0.5000\n",
      "Epoch 8/100\n",
      "6/6 [==============================] - 0s 4ms/step - loss: 0.6924 - accuracy: 0.5444 - val_loss: 0.7136 - val_accuracy: 0.5000\n",
      "Epoch 9/100\n",
      "6/6 [==============================] - 0s 4ms/step - loss: 0.6867 - accuracy: 0.5556 - val_loss: 0.7158 - val_accuracy: 0.5000\n",
      "Epoch 10/100\n",
      "6/6 [==============================] - 0s 4ms/step - loss: 0.7070 - accuracy: 0.4889 - val_loss: 0.7166 - val_accuracy: 0.5000\n",
      "Epoch 11/100\n",
      "6/6 [==============================] - 0s 4ms/step - loss: 0.6537 - accuracy: 0.5833 - val_loss: 0.7194 - val_accuracy: 0.5000\n",
      "Epoch 12/100\n",
      "6/6 [==============================] - 0s 4ms/step - loss: 0.7164 - accuracy: 0.5944 - val_loss: 0.7213 - val_accuracy: 0.5000\n",
      "Epoch 13/100\n",
      "6/6 [==============================] - 0s 4ms/step - loss: 0.6925 - accuracy: 0.5778 - val_loss: 0.7213 - val_accuracy: 0.5000\n",
      "Epoch 14/100\n",
      "6/6 [==============================] - 0s 4ms/step - loss: 0.6586 - accuracy: 0.6000 - val_loss: 0.7207 - val_accuracy: 0.5000\n",
      "Epoch 15/100\n",
      "6/6 [==============================] - 0s 4ms/step - loss: 0.7088 - accuracy: 0.5389 - val_loss: 0.7200 - val_accuracy: 0.5000\n",
      "Epoch 16/100\n",
      "6/6 [==============================] - 0s 4ms/step - loss: 0.6742 - accuracy: 0.6389 - val_loss: 0.7178 - val_accuracy: 0.5000\n",
      "Epoch 17/100\n",
      "6/6 [==============================] - 0s 4ms/step - loss: 0.6597 - accuracy: 0.6167 - val_loss: 0.7183 - val_accuracy: 0.5500\n",
      "Epoch 18/100\n",
      "6/6 [==============================] - 0s 4ms/step - loss: 0.6651 - accuracy: 0.6000 - val_loss: 0.7185 - val_accuracy: 0.5500\n",
      "Epoch 19/100\n",
      "6/6 [==============================] - 0s 4ms/step - loss: 0.6930 - accuracy: 0.5778 - val_loss: 0.7187 - val_accuracy: 0.5500\n",
      "Epoch 20/100\n",
      "6/6 [==============================] - 0s 4ms/step - loss: 0.6532 - accuracy: 0.5667 - val_loss: 0.7202 - val_accuracy: 0.5500\n",
      "Epoch 21/100\n",
      "6/6 [==============================] - 0s 4ms/step - loss: 0.6830 - accuracy: 0.5722 - val_loss: 0.7220 - val_accuracy: 0.5500\n",
      "Epoch 22/100\n",
      "6/6 [==============================] - 0s 4ms/step - loss: 0.6774 - accuracy: 0.6222 - val_loss: 0.7230 - val_accuracy: 0.5500\n",
      "Epoch 23/100\n",
      "6/6 [==============================] - 0s 4ms/step - loss: 0.6716 - accuracy: 0.6667 - val_loss: 0.7203 - val_accuracy: 0.5500\n",
      "Epoch 24/100\n",
      "6/6 [==============================] - 0s 4ms/step - loss: 0.6837 - accuracy: 0.5611 - val_loss: 0.7179 - val_accuracy: 0.5500\n",
      "Epoch 25/100\n",
      "6/6 [==============================] - 0s 4ms/step - loss: 0.6625 - accuracy: 0.6056 - val_loss: 0.7168 - val_accuracy: 0.5500\n",
      "Epoch 26/100\n",
      "6/6 [==============================] - 0s 4ms/step - loss: 0.6784 - accuracy: 0.5722 - val_loss: 0.7175 - val_accuracy: 0.5500\n",
      "Epoch 27/100\n",
      "6/6 [==============================] - 0s 4ms/step - loss: 0.6652 - accuracy: 0.6000 - val_loss: 0.7166 - val_accuracy: 0.5500\n",
      "Epoch 28/100\n",
      "6/6 [==============================] - 0s 4ms/step - loss: 0.6516 - accuracy: 0.6389 - val_loss: 0.7151 - val_accuracy: 0.5500\n",
      "Epoch 29/100\n",
      "6/6 [==============================] - 0s 4ms/step - loss: 0.6536 - accuracy: 0.5833 - val_loss: 0.7173 - val_accuracy: 0.5500\n",
      "Epoch 30/100\n",
      "6/6 [==============================] - 0s 4ms/step - loss: 0.6596 - accuracy: 0.6056 - val_loss: 0.7204 - val_accuracy: 0.5500\n",
      "Epoch 31/100\n",
      "6/6 [==============================] - 0s 4ms/step - loss: 0.6805 - accuracy: 0.5611 - val_loss: 0.7230 - val_accuracy: 0.5500\n",
      "Epoch 32/100\n",
      "6/6 [==============================] - 0s 4ms/step - loss: 0.6555 - accuracy: 0.6056 - val_loss: 0.7243 - val_accuracy: 0.5500\n",
      "Epoch 33/100\n",
      "6/6 [==============================] - 0s 4ms/step - loss: 0.6820 - accuracy: 0.6056 - val_loss: 0.7247 - val_accuracy: 0.5500\n",
      "Epoch 34/100\n",
      "6/6 [==============================] - 0s 4ms/step - loss: 0.6373 - accuracy: 0.6278 - val_loss: 0.7259 - val_accuracy: 0.5500\n",
      "Epoch 35/100\n",
      "6/6 [==============================] - 0s 4ms/step - loss: 0.6678 - accuracy: 0.6667 - val_loss: 0.7254 - val_accuracy: 0.5500\n",
      "Epoch 36/100\n",
      "6/6 [==============================] - 0s 4ms/step - loss: 0.6586 - accuracy: 0.6000 - val_loss: 0.7261 - val_accuracy: 0.5500\n",
      "Epoch 37/100\n",
      "6/6 [==============================] - 0s 4ms/step - loss: 0.6351 - accuracy: 0.6222 - val_loss: 0.7275 - val_accuracy: 0.5500\n",
      "Epoch 38/100\n",
      "6/6 [==============================] - 0s 4ms/step - loss: 0.6494 - accuracy: 0.6389 - val_loss: 0.7268 - val_accuracy: 0.5500\n",
      "Epoch 39/100\n",
      "6/6 [==============================] - 0s 4ms/step - loss: 0.6619 - accuracy: 0.5944 - val_loss: 0.7257 - val_accuracy: 0.5500\n",
      "Epoch 40/100\n",
      "6/6 [==============================] - 0s 4ms/step - loss: 0.6463 - accuracy: 0.6500 - val_loss: 0.7252 - val_accuracy: 0.5500\n",
      "Epoch 41/100\n",
      "6/6 [==============================] - 0s 4ms/step - loss: 0.6745 - accuracy: 0.6000 - val_loss: 0.7268 - val_accuracy: 0.5500\n",
      "Epoch 42/100\n",
      "6/6 [==============================] - 0s 4ms/step - loss: 0.6850 - accuracy: 0.5889 - val_loss: 0.7299 - val_accuracy: 0.5500\n",
      "Epoch 43/100\n",
      "6/6 [==============================] - 0s 4ms/step - loss: 0.6387 - accuracy: 0.6278 - val_loss: 0.7324 - val_accuracy: 0.5500\n",
      "Epoch 44/100\n",
      "6/6 [==============================] - 0s 4ms/step - loss: 0.6497 - accuracy: 0.6056 - val_loss: 0.7333 - val_accuracy: 0.5500\n",
      "Epoch 45/100\n",
      "6/6 [==============================] - 0s 4ms/step - loss: 0.6475 - accuracy: 0.6333 - val_loss: 0.7340 - val_accuracy: 0.5500\n",
      "Epoch 46/100\n",
      "6/6 [==============================] - 0s 4ms/step - loss: 0.6383 - accuracy: 0.6389 - val_loss: 0.7379 - val_accuracy: 0.5500\n",
      "Epoch 47/100\n",
      "6/6 [==============================] - 0s 4ms/step - loss: 0.6303 - accuracy: 0.6389 - val_loss: 0.7403 - val_accuracy: 0.5500\n",
      "Epoch 48/100\n",
      "6/6 [==============================] - 0s 4ms/step - loss: 0.6708 - accuracy: 0.5889 - val_loss: 0.7420 - val_accuracy: 0.5500\n",
      "Epoch 49/100\n",
      "6/6 [==============================] - 0s 4ms/step - loss: 0.6415 - accuracy: 0.6222 - val_loss: 0.7422 - val_accuracy: 0.5500\n",
      "Epoch 50/100\n",
      "6/6 [==============================] - 0s 4ms/step - loss: 0.6576 - accuracy: 0.6056 - val_loss: 0.7421 - val_accuracy: 0.5500\n",
      "Epoch 51/100\n",
      "6/6 [==============================] - 0s 4ms/step - loss: 0.6398 - accuracy: 0.5722 - val_loss: 0.7432 - val_accuracy: 0.5500\n",
      "Epoch 52/100\n",
      "6/6 [==============================] - 0s 4ms/step - loss: 0.6590 - accuracy: 0.5556 - val_loss: 0.7457 - val_accuracy: 0.5500\n",
      "Epoch 53/100\n",
      "6/6 [==============================] - 0s 4ms/step - loss: 0.6447 - accuracy: 0.5778 - val_loss: 0.7461 - val_accuracy: 0.5500\n",
      "Epoch 54/100\n",
      "6/6 [==============================] - 0s 4ms/step - loss: 0.6473 - accuracy: 0.5722 - val_loss: 0.7464 - val_accuracy: 0.5500\n",
      "Epoch 55/100\n",
      "6/6 [==============================] - 0s 4ms/step - loss: 0.6325 - accuracy: 0.6278 - val_loss: 0.7442 - val_accuracy: 0.5500\n",
      "Epoch 56/100\n",
      "6/6 [==============================] - 0s 4ms/step - loss: 0.6541 - accuracy: 0.6167 - val_loss: 0.7428 - val_accuracy: 0.5500\n",
      "Epoch 57/100\n",
      "6/6 [==============================] - 0s 4ms/step - loss: 0.6576 - accuracy: 0.6333 - val_loss: 0.7410 - val_accuracy: 0.5500\n",
      "Epoch 58/100\n",
      "6/6 [==============================] - 0s 4ms/step - loss: 0.6545 - accuracy: 0.5944 - val_loss: 0.7414 - val_accuracy: 0.5500\n",
      "Epoch 59/100\n",
      "6/6 [==============================] - 0s 4ms/step - loss: 0.6363 - accuracy: 0.6389 - val_loss: 0.7407 - val_accuracy: 0.6000\n",
      "Epoch 60/100\n",
      "6/6 [==============================] - 0s 4ms/step - loss: 0.6440 - accuracy: 0.6556 - val_loss: 0.7410 - val_accuracy: 0.6000\n",
      "Epoch 61/100\n",
      "6/6 [==============================] - 0s 4ms/step - loss: 0.6536 - accuracy: 0.5833 - val_loss: 0.7394 - val_accuracy: 0.6000\n",
      "Epoch 62/100\n",
      "6/6 [==============================] - 0s 4ms/step - loss: 0.6473 - accuracy: 0.6167 - val_loss: 0.7403 - val_accuracy: 0.6000\n",
      "Epoch 63/100\n",
      "6/6 [==============================] - 0s 4ms/step - loss: 0.6322 - accuracy: 0.6111 - val_loss: 0.7445 - val_accuracy: 0.5500\n",
      "Epoch 64/100\n",
      "6/6 [==============================] - 0s 4ms/step - loss: 0.6559 - accuracy: 0.6222 - val_loss: 0.7470 - val_accuracy: 0.5500\n",
      "Epoch 65/100\n",
      "6/6 [==============================] - 0s 4ms/step - loss: 0.6400 - accuracy: 0.6333 - val_loss: 0.7465 - val_accuracy: 0.5500\n",
      "Epoch 66/100\n",
      "6/6 [==============================] - 0s 4ms/step - loss: 0.6289 - accuracy: 0.6111 - val_loss: 0.7460 - val_accuracy: 0.5500\n",
      "Epoch 67/100\n",
      "6/6 [==============================] - 0s 4ms/step - loss: 0.6285 - accuracy: 0.6500 - val_loss: 0.7480 - val_accuracy: 0.5500\n",
      "Epoch 68/100\n",
      "6/6 [==============================] - 0s 4ms/step - loss: 0.6426 - accuracy: 0.5833 - val_loss: 0.7498 - val_accuracy: 0.5500\n",
      "Epoch 69/100\n",
      "6/6 [==============================] - 0s 4ms/step - loss: 0.6262 - accuracy: 0.5889 - val_loss: 0.7525 - val_accuracy: 0.5500\n",
      "Epoch 70/100\n",
      "6/6 [==============================] - 0s 4ms/step - loss: 0.6304 - accuracy: 0.6333 - val_loss: 0.7532 - val_accuracy: 0.5500\n",
      "Epoch 71/100\n",
      "6/6 [==============================] - 0s 4ms/step - loss: 0.6431 - accuracy: 0.6389 - val_loss: 0.7568 - val_accuracy: 0.5500\n",
      "Epoch 72/100\n",
      "6/6 [==============================] - 0s 4ms/step - loss: 0.6371 - accuracy: 0.6056 - val_loss: 0.7606 - val_accuracy: 0.5500\n",
      "Epoch 73/100\n",
      "6/6 [==============================] - 0s 4ms/step - loss: 0.6337 - accuracy: 0.6278 - val_loss: 0.7627 - val_accuracy: 0.5500\n",
      "Epoch 74/100\n",
      "6/6 [==============================] - 0s 4ms/step - loss: 0.6255 - accuracy: 0.6667 - val_loss: 0.7638 - val_accuracy: 0.5500\n",
      "Epoch 75/100\n",
      "6/6 [==============================] - 0s 4ms/step - loss: 0.6201 - accuracy: 0.6500 - val_loss: 0.7690 - val_accuracy: 0.5500\n",
      "Epoch 76/100\n",
      "6/6 [==============================] - 0s 4ms/step - loss: 0.6378 - accuracy: 0.6278 - val_loss: 0.7703 - val_accuracy: 0.5500\n",
      "Epoch 77/100\n",
      "6/6 [==============================] - 0s 4ms/step - loss: 0.6465 - accuracy: 0.6111 - val_loss: 0.7710 - val_accuracy: 0.5500\n",
      "Epoch 78/100\n",
      "6/6 [==============================] - 0s 4ms/step - loss: 0.6298 - accuracy: 0.6500 - val_loss: 0.7691 - val_accuracy: 0.5500\n",
      "Epoch 79/100\n",
      "6/6 [==============================] - 0s 4ms/step - loss: 0.6336 - accuracy: 0.6278 - val_loss: 0.7675 - val_accuracy: 0.5500\n",
      "Epoch 80/100\n",
      "6/6 [==============================] - 0s 4ms/step - loss: 0.6228 - accuracy: 0.6333 - val_loss: 0.7667 - val_accuracy: 0.5500\n",
      "Epoch 81/100\n",
      "6/6 [==============================] - 0s 4ms/step - loss: 0.6491 - accuracy: 0.6611 - val_loss: 0.7628 - val_accuracy: 0.5500\n",
      "Epoch 82/100\n",
      "6/6 [==============================] - 0s 4ms/step - loss: 0.6349 - accuracy: 0.6500 - val_loss: 0.7584 - val_accuracy: 0.5500\n",
      "Epoch 83/100\n",
      "6/6 [==============================] - 0s 4ms/step - loss: 0.6251 - accuracy: 0.6111 - val_loss: 0.7565 - val_accuracy: 0.5500\n",
      "Epoch 84/100\n",
      "6/6 [==============================] - 0s 4ms/step - loss: 0.6477 - accuracy: 0.6111 - val_loss: 0.7558 - val_accuracy: 0.6000\n",
      "Epoch 85/100\n",
      "6/6 [==============================] - 0s 4ms/step - loss: 0.6307 - accuracy: 0.6278 - val_loss: 0.7519 - val_accuracy: 0.6000\n",
      "Epoch 86/100\n",
      "6/6 [==============================] - 0s 4ms/step - loss: 0.6416 - accuracy: 0.6667 - val_loss: 0.7494 - val_accuracy: 0.6000\n",
      "Epoch 87/100\n",
      "6/6 [==============================] - 0s 4ms/step - loss: 0.6521 - accuracy: 0.6056 - val_loss: 0.7477 - val_accuracy: 0.6000\n",
      "Epoch 88/100\n",
      "6/6 [==============================] - 0s 4ms/step - loss: 0.6516 - accuracy: 0.6444 - val_loss: 0.7436 - val_accuracy: 0.6000\n",
      "Epoch 89/100\n",
      "6/6 [==============================] - 0s 4ms/step - loss: 0.6500 - accuracy: 0.6667 - val_loss: 0.7418 - val_accuracy: 0.6000\n",
      "Epoch 90/100\n",
      "6/6 [==============================] - 0s 4ms/step - loss: 0.6682 - accuracy: 0.6000 - val_loss: 0.7417 - val_accuracy: 0.6000\n",
      "Epoch 91/100\n",
      "6/6 [==============================] - 0s 4ms/step - loss: 0.6341 - accuracy: 0.6222 - val_loss: 0.7436 - val_accuracy: 0.6000\n",
      "Epoch 92/100\n",
      "6/6 [==============================] - 0s 4ms/step - loss: 0.6364 - accuracy: 0.6222 - val_loss: 0.7473 - val_accuracy: 0.6000\n",
      "Epoch 93/100\n",
      "6/6 [==============================] - 0s 4ms/step - loss: 0.6178 - accuracy: 0.6611 - val_loss: 0.7488 - val_accuracy: 0.6000\n",
      "Epoch 94/100\n",
      "6/6 [==============================] - 0s 4ms/step - loss: 0.6424 - accuracy: 0.6389 - val_loss: 0.7503 - val_accuracy: 0.6000\n",
      "Epoch 95/100\n",
      "6/6 [==============================] - 0s 4ms/step - loss: 0.6421 - accuracy: 0.6556 - val_loss: 0.7508 - val_accuracy: 0.6000\n",
      "Epoch 96/100\n",
      "6/6 [==============================] - 0s 4ms/step - loss: 0.6515 - accuracy: 0.6111 - val_loss: 0.7485 - val_accuracy: 0.6000\n",
      "Epoch 97/100\n",
      "6/6 [==============================] - 0s 4ms/step - loss: 0.6257 - accuracy: 0.6333 - val_loss: 0.7472 - val_accuracy: 0.6000\n",
      "Epoch 98/100\n",
      "6/6 [==============================] - 0s 4ms/step - loss: 0.6292 - accuracy: 0.6389 - val_loss: 0.7472 - val_accuracy: 0.6000\n",
      "Epoch 99/100\n",
      "6/6 [==============================] - 0s 4ms/step - loss: 0.6268 - accuracy: 0.6667 - val_loss: 0.7496 - val_accuracy: 0.6000\n",
      "Epoch 100/100\n",
      "6/6 [==============================] - 0s 4ms/step - loss: 0.6209 - accuracy: 0.6222 - val_loss: 0.7501 - val_accuracy: 0.6000\n",
      "1/1 [==============================] - 0s 12ms/step - loss: 0.6639 - accuracy: 0.5806\n",
      "Accuracy: 0.58\n"
     ]
    }
   ],
   "source": [
    "from keras.layers import Dense, Dropout\n",
    "from keras.optimizers import Adam\n",
    "from keras.models import Sequential\n",
    "from sklearn.preprocessing import LabelEncoder, StandardScaler\n",
    "\n",
    "# Normalize/standardize the input features\n",
    "scaler = StandardScaler()\n",
    "X_train = scaler.fit_transform(X_train)\n",
    "X_test = scaler.transform(X_test)\n",
    "\n",
    "# Encode the output labels\n",
    "encoder = LabelEncoder()\n",
    "y_train = encoder.fit_transform(y_train)\n",
    "y_test = encoder.transform(y_test)\n",
    "\n",
    "# Build the model\n",
    "model = Sequential()\n",
    "model.add(Dense(64, input_dim=X.shape[1], activation='relu'))\n",
    "model.add(Dropout(0.5))\n",
    "model.add(Dense(32, activation='relu'))\n",
    "model.add(Dropout(0.5))\n",
    "model.add(Dense(1, activation='sigmoid'))\n",
    "\n",
    "# Compile the model\n",
    "optimizer = Adam(learning_rate=0.001)\n",
    "model.compile(loss='binary_crossentropy', optimizer=optimizer, metrics=['accuracy'])\n",
    "\n",
    "# Fit the model\n",
    "model.fit(X_train, y_train, epochs=100, batch_size=32, validation_split=0.1)\n",
    "\n",
    "# Evaluate the model\n",
    "scores = model.evaluate(X_test, y_test)\n",
    "print(f'Accuracy: {scores[1]:.2f}')"
   ],
   "metadata": {
    "collapsed": false,
    "pycharm": {
     "name": "#%%\n"
    }
   }
  },
  {
   "cell_type": "markdown",
   "source": [
    "### Confusion Matrix Heatmap\n",
    "A graphical representation of the confusion matrix, showing the distribution of true positives (TP), false positives (FP), true negatives (TN), and false negatives (FN) in your model's predictions.\n",
    "\n",
    "Explanation: The heatmap displays the number of instances for each combination of true and predicted labels. The diagonal elements represent the correct predictions (TP and TN), while the off-diagonal elements represent the incorrect predictions (FP and FN). A well-performing model will have higher values along the diagonal and lower values in the off-diagonal elements."
   ],
   "metadata": {
    "collapsed": false,
    "pycharm": {
     "name": "#%% md\n"
    }
   }
  },
  {
   "cell_type": "code",
   "execution_count": 55,
   "outputs": [
    {
     "name": "stdout",
     "output_type": "stream",
     "text": [
      "1/1 [==============================] - 0s 11ms/step\n",
      "1/1 [==============================] - 0s 11ms/step\n",
      "Confusion Matrix:\n",
      " [[16  0]\n",
      " [13  2]]\n"
     ]
    },
    {
     "data": {
      "text/plain": "<Figure size 600x600 with 1 Axes>",
      "image/png": "[encoded data removed]"
     },
     "metadata": {},
     "output_type": "display_data"
    }
   ],
   "source": [
    "from sklearn.metrics import confusion_matrix\n",
    "import seaborn as sns\n",
    "import matplotlib.pyplot as plt\n",
    "\n",
    "# Make predictions on the test set\n",
    "y_pred_int = (model.predict(X_test) > 0.5).astype(\"int32\")\n",
    "y_pred = model.predict(X_test)\n",
    "\n",
    "# Calculate the confusion matrix\n",
    "cm = confusion_matrix(y_test, y_pred_int)\n",
    "print('Confusion Matrix:\\n', cm)\n",
    "\n",
    "# Plot the confusion matrix as a heatmap\n",
    "plt.figure(figsize=(6, 6))\n",
    "sns.heatmap(cm, annot=True, fmt='d', cmap='Blues', cbar=False, xticklabels=encoder.classes_,\n",
    "            yticklabels=encoder.classes_)\n",
    "plt.xlabel('Predicted')\n",
    "plt.ylabel('True')\n",
    "plt.title('Confusion Matrix')\n",
    "plt.show()"
   ],
   "metadata": {
    "collapsed": false,
    "pycharm": {
     "name": "#%%\n"
    }
   }
  },
  {
   "cell_type": "markdown",
   "source": [
    "### Model Training History\n",
    "A visualization of the model's training progress, showing how the loss and accuracy (or other metrics) evolve over the training epochs."
   ],
   "metadata": {
    "collapsed": false,
    "pycharm": {
     "name": "#%% md\n"
    }
   }
  },
  {
   "cell_type": "code",
   "execution_count": 91,
   "outputs": [
    {
     "name": "stdout",
     "output_type": "stream",
     "text": [
      "Epoch 1/500\n",
      "6/6 [==============================] - 0s 7ms/step - loss: 0.4034 - accuracy: 0.8000 - val_loss: 1.0431 - val_accuracy: 0.5500\n",
      "Epoch 2/500\n",
      "6/6 [==============================] - 0s 4ms/step - loss: 0.4006 - accuracy: 0.8111 - val_loss: 1.0526 - val_accuracy: 0.5500\n",
      "Epoch 3/500\n",
      "6/6 [==============================] - 0s 4ms/step - loss: 0.4717 - accuracy: 0.7444 - val_loss: 1.0545 - val_accuracy: 0.5500\n",
      "Epoch 4/500\n",
      "6/6 [==============================] - 0s 4ms/step - loss: 0.4400 - accuracy: 0.7833 - val_loss: 1.0366 - val_accuracy: 0.5500\n",
      "Epoch 5/500\n",
      "6/6 [==============================] - 0s 4ms/step - loss: 0.4364 - accuracy: 0.7722 - val_loss: 1.0320 - val_accuracy: 0.5500\n",
      "Epoch 6/500\n",
      "6/6 [==============================] - 0s 4ms/step - loss: 0.4684 - accuracy: 0.7333 - val_loss: 1.0325 - val_accuracy: 0.5500\n",
      "Epoch 7/500\n",
      "6/6 [==============================] - 0s 4ms/step - loss: 0.4411 - accuracy: 0.7722 - val_loss: 1.0126 - val_accuracy: 0.5500\n",
      "Epoch 8/500\n",
      "6/6 [==============================] - 0s 4ms/step - loss: 0.4350 - accuracy: 0.8222 - val_loss: 1.0047 - val_accuracy: 0.5500\n",
      "Epoch 9/500\n",
      "6/6 [==============================] - 0s 4ms/step - loss: 0.4168 - accuracy: 0.7833 - val_loss: 1.0035 - val_accuracy: 0.5500\n",
      "Epoch 10/500\n",
      "6/6 [==============================] - 0s 4ms/step - loss: 0.4030 - accuracy: 0.8167 - val_loss: 1.0130 - val_accuracy: 0.6000\n",
      "Epoch 11/500\n",
      "6/6 [==============================] - 0s 4ms/step - loss: 0.4949 - accuracy: 0.7722 - val_loss: 1.0157 - val_accuracy: 0.6000\n",
      "Epoch 12/500\n",
      "6/6 [==============================] - 0s 4ms/step - loss: 0.4569 - accuracy: 0.7611 - val_loss: 1.0137 - val_accuracy: 0.6000\n",
      "Epoch 13/500\n",
      "6/6 [==============================] - 0s 4ms/step - loss: 0.4910 - accuracy: 0.7667 - val_loss: 1.0023 - val_accuracy: 0.5500\n",
      "Epoch 14/500\n",
      "6/6 [==============================] - 0s 4ms/step - loss: 0.4503 - accuracy: 0.8000 - val_loss: 1.0080 - val_accuracy: 0.5500\n",
      "Epoch 15/500\n",
      "6/6 [==============================] - 0s 4ms/step - loss: 0.4670 - accuracy: 0.7833 - val_loss: 1.0125 - val_accuracy: 0.5500\n",
      "Epoch 16/500\n",
      "6/6 [==============================] - 0s 4ms/step - loss: 0.4829 - accuracy: 0.7167 - val_loss: 1.0138 - val_accuracy: 0.5500\n",
      "Epoch 17/500\n",
      "6/6 [==============================] - 0s 4ms/step - loss: 0.4329 - accuracy: 0.7667 - val_loss: 1.0194 - val_accuracy: 0.5500\n",
      "Epoch 18/500\n",
      "6/6 [==============================] - 0s 4ms/step - loss: 0.4208 - accuracy: 0.8056 - val_loss: 1.0307 - val_accuracy: 0.6000\n",
      "Epoch 19/500\n",
      "6/6 [==============================] - 0s 4ms/step - loss: 0.4277 - accuracy: 0.8333 - val_loss: 1.0245 - val_accuracy: 0.5500\n",
      "Epoch 20/500\n",
      "6/6 [==============================] - 0s 4ms/step - loss: 0.4529 - accuracy: 0.7667 - val_loss: 1.0101 - val_accuracy: 0.5500\n",
      "Epoch 21/500\n",
      "6/6 [==============================] - 0s 4ms/step - loss: 0.4329 - accuracy: 0.8056 - val_loss: 0.9999 - val_accuracy: 0.5500\n",
      "Epoch 22/500\n",
      "6/6 [==============================] - 0s 4ms/step - loss: 0.4346 - accuracy: 0.7778 - val_loss: 0.9961 - val_accuracy: 0.5500\n",
      "Epoch 23/500\n",
      "6/6 [==============================] - 0s 4ms/step - loss: 0.4209 - accuracy: 0.7667 - val_loss: 1.0001 - val_accuracy: 0.6000\n",
      "Epoch 24/500\n",
      "6/6 [==============================] - 0s 4ms/step - loss: 0.5064 - accuracy: 0.7611 - val_loss: 1.0202 - val_accuracy: 0.6000\n",
      "Epoch 25/500\n",
      "6/6 [==============================] - 0s 4ms/step - loss: 0.4322 - accuracy: 0.7833 - val_loss: 1.0229 - val_accuracy: 0.6000\n",
      "Epoch 26/500\n",
      "6/6 [==============================] - 0s 4ms/step - loss: 0.4373 - accuracy: 0.8278 - val_loss: 1.0258 - val_accuracy: 0.6000\n",
      "Epoch 27/500\n",
      "6/6 [==============================] - 0s 4ms/step - loss: 0.4715 - accuracy: 0.7722 - val_loss: 1.0378 - val_accuracy: 0.6000\n",
      "Epoch 28/500\n",
      "6/6 [==============================] - 0s 4ms/step - loss: 0.4811 - accuracy: 0.7667 - val_loss: 1.0313 - val_accuracy: 0.6000\n",
      "Epoch 29/500\n",
      "6/6 [==============================] - 0s 4ms/step - loss: 0.4868 - accuracy: 0.7722 - val_loss: 1.0441 - val_accuracy: 0.6000\n",
      "Epoch 30/500\n",
      "6/6 [==============================] - 0s 4ms/step - loss: 0.4507 - accuracy: 0.7389 - val_loss: 1.0475 - val_accuracy: 0.6000\n",
      "Epoch 31/500\n",
      "6/6 [==============================] - 0s 4ms/step - loss: 0.4412 - accuracy: 0.7667 - val_loss: 1.0560 - val_accuracy: 0.6000\n",
      "Epoch 32/500\n",
      "6/6 [==============================] - 0s 4ms/step - loss: 0.4317 - accuracy: 0.7833 - val_loss: 1.0695 - val_accuracy: 0.6000\n",
      "Epoch 33/500\n",
      "6/6 [==============================] - 0s 4ms/step - loss: 0.4320 - accuracy: 0.7500 - val_loss: 1.0686 - val_accuracy: 0.6000\n",
      "Epoch 34/500\n",
      "6/6 [==============================] - 0s 4ms/step - loss: 0.4647 - accuracy: 0.7667 - val_loss: 1.0606 - val_accuracy: 0.6000\n",
      "Epoch 35/500\n",
      "6/6 [==============================] - 0s 4ms/step - loss: 0.5069 - accuracy: 0.7722 - val_loss: 1.0569 - val_accuracy: 0.6000\n",
      "Epoch 36/500\n",
      "6/6 [==============================] - 0s 4ms/step - loss: 0.4419 - accuracy: 0.7889 - val_loss: 1.0526 - val_accuracy: 0.5500\n",
      "Epoch 37/500\n",
      "6/6 [==============================] - 0s 4ms/step - loss: 0.4861 - accuracy: 0.7667 - val_loss: 1.0532 - val_accuracy: 0.5500\n",
      "Epoch 38/500\n",
      "6/6 [==============================] - 0s 4ms/step - loss: 0.4783 - accuracy: 0.7778 - val_loss: 1.0382 - val_accuracy: 0.5500\n",
      "Epoch 39/500\n",
      "6/6 [==============================] - 0s 4ms/step - loss: 0.4757 - accuracy: 0.7556 - val_loss: 1.0453 - val_accuracy: 0.5500\n",
      "Epoch 40/500\n",
      "6/6 [==============================] - 0s 4ms/step - loss: 0.4165 - accuracy: 0.7889 - val_loss: 1.0540 - val_accuracy: 0.6000\n",
      "Epoch 41/500\n",
      "6/6 [==============================] - 0s 4ms/step - loss: 0.4539 - accuracy: 0.7611 - val_loss: 1.0536 - val_accuracy: 0.6000\n",
      "Epoch 42/500\n",
      "6/6 [==============================] - 0s 4ms/step - loss: 0.4819 - accuracy: 0.7333 - val_loss: 1.0405 - val_accuracy: 0.6000\n",
      "Epoch 43/500\n",
      "6/6 [==============================] - 0s 4ms/step - loss: 0.4432 - accuracy: 0.7889 - val_loss: 1.0390 - val_accuracy: 0.6000\n",
      "Epoch 44/500\n",
      "6/6 [==============================] - 0s 4ms/step - loss: 0.4373 - accuracy: 0.7667 - val_loss: 1.0444 - val_accuracy: 0.6000\n",
      "Epoch 45/500\n",
      "6/6 [==============================] - 0s 4ms/step - loss: 0.4722 - accuracy: 0.7722 - val_loss: 1.0474 - val_accuracy: 0.6000\n",
      "Epoch 46/500\n",
      "6/6 [==============================] - 0s 4ms/step - loss: 0.4934 - accuracy: 0.7889 - val_loss: 1.0393 - val_accuracy: 0.6000\n",
      "Epoch 47/500\n",
      "6/6 [==============================] - 0s 4ms/step - loss: 0.4779 - accuracy: 0.7500 - val_loss: 1.0381 - val_accuracy: 0.6000\n",
      "Epoch 48/500\n",
      "6/6 [==============================] - 0s 4ms/step - loss: 0.4324 - accuracy: 0.7889 - val_loss: 1.0193 - val_accuracy: 0.6000\n",
      "Epoch 49/500\n",
      "6/6 [==============================] - 0s 4ms/step - loss: 0.4087 - accuracy: 0.8000 - val_loss: 1.0144 - val_accuracy: 0.6000\n",
      "Epoch 50/500\n",
      "6/6 [==============================] - 0s 4ms/step - loss: 0.4222 - accuracy: 0.8111 - val_loss: 1.0185 - val_accuracy: 0.6000\n",
      "Epoch 51/500\n",
      "6/6 [==============================] - 0s 4ms/step - loss: 0.4364 - accuracy: 0.7889 - val_loss: 1.0316 - val_accuracy: 0.6000\n",
      "Epoch 52/500\n",
      "6/6 [==============================] - 0s 4ms/step - loss: 0.4443 - accuracy: 0.7778 - val_loss: 1.0380 - val_accuracy: 0.6000\n",
      "Epoch 53/500\n",
      "6/6 [==============================] - 0s 4ms/step - loss: 0.4327 - accuracy: 0.7944 - val_loss: 1.0508 - val_accuracy: 0.6000\n",
      "Epoch 54/500\n",
      "6/6 [==============================] - 0s 4ms/step - loss: 0.4324 - accuracy: 0.7667 - val_loss: 1.0557 - val_accuracy: 0.6000\n",
      "Epoch 55/500\n",
      "6/6 [==============================] - 0s 4ms/step - loss: 0.4562 - accuracy: 0.8111 - val_loss: 1.0155 - val_accuracy: 0.6000\n",
      "Epoch 56/500\n",
      "6/6 [==============================] - 0s 4ms/step - loss: 0.4558 - accuracy: 0.7500 - val_loss: 0.9794 - val_accuracy: 0.6000\n",
      "Epoch 57/500\n",
      "6/6 [==============================] - 0s 4ms/step - loss: 0.4627 - accuracy: 0.7833 - val_loss: 0.9586 - val_accuracy: 0.6000\n",
      "Epoch 58/500\n",
      "6/6 [==============================] - 0s 4ms/step - loss: 0.4655 - accuracy: 0.7722 - val_loss: 0.9768 - val_accuracy: 0.6000\n",
      "Epoch 59/500\n",
      "6/6 [==============================] - 0s 4ms/step - loss: 0.4533 - accuracy: 0.7556 - val_loss: 1.0038 - val_accuracy: 0.6000\n",
      "Epoch 60/500\n",
      "6/6 [==============================] - 0s 4ms/step - loss: 0.4221 - accuracy: 0.8167 - val_loss: 1.0322 - val_accuracy: 0.6000\n",
      "Epoch 61/500\n",
      "6/6 [==============================] - 0s 4ms/step - loss: 0.4393 - accuracy: 0.7833 - val_loss: 1.0434 - val_accuracy: 0.6000\n",
      "Epoch 62/500\n",
      "6/6 [==============================] - 0s 4ms/step - loss: 0.4447 - accuracy: 0.7889 - val_loss: 1.0190 - val_accuracy: 0.6000\n",
      "Epoch 63/500\n",
      "6/6 [==============================] - 0s 4ms/step - loss: 0.4463 - accuracy: 0.7611 - val_loss: 1.0069 - val_accuracy: 0.6000\n",
      "Epoch 64/500\n",
      "6/6 [==============================] - 0s 4ms/step - loss: 0.4602 - accuracy: 0.7944 - val_loss: 0.9985 - val_accuracy: 0.6000\n",
      "Epoch 65/500\n",
      "6/6 [==============================] - 0s 4ms/step - loss: 0.4418 - accuracy: 0.7611 - val_loss: 0.9930 - val_accuracy: 0.6000\n",
      "Epoch 66/500\n",
      "6/6 [==============================] - 0s 4ms/step - loss: 0.4157 - accuracy: 0.8222 - val_loss: 0.9988 - val_accuracy: 0.6000\n",
      "Epoch 67/500\n",
      "6/6 [==============================] - 0s 4ms/step - loss: 0.4475 - accuracy: 0.7889 - val_loss: 1.0007 - val_accuracy: 0.6000\n",
      "Epoch 68/500\n",
      "6/6 [==============================] - 0s 4ms/step - loss: 0.4264 - accuracy: 0.8056 - val_loss: 1.0155 - val_accuracy: 0.6000\n",
      "Epoch 69/500\n",
      "6/6 [==============================] - 0s 4ms/step - loss: 0.4222 - accuracy: 0.8167 - val_loss: 1.0344 - val_accuracy: 0.6000\n",
      "Epoch 70/500\n",
      "6/6 [==============================] - 0s 4ms/step - loss: 0.4443 - accuracy: 0.8056 - val_loss: 1.0163 - val_accuracy: 0.6000\n",
      "Epoch 71/500\n",
      "6/6 [==============================] - 0s 4ms/step - loss: 0.4681 - accuracy: 0.7778 - val_loss: 1.0194 - val_accuracy: 0.6000\n",
      "Epoch 72/500\n",
      "6/6 [==============================] - 0s 4ms/step - loss: 0.4320 - accuracy: 0.7889 - val_loss: 0.9940 - val_accuracy: 0.6000\n",
      "Epoch 73/500\n",
      "6/6 [==============================] - 0s 4ms/step - loss: 0.4695 - accuracy: 0.7556 - val_loss: 0.9893 - val_accuracy: 0.6000\n",
      "Epoch 74/500\n",
      "6/6 [==============================] - 0s 4ms/step - loss: 0.4643 - accuracy: 0.7444 - val_loss: 0.9916 - val_accuracy: 0.6000\n",
      "Epoch 75/500\n",
      "6/6 [==============================] - 0s 4ms/step - loss: 0.4152 - accuracy: 0.7833 - val_loss: 0.9965 - val_accuracy: 0.6000\n",
      "Epoch 76/500\n",
      "6/6 [==============================] - 0s 4ms/step - loss: 0.4753 - accuracy: 0.7611 - val_loss: 0.9953 - val_accuracy: 0.6000\n",
      "Epoch 77/500\n",
      "6/6 [==============================] - 0s 4ms/step - loss: 0.3951 - accuracy: 0.8111 - val_loss: 1.0101 - val_accuracy: 0.6000\n",
      "Epoch 78/500\n",
      "6/6 [==============================] - 0s 4ms/step - loss: 0.4221 - accuracy: 0.7833 - val_loss: 1.0311 - val_accuracy: 0.6000\n",
      "Epoch 79/500\n",
      "6/6 [==============================] - 0s 4ms/step - loss: 0.4585 - accuracy: 0.7444 - val_loss: 1.0258 - val_accuracy: 0.6000\n",
      "Epoch 80/500\n",
      "6/6 [==============================] - 0s 4ms/step - loss: 0.4337 - accuracy: 0.7611 - val_loss: 1.0404 - val_accuracy: 0.6000\n",
      "Epoch 81/500\n",
      "6/6 [==============================] - 0s 4ms/step - loss: 0.4304 - accuracy: 0.8222 - val_loss: 1.0466 - val_accuracy: 0.6000\n",
      "Epoch 82/500\n",
      "6/6 [==============================] - 0s 4ms/step - loss: 0.4387 - accuracy: 0.7944 - val_loss: 1.0339 - val_accuracy: 0.6000\n",
      "Epoch 83/500\n",
      "6/6 [==============================] - 0s 4ms/step - loss: 0.4412 - accuracy: 0.7944 - val_loss: 1.0318 - val_accuracy: 0.5500\n",
      "Epoch 84/500\n",
      "6/6 [==============================] - 0s 4ms/step - loss: 0.4631 - accuracy: 0.7556 - val_loss: 1.0292 - val_accuracy: 0.5500\n",
      "Epoch 85/500\n",
      "6/6 [==============================] - 0s 4ms/step - loss: 0.4153 - accuracy: 0.7944 - val_loss: 1.0253 - val_accuracy: 0.5500\n",
      "Epoch 86/500\n",
      "6/6 [==============================] - 0s 4ms/step - loss: 0.4272 - accuracy: 0.7778 - val_loss: 1.0273 - val_accuracy: 0.5500\n",
      "Epoch 87/500\n",
      "6/6 [==============================] - 0s 4ms/step - loss: 0.4277 - accuracy: 0.7833 - val_loss: 1.0244 - val_accuracy: 0.5500\n",
      "Epoch 88/500\n",
      "6/6 [==============================] - 0s 4ms/step - loss: 0.4308 - accuracy: 0.8056 - val_loss: 1.0127 - val_accuracy: 0.5500\n",
      "Epoch 89/500\n",
      "6/6 [==============================] - 0s 4ms/step - loss: 0.4470 - accuracy: 0.7722 - val_loss: 1.0085 - val_accuracy: 0.5500\n",
      "Epoch 90/500\n",
      "6/6 [==============================] - 0s 4ms/step - loss: 0.4255 - accuracy: 0.7833 - val_loss: 1.0198 - val_accuracy: 0.5500\n",
      "Epoch 91/500\n",
      "6/6 [==============================] - 0s 4ms/step - loss: 0.4421 - accuracy: 0.7667 - val_loss: 1.0273 - val_accuracy: 0.5500\n",
      "Epoch 92/500\n",
      "6/6 [==============================] - 0s 4ms/step - loss: 0.4454 - accuracy: 0.7667 - val_loss: 1.0349 - val_accuracy: 0.5500\n",
      "Epoch 93/500\n",
      "6/6 [==============================] - 0s 4ms/step - loss: 0.4588 - accuracy: 0.7833 - val_loss: 1.0521 - val_accuracy: 0.5500\n",
      "Epoch 94/500\n",
      "6/6 [==============================] - 0s 4ms/step - loss: 0.4538 - accuracy: 0.7667 - val_loss: 1.0601 - val_accuracy: 0.5500\n",
      "Epoch 95/500\n",
      "6/6 [==============================] - 0s 4ms/step - loss: 0.4257 - accuracy: 0.8056 - val_loss: 1.0623 - val_accuracy: 0.5500\n",
      "Epoch 96/500\n",
      "6/6 [==============================] - 0s 4ms/step - loss: 0.4858 - accuracy: 0.7611 - val_loss: 1.0261 - val_accuracy: 0.5500\n",
      "Epoch 97/500\n",
      "6/6 [==============================] - 0s 4ms/step - loss: 0.4294 - accuracy: 0.7944 - val_loss: 1.0089 - val_accuracy: 0.5500\n",
      "Epoch 98/500\n",
      "6/6 [==============================] - 0s 4ms/step - loss: 0.4117 - accuracy: 0.7944 - val_loss: 0.9834 - val_accuracy: 0.5500\n",
      "Epoch 99/500\n",
      "6/6 [==============================] - 0s 4ms/step - loss: 0.4495 - accuracy: 0.7833 - val_loss: 0.9761 - val_accuracy: 0.5500\n",
      "Epoch 100/500\n",
      "6/6 [==============================] - 0s 4ms/step - loss: 0.4409 - accuracy: 0.7500 - val_loss: 0.9773 - val_accuracy: 0.5500\n",
      "Epoch 101/500\n",
      "6/6 [==============================] - 0s 4ms/step - loss: 0.4693 - accuracy: 0.7444 - val_loss: 0.9952 - val_accuracy: 0.6000\n",
      "Epoch 102/500\n",
      "6/6 [==============================] - 0s 4ms/step - loss: 0.4544 - accuracy: 0.7333 - val_loss: 0.9946 - val_accuracy: 0.6000\n",
      "Epoch 103/500\n",
      "6/6 [==============================] - 0s 4ms/step - loss: 0.3822 - accuracy: 0.8333 - val_loss: 0.9951 - val_accuracy: 0.6000\n",
      "Epoch 104/500\n",
      "6/6 [==============================] - 0s 4ms/step - loss: 0.3984 - accuracy: 0.8333 - val_loss: 0.9964 - val_accuracy: 0.6000\n",
      "Epoch 105/500\n",
      "6/6 [==============================] - 0s 4ms/step - loss: 0.4733 - accuracy: 0.7500 - val_loss: 1.0067 - val_accuracy: 0.6000\n",
      "Epoch 106/500\n",
      "6/6 [==============================] - 0s 4ms/step - loss: 0.5016 - accuracy: 0.7556 - val_loss: 1.0208 - val_accuracy: 0.6000\n",
      "Epoch 107/500\n",
      "6/6 [==============================] - 0s 4ms/step - loss: 0.4862 - accuracy: 0.7278 - val_loss: 1.0122 - val_accuracy: 0.6000\n",
      "Epoch 108/500\n",
      "6/6 [==============================] - 0s 4ms/step - loss: 0.4328 - accuracy: 0.8222 - val_loss: 1.0062 - val_accuracy: 0.6000\n",
      "Epoch 109/500\n",
      "6/6 [==============================] - 0s 4ms/step - loss: 0.4616 - accuracy: 0.7500 - val_loss: 0.9965 - val_accuracy: 0.6000\n",
      "Epoch 110/500\n",
      "6/6 [==============================] - 0s 4ms/step - loss: 0.4199 - accuracy: 0.7556 - val_loss: 0.9901 - val_accuracy: 0.6000\n",
      "Epoch 111/500\n",
      "6/6 [==============================] - 0s 4ms/step - loss: 0.4027 - accuracy: 0.8111 - val_loss: 0.9897 - val_accuracy: 0.6000\n",
      "Epoch 112/500\n",
      "6/6 [==============================] - 0s 4ms/step - loss: 0.4489 - accuracy: 0.7778 - val_loss: 1.0036 - val_accuracy: 0.6000\n",
      "Epoch 113/500\n",
      "6/6 [==============================] - 0s 4ms/step - loss: 0.4028 - accuracy: 0.8333 - val_loss: 1.0147 - val_accuracy: 0.6000\n",
      "Epoch 114/500\n",
      "6/6 [==============================] - 0s 4ms/step - loss: 0.4465 - accuracy: 0.8111 - val_loss: 1.0381 - val_accuracy: 0.6000\n",
      "Epoch 115/500\n",
      "6/6 [==============================] - 0s 4ms/step - loss: 0.4404 - accuracy: 0.8111 - val_loss: 1.0560 - val_accuracy: 0.6000\n",
      "Epoch 116/500\n",
      "6/6 [==============================] - 0s 4ms/step - loss: 0.5080 - accuracy: 0.7444 - val_loss: 1.0668 - val_accuracy: 0.6000\n",
      "Epoch 117/500\n",
      "6/6 [==============================] - 0s 4ms/step - loss: 0.4114 - accuracy: 0.7944 - val_loss: 1.0408 - val_accuracy: 0.6000\n",
      "Epoch 118/500\n",
      "6/6 [==============================] - 0s 4ms/step - loss: 0.4071 - accuracy: 0.8111 - val_loss: 1.0477 - val_accuracy: 0.5500\n",
      "Epoch 119/500\n",
      "6/6 [==============================] - 0s 4ms/step - loss: 0.4278 - accuracy: 0.7889 - val_loss: 1.0569 - val_accuracy: 0.5500\n",
      "Epoch 120/500\n",
      "6/6 [==============================] - 0s 4ms/step - loss: 0.4239 - accuracy: 0.8278 - val_loss: 1.0731 - val_accuracy: 0.5000\n",
      "Epoch 121/500\n",
      "6/6 [==============================] - 0s 4ms/step - loss: 0.4288 - accuracy: 0.7833 - val_loss: 1.0819 - val_accuracy: 0.5000\n",
      "Epoch 122/500\n",
      "6/6 [==============================] - 0s 4ms/step - loss: 0.4629 - accuracy: 0.7778 - val_loss: 1.0726 - val_accuracy: 0.5000\n",
      "Epoch 123/500\n",
      "6/6 [==============================] - 0s 4ms/step - loss: 0.4031 - accuracy: 0.8111 - val_loss: 1.0453 - val_accuracy: 0.5000\n",
      "Epoch 124/500\n",
      "6/6 [==============================] - 0s 4ms/step - loss: 0.4097 - accuracy: 0.8056 - val_loss: 1.0294 - val_accuracy: 0.5000\n",
      "Epoch 125/500\n",
      "6/6 [==============================] - 0s 4ms/step - loss: 0.4623 - accuracy: 0.7778 - val_loss: 1.0195 - val_accuracy: 0.5000\n",
      "Epoch 126/500\n",
      "6/6 [==============================] - 0s 4ms/step - loss: 0.4681 - accuracy: 0.7833 - val_loss: 1.0230 - val_accuracy: 0.5000\n",
      "Epoch 127/500\n",
      "6/6 [==============================] - 0s 4ms/step - loss: 0.3787 - accuracy: 0.8167 - val_loss: 1.0427 - val_accuracy: 0.5000\n",
      "Epoch 128/500\n",
      "6/6 [==============================] - 0s 4ms/step - loss: 0.4339 - accuracy: 0.7500 - val_loss: 1.0622 - val_accuracy: 0.5000\n",
      "Epoch 129/500\n",
      "6/6 [==============================] - 0s 4ms/step - loss: 0.4331 - accuracy: 0.7889 - val_loss: 1.0809 - val_accuracy: 0.5000\n",
      "Epoch 130/500\n",
      "6/6 [==============================] - 0s 4ms/step - loss: 0.4468 - accuracy: 0.7833 - val_loss: 1.0794 - val_accuracy: 0.5000\n",
      "Epoch 131/500\n",
      "6/6 [==============================] - 0s 4ms/step - loss: 0.4508 - accuracy: 0.7611 - val_loss: 1.0590 - val_accuracy: 0.5000\n",
      "Epoch 132/500\n",
      "6/6 [==============================] - 0s 4ms/step - loss: 0.4620 - accuracy: 0.7611 - val_loss: 1.0077 - val_accuracy: 0.5000\n",
      "Epoch 133/500\n",
      "6/6 [==============================] - 0s 4ms/step - loss: 0.4286 - accuracy: 0.8167 - val_loss: 0.9865 - val_accuracy: 0.5000\n",
      "Epoch 134/500\n",
      "6/6 [==============================] - 0s 4ms/step - loss: 0.4330 - accuracy: 0.8167 - val_loss: 0.9934 - val_accuracy: 0.5000\n",
      "Epoch 135/500\n",
      "6/6 [==============================] - 0s 4ms/step - loss: 0.4050 - accuracy: 0.8056 - val_loss: 0.9900 - val_accuracy: 0.5000\n",
      "Epoch 136/500\n",
      "6/6 [==============================] - 0s 4ms/step - loss: 0.4319 - accuracy: 0.7833 - val_loss: 1.0051 - val_accuracy: 0.5000\n",
      "Epoch 137/500\n",
      "6/6 [==============================] - 0s 4ms/step - loss: 0.4834 - accuracy: 0.7556 - val_loss: 1.0207 - val_accuracy: 0.5500\n",
      "Epoch 138/500\n",
      "6/6 [==============================] - 0s 4ms/step - loss: 0.4421 - accuracy: 0.7889 - val_loss: 1.0376 - val_accuracy: 0.6000\n",
      "Epoch 139/500\n",
      "6/6 [==============================] - 0s 4ms/step - loss: 0.4380 - accuracy: 0.7944 - val_loss: 1.0737 - val_accuracy: 0.6000\n",
      "Epoch 140/500\n",
      "6/6 [==============================] - 0s 4ms/step - loss: 0.4888 - accuracy: 0.7611 - val_loss: 1.0809 - val_accuracy: 0.5500\n",
      "Epoch 141/500\n",
      "6/6 [==============================] - 0s 4ms/step - loss: 0.4248 - accuracy: 0.8111 - val_loss: 1.0902 - val_accuracy: 0.5500\n",
      "Epoch 142/500\n",
      "6/6 [==============================] - 0s 4ms/step - loss: 0.3771 - accuracy: 0.8167 - val_loss: 1.0896 - val_accuracy: 0.6000\n",
      "Epoch 143/500\n",
      "6/6 [==============================] - 0s 4ms/step - loss: 0.4358 - accuracy: 0.7944 - val_loss: 1.0865 - val_accuracy: 0.6000\n",
      "Epoch 144/500\n",
      "6/6 [==============================] - 0s 4ms/step - loss: 0.4715 - accuracy: 0.7778 - val_loss: 1.0839 - val_accuracy: 0.6000\n",
      "Epoch 145/500\n",
      "6/6 [==============================] - 0s 4ms/step - loss: 0.4574 - accuracy: 0.7833 - val_loss: 1.0592 - val_accuracy: 0.6000\n",
      "Epoch 146/500\n",
      "6/6 [==============================] - 0s 4ms/step - loss: 0.4783 - accuracy: 0.7778 - val_loss: 1.0222 - val_accuracy: 0.6000\n",
      "Epoch 147/500\n",
      "6/6 [==============================] - 0s 4ms/step - loss: 0.4242 - accuracy: 0.7833 - val_loss: 0.9998 - val_accuracy: 0.6000\n",
      "Epoch 148/500\n",
      "6/6 [==============================] - 0s 4ms/step - loss: 0.4056 - accuracy: 0.8222 - val_loss: 0.9793 - val_accuracy: 0.6000\n",
      "Epoch 149/500\n",
      "6/6 [==============================] - 0s 4ms/step - loss: 0.4346 - accuracy: 0.7944 - val_loss: 0.9942 - val_accuracy: 0.6000\n",
      "Epoch 150/500\n",
      "6/6 [==============================] - 0s 4ms/step - loss: 0.4272 - accuracy: 0.8000 - val_loss: 1.0298 - val_accuracy: 0.6000\n",
      "Epoch 151/500\n",
      "6/6 [==============================] - 0s 4ms/step - loss: 0.4215 - accuracy: 0.8000 - val_loss: 1.0639 - val_accuracy: 0.6000\n",
      "Epoch 152/500\n",
      "6/6 [==============================] - 0s 4ms/step - loss: 0.4083 - accuracy: 0.8111 - val_loss: 1.0825 - val_accuracy: 0.6000\n",
      "Epoch 153/500\n",
      "6/6 [==============================] - 0s 4ms/step - loss: 0.3849 - accuracy: 0.7944 - val_loss: 1.0669 - val_accuracy: 0.6000\n",
      "Epoch 154/500\n",
      "6/6 [==============================] - 0s 4ms/step - loss: 0.4601 - accuracy: 0.7889 - val_loss: 1.0399 - val_accuracy: 0.6000\n",
      "Epoch 155/500\n",
      "6/6 [==============================] - 0s 4ms/step - loss: 0.4376 - accuracy: 0.7778 - val_loss: 1.0403 - val_accuracy: 0.6000\n",
      "Epoch 156/500\n",
      "6/6 [==============================] - 0s 4ms/step - loss: 0.4665 - accuracy: 0.7889 - val_loss: 1.0386 - val_accuracy: 0.6000\n",
      "Epoch 157/500\n",
      "6/6 [==============================] - 0s 4ms/step - loss: 0.4291 - accuracy: 0.8056 - val_loss: 1.0333 - val_accuracy: 0.6000\n",
      "Epoch 158/500\n",
      "6/6 [==============================] - 0s 4ms/step - loss: 0.4680 - accuracy: 0.8000 - val_loss: 1.0059 - val_accuracy: 0.6500\n",
      "Epoch 159/500\n",
      "6/6 [==============================] - 0s 4ms/step - loss: 0.4636 - accuracy: 0.8056 - val_loss: 0.9521 - val_accuracy: 0.6500\n",
      "Epoch 160/500\n",
      "6/6 [==============================] - 0s 4ms/step - loss: 0.4815 - accuracy: 0.7722 - val_loss: 0.9443 - val_accuracy: 0.6500\n",
      "Epoch 161/500\n",
      "6/6 [==============================] - 0s 4ms/step - loss: 0.4238 - accuracy: 0.8056 - val_loss: 0.9568 - val_accuracy: 0.6500\n",
      "Epoch 162/500\n",
      "6/6 [==============================] - 0s 4ms/step - loss: 0.4025 - accuracy: 0.7833 - val_loss: 0.9744 - val_accuracy: 0.6500\n",
      "Epoch 163/500\n",
      "6/6 [==============================] - 0s 4ms/step - loss: 0.4523 - accuracy: 0.7722 - val_loss: 0.9993 - val_accuracy: 0.6500\n",
      "Epoch 164/500\n",
      "6/6 [==============================] - 0s 4ms/step - loss: 0.4319 - accuracy: 0.8056 - val_loss: 1.0227 - val_accuracy: 0.6500\n",
      "Epoch 165/500\n",
      "6/6 [==============================] - 0s 4ms/step - loss: 0.3980 - accuracy: 0.7778 - val_loss: 1.0451 - val_accuracy: 0.6000\n",
      "Epoch 166/500\n",
      "6/6 [==============================] - 0s 4ms/step - loss: 0.4364 - accuracy: 0.7833 - val_loss: 1.0499 - val_accuracy: 0.6000\n",
      "Epoch 167/500\n",
      "6/6 [==============================] - 0s 4ms/step - loss: 0.4450 - accuracy: 0.7833 - val_loss: 1.0514 - val_accuracy: 0.6000\n",
      "Epoch 168/500\n",
      "6/6 [==============================] - 0s 4ms/step - loss: 0.4220 - accuracy: 0.8111 - val_loss: 1.0423 - val_accuracy: 0.6000\n",
      "Epoch 169/500\n",
      "6/6 [==============================] - 0s 4ms/step - loss: 0.4250 - accuracy: 0.7944 - val_loss: 1.0502 - val_accuracy: 0.6000\n",
      "Epoch 170/500\n",
      "6/6 [==============================] - 0s 4ms/step - loss: 0.3818 - accuracy: 0.8167 - val_loss: 1.0501 - val_accuracy: 0.6500\n",
      "Epoch 171/500\n",
      "6/6 [==============================] - 0s 4ms/step - loss: 0.4421 - accuracy: 0.7889 - val_loss: 1.0300 - val_accuracy: 0.6500\n",
      "Epoch 172/500\n",
      "6/6 [==============================] - 0s 4ms/step - loss: 0.3830 - accuracy: 0.8167 - val_loss: 1.0382 - val_accuracy: 0.6500\n",
      "Epoch 173/500\n",
      "6/6 [==============================] - 0s 4ms/step - loss: 0.4574 - accuracy: 0.7667 - val_loss: 1.0499 - val_accuracy: 0.6000\n",
      "Epoch 174/500\n",
      "6/6 [==============================] - 0s 4ms/step - loss: 0.4242 - accuracy: 0.7944 - val_loss: 1.0706 - val_accuracy: 0.6000\n",
      "Epoch 175/500\n",
      "6/6 [==============================] - 0s 4ms/step - loss: 0.4706 - accuracy: 0.7500 - val_loss: 1.0748 - val_accuracy: 0.6000\n",
      "Epoch 176/500\n",
      "6/6 [==============================] - 0s 4ms/step - loss: 0.4160 - accuracy: 0.7722 - val_loss: 1.0801 - val_accuracy: 0.6000\n",
      "Epoch 177/500\n",
      "6/6 [==============================] - 0s 4ms/step - loss: 0.4019 - accuracy: 0.7722 - val_loss: 1.0813 - val_accuracy: 0.6000\n",
      "Epoch 178/500\n",
      "6/6 [==============================] - 0s 4ms/step - loss: 0.4463 - accuracy: 0.7778 - val_loss: 1.0805 - val_accuracy: 0.5500\n",
      "Epoch 179/500\n",
      "6/6 [==============================] - 0s 4ms/step - loss: 0.4150 - accuracy: 0.7889 - val_loss: 1.0965 - val_accuracy: 0.5500\n",
      "Epoch 180/500\n",
      "6/6 [==============================] - 0s 4ms/step - loss: 0.4684 - accuracy: 0.7556 - val_loss: 1.0917 - val_accuracy: 0.5500\n",
      "Epoch 181/500\n",
      "6/6 [==============================] - 0s 4ms/step - loss: 0.4706 - accuracy: 0.7611 - val_loss: 1.0645 - val_accuracy: 0.5500\n",
      "Epoch 182/500\n",
      "6/6 [==============================] - 0s 4ms/step - loss: 0.4463 - accuracy: 0.7889 - val_loss: 1.0420 - val_accuracy: 0.5500\n",
      "Epoch 183/500\n",
      "6/6 [==============================] - 0s 4ms/step - loss: 0.4366 - accuracy: 0.7778 - val_loss: 1.0404 - val_accuracy: 0.5500\n",
      "Epoch 184/500\n",
      "6/6 [==============================] - 0s 4ms/step - loss: 0.4721 - accuracy: 0.7833 - val_loss: 1.0365 - val_accuracy: 0.5500\n",
      "Epoch 185/500\n",
      "6/6 [==============================] - 0s 4ms/step - loss: 0.4350 - accuracy: 0.8111 - val_loss: 1.0402 - val_accuracy: 0.5500\n",
      "Epoch 186/500\n",
      "6/6 [==============================] - 0s 4ms/step - loss: 0.3984 - accuracy: 0.8222 - val_loss: 1.0445 - val_accuracy: 0.5500\n",
      "Epoch 187/500\n",
      "6/6 [==============================] - 0s 4ms/step - loss: 0.4347 - accuracy: 0.7722 - val_loss: 1.0578 - val_accuracy: 0.6000\n",
      "Epoch 188/500\n",
      "6/6 [==============================] - 0s 4ms/step - loss: 0.4173 - accuracy: 0.7722 - val_loss: 1.0599 - val_accuracy: 0.6000\n",
      "Epoch 189/500\n",
      "6/6 [==============================] - 0s 4ms/step - loss: 0.3843 - accuracy: 0.8000 - val_loss: 1.0560 - val_accuracy: 0.5500\n",
      "Epoch 190/500\n",
      "6/6 [==============================] - 0s 4ms/step - loss: 0.4504 - accuracy: 0.7556 - val_loss: 1.0548 - val_accuracy: 0.5500\n",
      "Epoch 191/500\n",
      "6/6 [==============================] - 0s 4ms/step - loss: 0.4109 - accuracy: 0.8000 - val_loss: 1.0584 - val_accuracy: 0.6500\n",
      "Epoch 192/500\n",
      "6/6 [==============================] - 0s 4ms/step - loss: 0.4290 - accuracy: 0.7889 - val_loss: 1.0697 - val_accuracy: 0.6500\n",
      "Epoch 193/500\n",
      "6/6 [==============================] - 0s 4ms/step - loss: 0.4161 - accuracy: 0.8167 - val_loss: 1.0649 - val_accuracy: 0.6500\n",
      "Epoch 194/500\n",
      "6/6 [==============================] - 0s 4ms/step - loss: 0.3962 - accuracy: 0.8167 - val_loss: 1.0560 - val_accuracy: 0.6000\n",
      "Epoch 195/500\n",
      "6/6 [==============================] - 0s 4ms/step - loss: 0.4488 - accuracy: 0.7889 - val_loss: 1.0626 - val_accuracy: 0.6000\n",
      "Epoch 196/500\n",
      "6/6 [==============================] - 0s 4ms/step - loss: 0.4359 - accuracy: 0.7833 - val_loss: 1.0890 - val_accuracy: 0.5000\n",
      "Epoch 197/500\n",
      "6/6 [==============================] - 0s 4ms/step - loss: 0.4829 - accuracy: 0.7500 - val_loss: 1.0984 - val_accuracy: 0.5000\n",
      "Epoch 198/500\n",
      "6/6 [==============================] - 0s 4ms/step - loss: 0.4074 - accuracy: 0.8167 - val_loss: 1.1124 - val_accuracy: 0.5500\n",
      "Epoch 199/500\n",
      "6/6 [==============================] - 0s 4ms/step - loss: 0.3883 - accuracy: 0.8333 - val_loss: 1.0886 - val_accuracy: 0.5000\n",
      "Epoch 200/500\n",
      "6/6 [==============================] - 0s 4ms/step - loss: 0.3876 - accuracy: 0.7889 - val_loss: 1.0849 - val_accuracy: 0.5000\n",
      "Epoch 201/500\n",
      "6/6 [==============================] - 0s 4ms/step - loss: 0.4566 - accuracy: 0.8167 - val_loss: 1.0952 - val_accuracy: 0.5000\n",
      "Epoch 202/500\n",
      "6/6 [==============================] - 0s 4ms/step - loss: 0.3973 - accuracy: 0.7944 - val_loss: 1.1167 - val_accuracy: 0.5000\n",
      "Epoch 203/500\n",
      "6/6 [==============================] - 0s 4ms/step - loss: 0.4176 - accuracy: 0.7833 - val_loss: 1.1429 - val_accuracy: 0.5000\n",
      "Epoch 204/500\n",
      "6/6 [==============================] - 0s 4ms/step - loss: 0.4440 - accuracy: 0.8111 - val_loss: 1.1252 - val_accuracy: 0.5000\n",
      "Epoch 205/500\n",
      "6/6 [==============================] - 0s 4ms/step - loss: 0.3947 - accuracy: 0.8167 - val_loss: 1.1087 - val_accuracy: 0.5000\n",
      "Epoch 206/500\n",
      "6/6 [==============================] - 0s 4ms/step - loss: 0.4322 - accuracy: 0.7944 - val_loss: 1.0994 - val_accuracy: 0.5000\n",
      "Epoch 207/500\n",
      "6/6 [==============================] - 0s 4ms/step - loss: 0.4513 - accuracy: 0.7667 - val_loss: 1.1044 - val_accuracy: 0.5000\n",
      "Epoch 208/500\n",
      "6/6 [==============================] - 0s 4ms/step - loss: 0.4232 - accuracy: 0.7889 - val_loss: 1.1139 - val_accuracy: 0.5000\n",
      "Epoch 209/500\n",
      "6/6 [==============================] - 0s 4ms/step - loss: 0.4595 - accuracy: 0.7833 - val_loss: 1.1085 - val_accuracy: 0.5000\n",
      "Epoch 210/500\n",
      "6/6 [==============================] - 0s 4ms/step - loss: 0.4682 - accuracy: 0.7444 - val_loss: 1.1141 - val_accuracy: 0.5000\n",
      "Epoch 211/500\n",
      "6/6 [==============================] - 0s 4ms/step - loss: 0.4208 - accuracy: 0.7778 - val_loss: 1.1094 - val_accuracy: 0.5000\n",
      "Epoch 212/500\n",
      "6/6 [==============================] - 0s 4ms/step - loss: 0.4562 - accuracy: 0.7889 - val_loss: 1.0980 - val_accuracy: 0.5000\n",
      "Epoch 213/500\n",
      "6/6 [==============================] - 0s 4ms/step - loss: 0.4467 - accuracy: 0.7611 - val_loss: 1.0651 - val_accuracy: 0.5000\n",
      "Epoch 214/500\n",
      "6/6 [==============================] - 0s 4ms/step - loss: 0.3802 - accuracy: 0.8056 - val_loss: 1.0406 - val_accuracy: 0.5000\n",
      "Epoch 215/500\n",
      "6/6 [==============================] - 0s 4ms/step - loss: 0.4931 - accuracy: 0.7333 - val_loss: 1.0260 - val_accuracy: 0.5000\n",
      "Epoch 216/500\n",
      "6/6 [==============================] - 0s 4ms/step - loss: 0.4388 - accuracy: 0.7889 - val_loss: 1.0346 - val_accuracy: 0.5000\n",
      "Epoch 217/500\n",
      "6/6 [==============================] - 0s 4ms/step - loss: 0.4395 - accuracy: 0.8000 - val_loss: 1.0427 - val_accuracy: 0.5000\n",
      "Epoch 218/500\n",
      "6/6 [==============================] - 0s 4ms/step - loss: 0.4230 - accuracy: 0.7944 - val_loss: 1.0483 - val_accuracy: 0.5000\n",
      "Epoch 219/500\n",
      "6/6 [==============================] - 0s 4ms/step - loss: 0.4587 - accuracy: 0.7611 - val_loss: 1.0535 - val_accuracy: 0.5000\n",
      "Epoch 220/500\n",
      "6/6 [==============================] - 0s 4ms/step - loss: 0.4128 - accuracy: 0.8000 - val_loss: 1.0760 - val_accuracy: 0.5000\n",
      "Epoch 221/500\n",
      "6/6 [==============================] - 0s 4ms/step - loss: 0.4209 - accuracy: 0.7722 - val_loss: 1.0874 - val_accuracy: 0.5000\n",
      "Epoch 222/500\n",
      "6/6 [==============================] - 0s 4ms/step - loss: 0.4568 - accuracy: 0.7556 - val_loss: 1.0543 - val_accuracy: 0.5000\n",
      "Epoch 223/500\n",
      "6/6 [==============================] - 0s 4ms/step - loss: 0.4238 - accuracy: 0.7944 - val_loss: 1.0352 - val_accuracy: 0.5000\n",
      "Epoch 224/500\n",
      "6/6 [==============================] - 0s 4ms/step - loss: 0.4276 - accuracy: 0.7889 - val_loss: 1.0330 - val_accuracy: 0.5000\n",
      "Epoch 225/500\n",
      "6/6 [==============================] - 0s 4ms/step - loss: 0.3999 - accuracy: 0.8278 - val_loss: 1.0448 - val_accuracy: 0.5000\n",
      "Epoch 226/500\n",
      "6/6 [==============================] - 0s 4ms/step - loss: 0.4548 - accuracy: 0.7833 - val_loss: 1.0516 - val_accuracy: 0.5000\n",
      "Epoch 227/500\n",
      "6/6 [==============================] - 0s 4ms/step - loss: 0.4440 - accuracy: 0.7667 - val_loss: 1.0400 - val_accuracy: 0.5000\n",
      "Epoch 228/500\n",
      "6/6 [==============================] - 0s 4ms/step - loss: 0.4455 - accuracy: 0.8056 - val_loss: 1.0408 - val_accuracy: 0.5500\n",
      "Epoch 229/500\n",
      "6/6 [==============================] - 0s 4ms/step - loss: 0.4208 - accuracy: 0.8000 - val_loss: 1.0556 - val_accuracy: 0.5500\n",
      "Epoch 230/500\n",
      "6/6 [==============================] - 0s 4ms/step - loss: 0.3955 - accuracy: 0.7833 - val_loss: 1.0647 - val_accuracy: 0.5000\n",
      "Epoch 231/500\n",
      "6/6 [==============================] - 0s 4ms/step - loss: 0.3958 - accuracy: 0.8111 - val_loss: 1.0525 - val_accuracy: 0.5000\n",
      "Epoch 232/500\n",
      "6/6 [==============================] - 0s 4ms/step - loss: 0.4157 - accuracy: 0.7667 - val_loss: 1.0425 - val_accuracy: 0.5000\n",
      "Epoch 233/500\n",
      "6/6 [==============================] - 0s 4ms/step - loss: 0.4169 - accuracy: 0.8000 - val_loss: 1.0469 - val_accuracy: 0.5000\n",
      "Epoch 234/500\n",
      "6/6 [==============================] - 0s 4ms/step - loss: 0.4376 - accuracy: 0.8056 - val_loss: 1.0587 - val_accuracy: 0.5000\n",
      "Epoch 235/500\n",
      "6/6 [==============================] - 0s 4ms/step - loss: 0.4665 - accuracy: 0.7722 - val_loss: 1.0808 - val_accuracy: 0.5000\n",
      "Epoch 236/500\n",
      "6/6 [==============================] - 0s 4ms/step - loss: 0.3915 - accuracy: 0.8278 - val_loss: 1.1071 - val_accuracy: 0.5000\n",
      "Epoch 237/500\n",
      "6/6 [==============================] - 0s 4ms/step - loss: 0.4502 - accuracy: 0.7611 - val_loss: 1.1286 - val_accuracy: 0.5000\n",
      "Epoch 238/500\n",
      "6/6 [==============================] - 0s 4ms/step - loss: 0.4642 - accuracy: 0.7778 - val_loss: 1.1422 - val_accuracy: 0.5000\n",
      "Epoch 239/500\n",
      "6/6 [==============================] - 0s 4ms/step - loss: 0.4290 - accuracy: 0.7944 - val_loss: 1.1265 - val_accuracy: 0.5000\n",
      "Epoch 240/500\n",
      "6/6 [==============================] - 0s 4ms/step - loss: 0.4897 - accuracy: 0.7833 - val_loss: 1.0586 - val_accuracy: 0.5000\n",
      "Epoch 241/500\n",
      "6/6 [==============================] - 0s 4ms/step - loss: 0.4328 - accuracy: 0.7833 - val_loss: 1.0085 - val_accuracy: 0.5000\n",
      "Epoch 242/500\n",
      "6/6 [==============================] - 0s 4ms/step - loss: 0.4537 - accuracy: 0.7778 - val_loss: 0.9999 - val_accuracy: 0.5000\n",
      "Epoch 243/500\n",
      "6/6 [==============================] - 0s 4ms/step - loss: 0.4122 - accuracy: 0.8000 - val_loss: 1.0029 - val_accuracy: 0.5000\n",
      "Epoch 244/500\n",
      "6/6 [==============================] - 0s 4ms/step - loss: 0.4409 - accuracy: 0.8056 - val_loss: 1.0279 - val_accuracy: 0.5000\n",
      "Epoch 245/500\n",
      "6/6 [==============================] - 0s 4ms/step - loss: 0.4599 - accuracy: 0.7722 - val_loss: 1.0387 - val_accuracy: 0.5000\n",
      "Epoch 246/500\n",
      "6/6 [==============================] - 0s 4ms/step - loss: 0.4552 - accuracy: 0.7889 - val_loss: 1.0665 - val_accuracy: 0.5000\n",
      "Epoch 247/500\n",
      "6/6 [==============================] - 0s 4ms/step - loss: 0.4426 - accuracy: 0.7778 - val_loss: 1.0950 - val_accuracy: 0.5000\n",
      "Epoch 248/500\n",
      "6/6 [==============================] - 0s 4ms/step - loss: 0.4503 - accuracy: 0.7889 - val_loss: 1.0926 - val_accuracy: 0.5500\n",
      "Epoch 249/500\n",
      "6/6 [==============================] - 0s 4ms/step - loss: 0.3935 - accuracy: 0.8111 - val_loss: 1.0815 - val_accuracy: 0.5500\n",
      "Epoch 250/500\n",
      "6/6 [==============================] - 0s 4ms/step - loss: 0.4167 - accuracy: 0.8111 - val_loss: 1.0753 - val_accuracy: 0.5500\n",
      "Epoch 251/500\n",
      "6/6 [==============================] - 0s 4ms/step - loss: 0.4087 - accuracy: 0.7778 - val_loss: 1.0707 - val_accuracy: 0.5500\n",
      "Epoch 252/500\n",
      "6/6 [==============================] - 0s 4ms/step - loss: 0.3971 - accuracy: 0.8333 - val_loss: 1.0690 - val_accuracy: 0.5500\n",
      "Epoch 253/500\n",
      "6/6 [==============================] - 0s 4ms/step - loss: 0.4586 - accuracy: 0.7611 - val_loss: 1.0606 - val_accuracy: 0.5500\n",
      "Epoch 254/500\n",
      "6/6 [==============================] - 0s 4ms/step - loss: 0.4474 - accuracy: 0.7667 - val_loss: 1.0391 - val_accuracy: 0.5500\n",
      "Epoch 255/500\n",
      "6/6 [==============================] - 0s 4ms/step - loss: 0.4360 - accuracy: 0.8000 - val_loss: 1.0422 - val_accuracy: 0.5500\n",
      "Epoch 256/500\n",
      "6/6 [==============================] - 0s 4ms/step - loss: 0.4772 - accuracy: 0.7889 - val_loss: 1.0312 - val_accuracy: 0.5000\n",
      "Epoch 257/500\n",
      "6/6 [==============================] - 0s 4ms/step - loss: 0.4012 - accuracy: 0.8167 - val_loss: 1.0205 - val_accuracy: 0.5000\n",
      "Epoch 258/500\n",
      "6/6 [==============================] - 0s 4ms/step - loss: 0.4491 - accuracy: 0.7500 - val_loss: 1.0172 - val_accuracy: 0.5000\n",
      "Epoch 259/500\n",
      "6/6 [==============================] - 0s 4ms/step - loss: 0.4245 - accuracy: 0.8167 - val_loss: 1.0359 - val_accuracy: 0.5000\n",
      "Epoch 260/500\n",
      "6/6 [==============================] - 0s 4ms/step - loss: 0.4434 - accuracy: 0.8056 - val_loss: 1.0408 - val_accuracy: 0.5000\n",
      "Epoch 261/500\n",
      "6/6 [==============================] - 0s 4ms/step - loss: 0.4514 - accuracy: 0.7500 - val_loss: 1.0461 - val_accuracy: 0.5000\n",
      "Epoch 262/500\n",
      "6/6 [==============================] - 0s 4ms/step - loss: 0.4399 - accuracy: 0.7778 - val_loss: 1.0647 - val_accuracy: 0.5000\n",
      "Epoch 263/500\n",
      "6/6 [==============================] - 0s 4ms/step - loss: 0.4276 - accuracy: 0.8056 - val_loss: 1.0745 - val_accuracy: 0.5000\n",
      "Epoch 264/500\n",
      "6/6 [==============================] - 0s 4ms/step - loss: 0.4361 - accuracy: 0.7889 - val_loss: 1.0848 - val_accuracy: 0.5000\n",
      "Epoch 265/500\n",
      "6/6 [==============================] - 0s 4ms/step - loss: 0.4479 - accuracy: 0.7667 - val_loss: 1.0861 - val_accuracy: 0.5000\n",
      "Epoch 266/500\n",
      "6/6 [==============================] - 0s 4ms/step - loss: 0.4528 - accuracy: 0.7833 - val_loss: 1.0905 - val_accuracy: 0.5000\n",
      "Epoch 267/500\n",
      "6/6 [==============================] - 0s 4ms/step - loss: 0.4280 - accuracy: 0.8167 - val_loss: 1.0924 - val_accuracy: 0.5000\n",
      "Epoch 268/500\n",
      "6/6 [==============================] - 0s 4ms/step - loss: 0.4243 - accuracy: 0.8000 - val_loss: 1.1038 - val_accuracy: 0.5500\n",
      "Epoch 269/500\n",
      "6/6 [==============================] - 0s 4ms/step - loss: 0.3873 - accuracy: 0.8111 - val_loss: 1.1168 - val_accuracy: 0.5500\n",
      "Epoch 270/500\n",
      "6/6 [==============================] - 0s 4ms/step - loss: 0.4471 - accuracy: 0.7778 - val_loss: 1.1135 - val_accuracy: 0.5500\n",
      "Epoch 271/500\n",
      "6/6 [==============================] - 0s 4ms/step - loss: 0.4075 - accuracy: 0.7722 - val_loss: 1.0909 - val_accuracy: 0.5500\n",
      "Epoch 272/500\n",
      "6/6 [==============================] - 0s 4ms/step - loss: 0.4312 - accuracy: 0.8111 - val_loss: 1.0516 - val_accuracy: 0.5500\n",
      "Epoch 273/500\n",
      "6/6 [==============================] - 0s 4ms/step - loss: 0.4281 - accuracy: 0.7722 - val_loss: 1.0338 - val_accuracy: 0.5500\n",
      "Epoch 274/500\n",
      "6/6 [==============================] - 0s 4ms/step - loss: 0.4873 - accuracy: 0.7667 - val_loss: 1.0392 - val_accuracy: 0.5500\n",
      "Epoch 275/500\n",
      "6/6 [==============================] - 0s 4ms/step - loss: 0.4167 - accuracy: 0.7833 - val_loss: 1.0392 - val_accuracy: 0.5500\n",
      "Epoch 276/500\n",
      "6/6 [==============================] - 0s 4ms/step - loss: 0.4247 - accuracy: 0.7889 - val_loss: 1.0512 - val_accuracy: 0.5500\n",
      "Epoch 277/500\n",
      "6/6 [==============================] - 0s 4ms/step - loss: 0.4286 - accuracy: 0.8111 - val_loss: 1.0749 - val_accuracy: 0.5500\n",
      "Epoch 278/500\n",
      "6/6 [==============================] - 0s 4ms/step - loss: 0.4219 - accuracy: 0.8111 - val_loss: 1.0836 - val_accuracy: 0.5500\n",
      "Epoch 279/500\n",
      "6/6 [==============================] - 0s 4ms/step - loss: 0.4398 - accuracy: 0.8056 - val_loss: 1.0717 - val_accuracy: 0.5500\n",
      "Epoch 280/500\n",
      "6/6 [==============================] - 0s 4ms/step - loss: 0.4529 - accuracy: 0.8056 - val_loss: 1.0388 - val_accuracy: 0.5500\n",
      "Epoch 281/500\n",
      "6/6 [==============================] - 0s 4ms/step - loss: 0.4342 - accuracy: 0.7889 - val_loss: 1.0142 - val_accuracy: 0.5500\n",
      "Epoch 282/500\n",
      "6/6 [==============================] - 0s 4ms/step - loss: 0.4128 - accuracy: 0.7556 - val_loss: 0.9943 - val_accuracy: 0.5500\n",
      "Epoch 283/500\n",
      "6/6 [==============================] - 0s 4ms/step - loss: 0.4347 - accuracy: 0.7833 - val_loss: 0.9838 - val_accuracy: 0.5500\n",
      "Epoch 284/500\n",
      "6/6 [==============================] - 0s 4ms/step - loss: 0.4360 - accuracy: 0.7889 - val_loss: 0.9884 - val_accuracy: 0.5500\n",
      "Epoch 285/500\n",
      "6/6 [==============================] - 0s 4ms/step - loss: 0.4085 - accuracy: 0.7889 - val_loss: 1.0104 - val_accuracy: 0.5000\n",
      "Epoch 286/500\n",
      "6/6 [==============================] - 0s 4ms/step - loss: 0.3934 - accuracy: 0.8389 - val_loss: 1.0318 - val_accuracy: 0.5000\n",
      "Epoch 287/500\n",
      "6/6 [==============================] - 0s 4ms/step - loss: 0.3955 - accuracy: 0.8167 - val_loss: 1.0577 - val_accuracy: 0.5000\n",
      "Epoch 288/500\n",
      "6/6 [==============================] - 0s 4ms/step - loss: 0.4208 - accuracy: 0.7667 - val_loss: 1.0837 - val_accuracy: 0.5000\n",
      "Epoch 289/500\n",
      "6/6 [==============================] - 0s 4ms/step - loss: 0.4381 - accuracy: 0.7889 - val_loss: 1.1132 - val_accuracy: 0.5000\n",
      "Epoch 290/500\n",
      "6/6 [==============================] - 0s 4ms/step - loss: 0.4143 - accuracy: 0.7500 - val_loss: 1.1107 - val_accuracy: 0.5000\n",
      "Epoch 291/500\n",
      "6/6 [==============================] - 0s 4ms/step - loss: 0.4545 - accuracy: 0.7833 - val_loss: 1.1056 - val_accuracy: 0.5000\n",
      "Epoch 292/500\n",
      "6/6 [==============================] - 0s 4ms/step - loss: 0.4532 - accuracy: 0.7556 - val_loss: 1.0823 - val_accuracy: 0.5000\n",
      "Epoch 293/500\n",
      "6/6 [==============================] - 0s 4ms/step - loss: 0.4505 - accuracy: 0.7833 - val_loss: 1.0433 - val_accuracy: 0.5000\n",
      "Epoch 294/500\n",
      "6/6 [==============================] - 0s 4ms/step - loss: 0.4075 - accuracy: 0.7611 - val_loss: 1.0192 - val_accuracy: 0.5000\n",
      "Epoch 295/500\n",
      "6/6 [==============================] - 0s 4ms/step - loss: 0.4189 - accuracy: 0.7667 - val_loss: 1.0121 - val_accuracy: 0.5000\n",
      "Epoch 296/500\n",
      "6/6 [==============================] - 0s 4ms/step - loss: 0.3947 - accuracy: 0.8167 - val_loss: 1.0141 - val_accuracy: 0.5000\n",
      "Epoch 297/500\n",
      "6/6 [==============================] - 0s 4ms/step - loss: 0.3762 - accuracy: 0.8500 - val_loss: 1.0226 - val_accuracy: 0.5000\n",
      "Epoch 298/500\n",
      "6/6 [==============================] - 0s 4ms/step - loss: 0.4237 - accuracy: 0.7944 - val_loss: 1.0336 - val_accuracy: 0.5500\n",
      "Epoch 299/500\n",
      "6/6 [==============================] - 0s 4ms/step - loss: 0.4255 - accuracy: 0.7722 - val_loss: 1.0229 - val_accuracy: 0.5500\n",
      "Epoch 300/500\n",
      "6/6 [==============================] - 0s 4ms/step - loss: 0.4185 - accuracy: 0.7722 - val_loss: 1.0175 - val_accuracy: 0.5500\n",
      "Epoch 301/500\n",
      "6/6 [==============================] - 0s 4ms/step - loss: 0.4161 - accuracy: 0.7944 - val_loss: 1.0146 - val_accuracy: 0.5500\n",
      "Epoch 302/500\n",
      "6/6 [==============================] - 0s 4ms/step - loss: 0.4531 - accuracy: 0.7889 - val_loss: 1.0161 - val_accuracy: 0.5500\n",
      "Epoch 303/500\n",
      "6/6 [==============================] - 0s 4ms/step - loss: 0.4634 - accuracy: 0.7611 - val_loss: 1.0209 - val_accuracy: 0.5500\n",
      "Epoch 304/500\n",
      "6/6 [==============================] - 0s 4ms/step - loss: 0.4236 - accuracy: 0.8000 - val_loss: 1.0255 - val_accuracy: 0.5500\n",
      "Epoch 305/500\n",
      "6/6 [==============================] - 0s 4ms/step - loss: 0.4033 - accuracy: 0.8333 - val_loss: 1.0118 - val_accuracy: 0.5000\n",
      "Epoch 306/500\n",
      "6/6 [==============================] - 0s 4ms/step - loss: 0.4481 - accuracy: 0.7444 - val_loss: 1.0069 - val_accuracy: 0.5000\n",
      "Epoch 307/500\n",
      "6/6 [==============================] - 0s 4ms/step - loss: 0.4501 - accuracy: 0.8056 - val_loss: 1.0101 - val_accuracy: 0.5000\n",
      "Epoch 308/500\n",
      "6/6 [==============================] - 0s 4ms/step - loss: 0.4047 - accuracy: 0.8222 - val_loss: 1.0253 - val_accuracy: 0.5000\n",
      "Epoch 309/500\n",
      "6/6 [==============================] - 0s 4ms/step - loss: 0.4142 - accuracy: 0.7944 - val_loss: 1.0336 - val_accuracy: 0.5000\n",
      "Epoch 310/500\n",
      "6/6 [==============================] - 0s 4ms/step - loss: 0.4400 - accuracy: 0.8222 - val_loss: 1.0451 - val_accuracy: 0.5000\n",
      "Epoch 311/500\n",
      "6/6 [==============================] - 0s 4ms/step - loss: 0.4405 - accuracy: 0.7833 - val_loss: 1.0303 - val_accuracy: 0.5000\n",
      "Epoch 312/500\n",
      "6/6 [==============================] - 0s 4ms/step - loss: 0.4275 - accuracy: 0.7889 - val_loss: 1.0168 - val_accuracy: 0.5000\n",
      "Epoch 313/500\n",
      "6/6 [==============================] - 0s 4ms/step - loss: 0.4094 - accuracy: 0.7778 - val_loss: 1.0141 - val_accuracy: 0.5000\n",
      "Epoch 314/500\n",
      "6/6 [==============================] - 0s 4ms/step - loss: 0.4029 - accuracy: 0.7778 - val_loss: 1.0340 - val_accuracy: 0.5000\n",
      "Epoch 315/500\n",
      "6/6 [==============================] - 0s 4ms/step - loss: 0.4142 - accuracy: 0.8056 - val_loss: 1.0573 - val_accuracy: 0.5000\n",
      "Epoch 316/500\n",
      "6/6 [==============================] - 0s 4ms/step - loss: 0.3994 - accuracy: 0.8222 - val_loss: 1.0682 - val_accuracy: 0.5000\n",
      "Epoch 317/500\n",
      "6/6 [==============================] - 0s 4ms/step - loss: 0.4400 - accuracy: 0.8111 - val_loss: 1.0840 - val_accuracy: 0.5000\n",
      "Epoch 318/500\n",
      "6/6 [==============================] - 0s 4ms/step - loss: 0.4284 - accuracy: 0.7889 - val_loss: 1.0855 - val_accuracy: 0.5000\n",
      "Epoch 319/500\n",
      "6/6 [==============================] - 0s 4ms/step - loss: 0.4305 - accuracy: 0.7667 - val_loss: 1.0760 - val_accuracy: 0.5000\n",
      "Epoch 320/500\n",
      "6/6 [==============================] - 0s 4ms/step - loss: 0.4198 - accuracy: 0.7833 - val_loss: 1.0822 - val_accuracy: 0.5000\n",
      "Epoch 321/500\n",
      "6/6 [==============================] - 0s 4ms/step - loss: 0.4924 - accuracy: 0.7778 - val_loss: 1.0538 - val_accuracy: 0.5500\n",
      "Epoch 322/500\n",
      "6/6 [==============================] - 0s 4ms/step - loss: 0.3837 - accuracy: 0.8222 - val_loss: 1.0306 - val_accuracy: 0.5500\n",
      "Epoch 323/500\n",
      "6/6 [==============================] - 0s 4ms/step - loss: 0.4250 - accuracy: 0.7833 - val_loss: 1.0412 - val_accuracy: 0.5500\n",
      "Epoch 324/500\n",
      "6/6 [==============================] - 0s 4ms/step - loss: 0.4064 - accuracy: 0.8222 - val_loss: 1.0642 - val_accuracy: 0.5500\n",
      "Epoch 325/500\n",
      "6/6 [==============================] - 0s 4ms/step - loss: 0.4153 - accuracy: 0.8389 - val_loss: 1.0791 - val_accuracy: 0.5500\n",
      "Epoch 326/500\n",
      "6/6 [==============================] - 0s 4ms/step - loss: 0.4208 - accuracy: 0.7500 - val_loss: 1.0680 - val_accuracy: 0.5500\n",
      "Epoch 327/500\n",
      "6/6 [==============================] - 0s 4ms/step - loss: 0.4880 - accuracy: 0.7611 - val_loss: 1.0552 - val_accuracy: 0.5500\n",
      "Epoch 328/500\n",
      "6/6 [==============================] - 0s 4ms/step - loss: 0.4164 - accuracy: 0.8111 - val_loss: 1.0503 - val_accuracy: 0.5500\n",
      "Epoch 329/500\n",
      "6/6 [==============================] - 0s 4ms/step - loss: 0.3852 - accuracy: 0.8222 - val_loss: 1.0642 - val_accuracy: 0.5500\n",
      "Epoch 330/500\n",
      "6/6 [==============================] - 0s 4ms/step - loss: 0.4848 - accuracy: 0.7500 - val_loss: 1.0677 - val_accuracy: 0.5500\n",
      "Epoch 331/500\n",
      "6/6 [==============================] - 0s 4ms/step - loss: 0.4072 - accuracy: 0.8056 - val_loss: 1.0792 - val_accuracy: 0.5000\n",
      "Epoch 332/500\n",
      "6/6 [==============================] - 0s 4ms/step - loss: 0.3893 - accuracy: 0.8167 - val_loss: 1.0968 - val_accuracy: 0.5000\n",
      "Epoch 333/500\n",
      "6/6 [==============================] - 0s 4ms/step - loss: 0.4092 - accuracy: 0.8389 - val_loss: 1.1165 - val_accuracy: 0.5000\n",
      "Epoch 334/500\n",
      "6/6 [==============================] - 0s 4ms/step - loss: 0.4291 - accuracy: 0.7833 - val_loss: 1.1163 - val_accuracy: 0.5000\n",
      "Epoch 335/500\n",
      "6/6 [==============================] - 0s 4ms/step - loss: 0.4118 - accuracy: 0.8167 - val_loss: 1.1191 - val_accuracy: 0.5000\n",
      "Epoch 336/500\n",
      "6/6 [==============================] - 0s 4ms/step - loss: 0.4069 - accuracy: 0.7778 - val_loss: 1.1269 - val_accuracy: 0.5500\n",
      "Epoch 337/500\n",
      "6/6 [==============================] - 0s 4ms/step - loss: 0.4213 - accuracy: 0.8056 - val_loss: 1.1351 - val_accuracy: 0.5500\n",
      "Epoch 338/500\n",
      "6/6 [==============================] - 0s 4ms/step - loss: 0.4215 - accuracy: 0.8000 - val_loss: 1.1450 - val_accuracy: 0.5500\n",
      "Epoch 339/500\n",
      "6/6 [==============================] - 0s 4ms/step - loss: 0.4347 - accuracy: 0.7778 - val_loss: 1.1756 - val_accuracy: 0.5500\n",
      "Epoch 340/500\n",
      "6/6 [==============================] - 0s 4ms/step - loss: 0.4221 - accuracy: 0.7889 - val_loss: 1.1981 - val_accuracy: 0.5500\n",
      "Epoch 341/500\n",
      "6/6 [==============================] - 0s 4ms/step - loss: 0.4316 - accuracy: 0.7944 - val_loss: 1.2014 - val_accuracy: 0.5500\n",
      "Epoch 342/500\n",
      "6/6 [==============================] - 0s 4ms/step - loss: 0.4190 - accuracy: 0.8056 - val_loss: 1.2076 - val_accuracy: 0.5000\n",
      "Epoch 343/500\n",
      "6/6 [==============================] - 0s 4ms/step - loss: 0.3952 - accuracy: 0.8000 - val_loss: 1.2005 - val_accuracy: 0.5000\n",
      "Epoch 344/500\n",
      "6/6 [==============================] - 0s 4ms/step - loss: 0.4419 - accuracy: 0.7833 - val_loss: 1.1950 - val_accuracy: 0.5000\n",
      "Epoch 345/500\n",
      "6/6 [==============================] - 0s 4ms/step - loss: 0.4047 - accuracy: 0.7944 - val_loss: 1.2017 - val_accuracy: 0.5000\n",
      "Epoch 346/500\n",
      "6/6 [==============================] - 0s 4ms/step - loss: 0.3991 - accuracy: 0.8222 - val_loss: 1.2107 - val_accuracy: 0.5000\n",
      "Epoch 347/500\n",
      "6/6 [==============================] - 0s 4ms/step - loss: 0.4129 - accuracy: 0.8444 - val_loss: 1.2174 - val_accuracy: 0.5500\n",
      "Epoch 348/500\n",
      "6/6 [==============================] - 0s 4ms/step - loss: 0.3923 - accuracy: 0.7833 - val_loss: 1.2154 - val_accuracy: 0.5500\n",
      "Epoch 349/500\n",
      "6/6 [==============================] - 0s 4ms/step - loss: 0.4053 - accuracy: 0.7833 - val_loss: 1.2096 - val_accuracy: 0.5000\n",
      "Epoch 350/500\n",
      "6/6 [==============================] - 0s 4ms/step - loss: 0.4106 - accuracy: 0.8278 - val_loss: 1.2085 - val_accuracy: 0.5000\n",
      "Epoch 351/500\n",
      "6/6 [==============================] - 0s 4ms/step - loss: 0.4679 - accuracy: 0.7611 - val_loss: 1.2058 - val_accuracy: 0.5000\n",
      "Epoch 352/500\n",
      "6/6 [==============================] - 0s 4ms/step - loss: 0.4063 - accuracy: 0.8167 - val_loss: 1.1719 - val_accuracy: 0.5000\n",
      "Epoch 353/500\n",
      "6/6 [==============================] - 0s 4ms/step - loss: 0.4543 - accuracy: 0.7722 - val_loss: 1.1576 - val_accuracy: 0.5000\n",
      "Epoch 354/500\n",
      "6/6 [==============================] - 0s 4ms/step - loss: 0.4226 - accuracy: 0.8278 - val_loss: 1.1583 - val_accuracy: 0.5000\n",
      "Epoch 355/500\n",
      "6/6 [==============================] - 0s 4ms/step - loss: 0.3934 - accuracy: 0.8111 - val_loss: 1.1595 - val_accuracy: 0.5000\n",
      "Epoch 356/500\n",
      "6/6 [==============================] - 0s 4ms/step - loss: 0.4456 - accuracy: 0.7944 - val_loss: 1.1829 - val_accuracy: 0.5000\n",
      "Epoch 357/500\n",
      "6/6 [==============================] - 0s 4ms/step - loss: 0.4581 - accuracy: 0.7944 - val_loss: 1.1677 - val_accuracy: 0.5000\n",
      "Epoch 358/500\n",
      "6/6 [==============================] - 0s 4ms/step - loss: 0.4068 - accuracy: 0.8111 - val_loss: 1.1405 - val_accuracy: 0.5000\n",
      "Epoch 359/500\n",
      "6/6 [==============================] - 0s 4ms/step - loss: 0.4217 - accuracy: 0.7889 - val_loss: 1.1484 - val_accuracy: 0.5500\n",
      "Epoch 360/500\n",
      "6/6 [==============================] - 0s 4ms/step - loss: 0.4276 - accuracy: 0.7944 - val_loss: 1.1466 - val_accuracy: 0.5500\n",
      "Epoch 361/500\n",
      "6/6 [==============================] - 0s 4ms/step - loss: 0.3603 - accuracy: 0.8389 - val_loss: 1.1327 - val_accuracy: 0.5000\n",
      "Epoch 362/500\n",
      "6/6 [==============================] - 0s 4ms/step - loss: 0.4185 - accuracy: 0.8111 - val_loss: 1.1451 - val_accuracy: 0.5000\n",
      "Epoch 363/500\n",
      "6/6 [==============================] - 0s 4ms/step - loss: 0.4147 - accuracy: 0.8000 - val_loss: 1.1156 - val_accuracy: 0.5500\n",
      "Epoch 364/500\n",
      "6/6 [==============================] - 0s 4ms/step - loss: 0.4133 - accuracy: 0.8222 - val_loss: 1.1106 - val_accuracy: 0.5000\n",
      "Epoch 365/500\n",
      "6/6 [==============================] - 0s 4ms/step - loss: 0.4673 - accuracy: 0.7722 - val_loss: 1.1282 - val_accuracy: 0.5000\n",
      "Epoch 366/500\n",
      "6/6 [==============================] - 0s 4ms/step - loss: 0.4484 - accuracy: 0.7833 - val_loss: 1.1529 - val_accuracy: 0.5000\n",
      "Epoch 367/500\n",
      "6/6 [==============================] - 0s 4ms/step - loss: 0.4091 - accuracy: 0.8222 - val_loss: 1.1745 - val_accuracy: 0.5500\n",
      "Epoch 368/500\n",
      "6/6 [==============================] - 0s 4ms/step - loss: 0.3861 - accuracy: 0.8389 - val_loss: 1.1672 - val_accuracy: 0.5500\n",
      "Epoch 369/500\n",
      "6/6 [==============================] - 0s 4ms/step - loss: 0.4625 - accuracy: 0.7889 - val_loss: 1.1655 - val_accuracy: 0.5500\n",
      "Epoch 370/500\n",
      "6/6 [==============================] - 0s 4ms/step - loss: 0.3982 - accuracy: 0.8222 - val_loss: 1.1553 - val_accuracy: 0.5500\n",
      "Epoch 371/500\n",
      "6/6 [==============================] - 0s 4ms/step - loss: 0.4476 - accuracy: 0.7722 - val_loss: 1.1592 - val_accuracy: 0.5500\n",
      "Epoch 372/500\n",
      "6/6 [==============================] - 0s 4ms/step - loss: 0.4444 - accuracy: 0.7944 - val_loss: 1.1493 - val_accuracy: 0.5500\n",
      "Epoch 373/500\n",
      "6/6 [==============================] - 0s 4ms/step - loss: 0.4418 - accuracy: 0.7667 - val_loss: 1.1319 - val_accuracy: 0.5500\n",
      "Epoch 374/500\n",
      "6/6 [==============================] - 0s 4ms/step - loss: 0.3863 - accuracy: 0.8167 - val_loss: 1.1379 - val_accuracy: 0.5500\n",
      "Epoch 375/500\n",
      "6/6 [==============================] - 0s 4ms/step - loss: 0.4182 - accuracy: 0.8000 - val_loss: 1.1498 - val_accuracy: 0.5500\n",
      "Epoch 376/500\n",
      "6/6 [==============================] - 0s 4ms/step - loss: 0.4442 - accuracy: 0.7722 - val_loss: 1.1425 - val_accuracy: 0.5500\n",
      "Epoch 377/500\n",
      "6/6 [==============================] - 0s 4ms/step - loss: 0.4140 - accuracy: 0.8056 - val_loss: 1.1423 - val_accuracy: 0.5500\n",
      "Epoch 378/500\n",
      "6/6 [==============================] - 0s 4ms/step - loss: 0.3682 - accuracy: 0.8056 - val_loss: 1.1537 - val_accuracy: 0.5500\n",
      "Epoch 379/500\n",
      "6/6 [==============================] - 0s 4ms/step - loss: 0.3865 - accuracy: 0.8222 - val_loss: 1.1609 - val_accuracy: 0.5500\n",
      "Epoch 380/500\n",
      "6/6 [==============================] - 0s 4ms/step - loss: 0.4216 - accuracy: 0.7944 - val_loss: 1.1502 - val_accuracy: 0.5500\n",
      "Epoch 381/500\n",
      "6/6 [==============================] - 0s 4ms/step - loss: 0.4610 - accuracy: 0.7611 - val_loss: 1.1425 - val_accuracy: 0.5500\n",
      "Epoch 382/500\n",
      "6/6 [==============================] - 0s 4ms/step - loss: 0.4118 - accuracy: 0.7889 - val_loss: 1.1608 - val_accuracy: 0.5500\n",
      "Epoch 383/500\n",
      "6/6 [==============================] - 0s 4ms/step - loss: 0.4274 - accuracy: 0.8222 - val_loss: 1.1757 - val_accuracy: 0.5500\n",
      "Epoch 384/500\n",
      "6/6 [==============================] - 0s 4ms/step - loss: 0.4631 - accuracy: 0.7611 - val_loss: 1.2116 - val_accuracy: 0.5500\n",
      "Epoch 385/500\n",
      "6/6 [==============================] - 0s 4ms/step - loss: 0.3939 - accuracy: 0.7944 - val_loss: 1.2179 - val_accuracy: 0.5500\n",
      "Epoch 386/500\n",
      "6/6 [==============================] - 0s 4ms/step - loss: 0.4149 - accuracy: 0.7778 - val_loss: 1.1990 - val_accuracy: 0.5500\n",
      "Epoch 387/500\n",
      "6/6 [==============================] - 0s 4ms/step - loss: 0.4401 - accuracy: 0.8000 - val_loss: 1.1831 - val_accuracy: 0.5500\n",
      "Epoch 388/500\n",
      "6/6 [==============================] - 0s 4ms/step - loss: 0.4503 - accuracy: 0.7722 - val_loss: 1.1818 - val_accuracy: 0.5500\n",
      "Epoch 389/500\n",
      "6/6 [==============================] - 0s 4ms/step - loss: 0.3760 - accuracy: 0.8111 - val_loss: 1.1849 - val_accuracy: 0.5500\n",
      "Epoch 390/500\n",
      "6/6 [==============================] - 0s 4ms/step - loss: 0.4052 - accuracy: 0.8167 - val_loss: 1.1924 - val_accuracy: 0.5000\n",
      "Epoch 391/500\n",
      "6/6 [==============================] - 0s 4ms/step - loss: 0.3782 - accuracy: 0.8056 - val_loss: 1.1802 - val_accuracy: 0.5000\n",
      "Epoch 392/500\n",
      "6/6 [==============================] - 0s 4ms/step - loss: 0.4115 - accuracy: 0.7944 - val_loss: 1.1656 - val_accuracy: 0.5000\n",
      "Epoch 393/500\n",
      "6/6 [==============================] - 0s 4ms/step - loss: 0.3841 - accuracy: 0.7944 - val_loss: 1.1481 - val_accuracy: 0.5000\n",
      "Epoch 394/500\n",
      "6/6 [==============================] - 0s 4ms/step - loss: 0.3564 - accuracy: 0.8611 - val_loss: 1.1505 - val_accuracy: 0.5000\n",
      "Epoch 395/500\n",
      "6/6 [==============================] - 0s 4ms/step - loss: 0.4537 - accuracy: 0.7611 - val_loss: 1.1378 - val_accuracy: 0.5000\n",
      "Epoch 396/500\n",
      "6/6 [==============================] - 0s 4ms/step - loss: 0.4294 - accuracy: 0.7556 - val_loss: 1.1480 - val_accuracy: 0.5500\n",
      "Epoch 397/500\n",
      "6/6 [==============================] - 0s 4ms/step - loss: 0.4010 - accuracy: 0.7833 - val_loss: 1.1545 - val_accuracy: 0.5500\n",
      "Epoch 398/500\n",
      "6/6 [==============================] - 0s 4ms/step - loss: 0.3789 - accuracy: 0.8444 - val_loss: 1.1608 - val_accuracy: 0.5000\n",
      "Epoch 399/500\n",
      "6/6 [==============================] - 0s 4ms/step - loss: 0.4376 - accuracy: 0.8222 - val_loss: 1.1372 - val_accuracy: 0.5000\n",
      "Epoch 400/500\n",
      "6/6 [==============================] - 0s 4ms/step - loss: 0.4169 - accuracy: 0.8056 - val_loss: 1.1531 - val_accuracy: 0.5500\n",
      "Epoch 401/500\n",
      "6/6 [==============================] - 0s 4ms/step - loss: 0.4647 - accuracy: 0.7611 - val_loss: 1.1562 - val_accuracy: 0.5500\n",
      "Epoch 402/500\n",
      "6/6 [==============================] - 0s 4ms/step - loss: 0.4481 - accuracy: 0.7778 - val_loss: 1.1074 - val_accuracy: 0.5500\n",
      "Epoch 403/500\n",
      "6/6 [==============================] - 0s 4ms/step - loss: 0.4377 - accuracy: 0.7944 - val_loss: 1.0822 - val_accuracy: 0.5500\n",
      "Epoch 404/500\n",
      "6/6 [==============================] - 0s 4ms/step - loss: 0.4397 - accuracy: 0.7667 - val_loss: 1.0897 - val_accuracy: 0.5000\n",
      "Epoch 405/500\n",
      "6/6 [==============================] - 0s 4ms/step - loss: 0.4277 - accuracy: 0.8111 - val_loss: 1.0901 - val_accuracy: 0.5000\n",
      "Epoch 406/500\n",
      "6/6 [==============================] - 0s 4ms/step - loss: 0.4124 - accuracy: 0.8167 - val_loss: 1.0707 - val_accuracy: 0.5000\n",
      "Epoch 407/500\n",
      "6/6 [==============================] - 0s 4ms/step - loss: 0.3685 - accuracy: 0.8389 - val_loss: 1.0789 - val_accuracy: 0.5000\n",
      "Epoch 408/500\n",
      "6/6 [==============================] - 0s 4ms/step - loss: 0.4399 - accuracy: 0.7778 - val_loss: 1.0803 - val_accuracy: 0.5000\n",
      "Epoch 409/500\n",
      "6/6 [==============================] - 0s 4ms/step - loss: 0.4253 - accuracy: 0.7889 - val_loss: 1.0828 - val_accuracy: 0.5000\n",
      "Epoch 410/500\n",
      "6/6 [==============================] - 0s 4ms/step - loss: 0.3827 - accuracy: 0.8389 - val_loss: 1.0888 - val_accuracy: 0.5000\n",
      "Epoch 411/500\n",
      "6/6 [==============================] - 0s 4ms/step - loss: 0.4193 - accuracy: 0.8167 - val_loss: 1.0773 - val_accuracy: 0.5000\n",
      "Epoch 412/500\n",
      "6/6 [==============================] - 0s 4ms/step - loss: 0.4211 - accuracy: 0.7722 - val_loss: 1.0896 - val_accuracy: 0.5000\n",
      "Epoch 413/500\n",
      "6/6 [==============================] - 0s 4ms/step - loss: 0.4569 - accuracy: 0.7778 - val_loss: 1.1041 - val_accuracy: 0.5000\n",
      "Epoch 414/500\n",
      "6/6 [==============================] - 0s 4ms/step - loss: 0.4371 - accuracy: 0.7778 - val_loss: 1.1221 - val_accuracy: 0.5000\n",
      "Epoch 415/500\n",
      "6/6 [==============================] - 0s 4ms/step - loss: 0.4365 - accuracy: 0.7944 - val_loss: 1.1421 - val_accuracy: 0.5000\n",
      "Epoch 416/500\n",
      "6/6 [==============================] - 0s 4ms/step - loss: 0.4283 - accuracy: 0.8056 - val_loss: 1.1373 - val_accuracy: 0.5000\n",
      "Epoch 417/500\n",
      "6/6 [==============================] - 0s 4ms/step - loss: 0.3996 - accuracy: 0.8056 - val_loss: 1.1300 - val_accuracy: 0.5000\n",
      "Epoch 418/500\n",
      "6/6 [==============================] - 0s 4ms/step - loss: 0.4038 - accuracy: 0.8389 - val_loss: 1.1141 - val_accuracy: 0.5000\n",
      "Epoch 419/500\n",
      "6/6 [==============================] - 0s 4ms/step - loss: 0.4198 - accuracy: 0.7611 - val_loss: 1.1065 - val_accuracy: 0.5000\n",
      "Epoch 420/500\n",
      "6/6 [==============================] - 0s 4ms/step - loss: 0.4210 - accuracy: 0.8167 - val_loss: 1.1179 - val_accuracy: 0.5000\n",
      "Epoch 421/500\n",
      "6/6 [==============================] - 0s 4ms/step - loss: 0.3923 - accuracy: 0.8167 - val_loss: 1.1328 - val_accuracy: 0.5000\n",
      "Epoch 422/500\n",
      "6/6 [==============================] - 0s 4ms/step - loss: 0.4136 - accuracy: 0.8222 - val_loss: 1.1330 - val_accuracy: 0.5000\n",
      "Epoch 423/500\n",
      "6/6 [==============================] - 0s 4ms/step - loss: 0.3742 - accuracy: 0.8333 - val_loss: 1.1198 - val_accuracy: 0.5000\n",
      "Epoch 424/500\n",
      "6/6 [==============================] - 0s 4ms/step - loss: 0.3826 - accuracy: 0.8056 - val_loss: 1.1249 - val_accuracy: 0.5000\n",
      "Epoch 425/500\n",
      "6/6 [==============================] - 0s 4ms/step - loss: 0.4109 - accuracy: 0.8000 - val_loss: 1.1342 - val_accuracy: 0.5000\n",
      "Epoch 426/500\n",
      "6/6 [==============================] - 0s 4ms/step - loss: 0.3954 - accuracy: 0.8056 - val_loss: 1.1538 - val_accuracy: 0.5000\n",
      "Epoch 427/500\n",
      "6/6 [==============================] - 0s 4ms/step - loss: 0.4188 - accuracy: 0.8000 - val_loss: 1.1662 - val_accuracy: 0.5000\n",
      "Epoch 428/500\n",
      "6/6 [==============================] - 0s 4ms/step - loss: 0.4168 - accuracy: 0.7778 - val_loss: 1.1521 - val_accuracy: 0.5000\n",
      "Epoch 429/500\n",
      "6/6 [==============================] - 0s 4ms/step - loss: 0.3893 - accuracy: 0.8167 - val_loss: 1.1482 - val_accuracy: 0.5000\n",
      "Epoch 430/500\n",
      "6/6 [==============================] - 0s 4ms/step - loss: 0.4380 - accuracy: 0.7778 - val_loss: 1.1413 - val_accuracy: 0.5000\n",
      "Epoch 431/500\n",
      "6/6 [==============================] - 0s 4ms/step - loss: 0.4038 - accuracy: 0.8389 - val_loss: 1.1318 - val_accuracy: 0.5000\n",
      "Epoch 432/500\n",
      "6/6 [==============================] - 0s 4ms/step - loss: 0.4412 - accuracy: 0.7889 - val_loss: 1.1320 - val_accuracy: 0.5000\n",
      "Epoch 433/500\n",
      "6/6 [==============================] - 0s 4ms/step - loss: 0.4188 - accuracy: 0.8167 - val_loss: 1.1333 - val_accuracy: 0.5000\n",
      "Epoch 434/500\n",
      "6/6 [==============================] - 0s 4ms/step - loss: 0.4228 - accuracy: 0.7778 - val_loss: 1.1021 - val_accuracy: 0.5000\n",
      "Epoch 435/500\n",
      "6/6 [==============================] - 0s 4ms/step - loss: 0.4327 - accuracy: 0.7833 - val_loss: 1.0854 - val_accuracy: 0.5000\n",
      "Epoch 436/500\n",
      "6/6 [==============================] - 0s 4ms/step - loss: 0.3894 - accuracy: 0.8056 - val_loss: 1.0921 - val_accuracy: 0.5000\n",
      "Epoch 437/500\n",
      "6/6 [==============================] - 0s 4ms/step - loss: 0.4316 - accuracy: 0.7944 - val_loss: 1.1122 - val_accuracy: 0.5000\n",
      "Epoch 438/500\n",
      "6/6 [==============================] - 0s 4ms/step - loss: 0.4182 - accuracy: 0.8000 - val_loss: 1.1218 - val_accuracy: 0.5000\n",
      "Epoch 439/500\n",
      "6/6 [==============================] - 0s 4ms/step - loss: 0.4130 - accuracy: 0.7833 - val_loss: 1.1192 - val_accuracy: 0.5000\n",
      "Epoch 440/500\n",
      "6/6 [==============================] - 0s 4ms/step - loss: 0.3993 - accuracy: 0.8222 - val_loss: 1.1008 - val_accuracy: 0.5000\n",
      "Epoch 441/500\n",
      "6/6 [==============================] - 0s 4ms/step - loss: 0.4031 - accuracy: 0.7889 - val_loss: 1.1011 - val_accuracy: 0.5000\n",
      "Epoch 442/500\n",
      "6/6 [==============================] - 0s 4ms/step - loss: 0.4738 - accuracy: 0.7778 - val_loss: 1.1144 - val_accuracy: 0.5000\n",
      "Epoch 443/500\n",
      "6/6 [==============================] - 0s 4ms/step - loss: 0.4096 - accuracy: 0.8111 - val_loss: 1.1303 - val_accuracy: 0.5500\n",
      "Epoch 444/500\n",
      "6/6 [==============================] - 0s 4ms/step - loss: 0.4079 - accuracy: 0.8222 - val_loss: 1.1281 - val_accuracy: 0.5000\n",
      "Epoch 445/500\n",
      "6/6 [==============================] - 0s 4ms/step - loss: 0.3899 - accuracy: 0.8278 - val_loss: 1.0967 - val_accuracy: 0.5000\n",
      "Epoch 446/500\n",
      "6/6 [==============================] - 0s 4ms/step - loss: 0.4716 - accuracy: 0.7556 - val_loss: 1.0735 - val_accuracy: 0.5000\n",
      "Epoch 447/500\n",
      "6/6 [==============================] - 0s 4ms/step - loss: 0.3984 - accuracy: 0.7722 - val_loss: 1.0597 - val_accuracy: 0.5000\n",
      "Epoch 448/500\n",
      "6/6 [==============================] - 0s 4ms/step - loss: 0.4061 - accuracy: 0.8167 - val_loss: 1.0537 - val_accuracy: 0.5000\n",
      "Epoch 449/500\n",
      "6/6 [==============================] - 0s 4ms/step - loss: 0.3838 - accuracy: 0.8222 - val_loss: 1.0608 - val_accuracy: 0.5000\n",
      "Epoch 450/500\n",
      "6/6 [==============================] - 0s 4ms/step - loss: 0.4029 - accuracy: 0.8222 - val_loss: 1.0743 - val_accuracy: 0.5000\n",
      "Epoch 451/500\n",
      "6/6 [==============================] - 0s 4ms/step - loss: 0.4291 - accuracy: 0.8056 - val_loss: 1.0858 - val_accuracy: 0.5000\n",
      "Epoch 452/500\n",
      "6/6 [==============================] - 0s 4ms/step - loss: 0.4108 - accuracy: 0.8333 - val_loss: 1.0879 - val_accuracy: 0.5000\n",
      "Epoch 453/500\n",
      "6/6 [==============================] - 0s 4ms/step - loss: 0.4325 - accuracy: 0.7833 - val_loss: 1.0805 - val_accuracy: 0.5000\n",
      "Epoch 454/500\n",
      "6/6 [==============================] - 0s 4ms/step - loss: 0.4116 - accuracy: 0.8111 - val_loss: 1.0782 - val_accuracy: 0.5000\n",
      "Epoch 455/500\n",
      "6/6 [==============================] - 0s 4ms/step - loss: 0.4095 - accuracy: 0.8056 - val_loss: 1.0899 - val_accuracy: 0.5000\n",
      "Epoch 456/500\n",
      "6/6 [==============================] - 0s 4ms/step - loss: 0.4102 - accuracy: 0.8056 - val_loss: 1.0909 - val_accuracy: 0.5000\n",
      "Epoch 457/500\n",
      "6/6 [==============================] - 0s 4ms/step - loss: 0.4123 - accuracy: 0.7944 - val_loss: 1.0892 - val_accuracy: 0.5000\n",
      "Epoch 458/500\n",
      "6/6 [==============================] - 0s 4ms/step - loss: 0.3826 - accuracy: 0.8444 - val_loss: 1.0924 - val_accuracy: 0.5000\n",
      "Epoch 459/500\n",
      "6/6 [==============================] - 0s 4ms/step - loss: 0.3952 - accuracy: 0.7944 - val_loss: 1.0940 - val_accuracy: 0.5000\n",
      "Epoch 460/500\n",
      "6/6 [==============================] - 0s 4ms/step - loss: 0.4621 - accuracy: 0.7833 - val_loss: 1.0870 - val_accuracy: 0.5000\n",
      "Epoch 461/500\n",
      "6/6 [==============================] - 0s 4ms/step - loss: 0.4080 - accuracy: 0.8111 - val_loss: 1.0937 - val_accuracy: 0.5500\n",
      "Epoch 462/500\n",
      "6/6 [==============================] - 0s 4ms/step - loss: 0.3828 - accuracy: 0.8167 - val_loss: 1.0862 - val_accuracy: 0.5500\n",
      "Epoch 463/500\n",
      "6/6 [==============================] - 0s 4ms/step - loss: 0.4012 - accuracy: 0.7722 - val_loss: 1.1026 - val_accuracy: 0.5500\n",
      "Epoch 464/500\n",
      "6/6 [==============================] - 0s 4ms/step - loss: 0.4478 - accuracy: 0.7722 - val_loss: 1.1179 - val_accuracy: 0.5500\n",
      "Epoch 465/500\n",
      "6/6 [==============================] - 0s 4ms/step - loss: 0.3838 - accuracy: 0.8222 - val_loss: 1.0976 - val_accuracy: 0.5500\n",
      "Epoch 466/500\n",
      "6/6 [==============================] - 0s 4ms/step - loss: 0.4523 - accuracy: 0.7889 - val_loss: 1.0861 - val_accuracy: 0.5500\n",
      "Epoch 467/500\n",
      "6/6 [==============================] - 0s 4ms/step - loss: 0.4891 - accuracy: 0.7556 - val_loss: 1.0747 - val_accuracy: 0.5000\n",
      "Epoch 468/500\n",
      "6/6 [==============================] - 0s 4ms/step - loss: 0.3714 - accuracy: 0.8222 - val_loss: 1.0592 - val_accuracy: 0.5000\n",
      "Epoch 469/500\n",
      "6/6 [==============================] - 0s 4ms/step - loss: 0.4593 - accuracy: 0.8000 - val_loss: 1.0601 - val_accuracy: 0.5000\n",
      "Epoch 470/500\n",
      "6/6 [==============================] - 0s 4ms/step - loss: 0.3990 - accuracy: 0.8056 - val_loss: 1.0723 - val_accuracy: 0.5000\n",
      "Epoch 471/500\n",
      "6/6 [==============================] - 0s 4ms/step - loss: 0.3904 - accuracy: 0.8167 - val_loss: 1.0982 - val_accuracy: 0.5000\n",
      "Epoch 472/500\n",
      "6/6 [==============================] - 0s 4ms/step - loss: 0.3996 - accuracy: 0.8389 - val_loss: 1.1320 - val_accuracy: 0.5000\n",
      "Epoch 473/500\n",
      "6/6 [==============================] - 0s 4ms/step - loss: 0.4194 - accuracy: 0.8167 - val_loss: 1.1728 - val_accuracy: 0.5000\n",
      "Epoch 474/500\n",
      "6/6 [==============================] - 0s 4ms/step - loss: 0.4495 - accuracy: 0.7944 - val_loss: 1.1763 - val_accuracy: 0.5000\n",
      "Epoch 475/500\n",
      "6/6 [==============================] - 0s 4ms/step - loss: 0.3995 - accuracy: 0.8111 - val_loss: 1.1646 - val_accuracy: 0.5500\n",
      "Epoch 476/500\n",
      "6/6 [==============================] - 0s 4ms/step - loss: 0.4116 - accuracy: 0.8056 - val_loss: 1.1460 - val_accuracy: 0.5500\n",
      "Epoch 477/500\n",
      "6/6 [==============================] - 0s 4ms/step - loss: 0.4548 - accuracy: 0.7778 - val_loss: 1.1257 - val_accuracy: 0.5500\n",
      "Epoch 478/500\n",
      "6/6 [==============================] - 0s 4ms/step - loss: 0.4267 - accuracy: 0.8111 - val_loss: 1.1233 - val_accuracy: 0.5500\n",
      "Epoch 479/500\n",
      "6/6 [==============================] - 0s 4ms/step - loss: 0.4377 - accuracy: 0.7778 - val_loss: 1.1142 - val_accuracy: 0.5500\n",
      "Epoch 480/500\n",
      "6/6 [==============================] - 0s 4ms/step - loss: 0.4301 - accuracy: 0.8000 - val_loss: 1.1014 - val_accuracy: 0.5500\n",
      "Epoch 481/500\n",
      "6/6 [==============================] - 0s 4ms/step - loss: 0.3840 - accuracy: 0.8389 - val_loss: 1.1008 - val_accuracy: 0.5500\n",
      "Epoch 482/500\n",
      "6/6 [==============================] - 0s 4ms/step - loss: 0.3978 - accuracy: 0.8000 - val_loss: 1.1071 - val_accuracy: 0.5500\n",
      "Epoch 483/500\n",
      "6/6 [==============================] - 0s 4ms/step - loss: 0.4134 - accuracy: 0.8111 - val_loss: 1.0983 - val_accuracy: 0.5500\n",
      "Epoch 484/500\n",
      "6/6 [==============================] - 0s 4ms/step - loss: 0.3700 - accuracy: 0.8111 - val_loss: 1.0854 - val_accuracy: 0.5500\n",
      "Epoch 485/500\n",
      "6/6 [==============================] - 0s 4ms/step - loss: 0.4169 - accuracy: 0.8111 - val_loss: 1.0924 - val_accuracy: 0.5500\n",
      "Epoch 486/500\n",
      "6/6 [==============================] - 0s 4ms/step - loss: 0.3728 - accuracy: 0.7944 - val_loss: 1.1103 - val_accuracy: 0.5500\n",
      "Epoch 487/500\n",
      "6/6 [==============================] - 0s 4ms/step - loss: 0.4308 - accuracy: 0.7778 - val_loss: 1.1251 - val_accuracy: 0.5500\n",
      "Epoch 488/500\n",
      "6/6 [==============================] - 0s 4ms/step - loss: 0.4334 - accuracy: 0.7889 - val_loss: 1.1053 - val_accuracy: 0.5500\n",
      "Epoch 489/500\n",
      "6/6 [==============================] - 0s 4ms/step - loss: 0.4524 - accuracy: 0.7722 - val_loss: 1.0955 - val_accuracy: 0.5500\n",
      "Epoch 490/500\n",
      "6/6 [==============================] - 0s 4ms/step - loss: 0.4384 - accuracy: 0.7889 - val_loss: 1.0936 - val_accuracy: 0.5500\n",
      "Epoch 491/500\n",
      "6/6 [==============================] - 0s 4ms/step - loss: 0.3638 - accuracy: 0.8278 - val_loss: 1.1022 - val_accuracy: 0.5000\n",
      "Epoch 492/500\n",
      "6/6 [==============================] - 0s 4ms/step - loss: 0.4253 - accuracy: 0.8111 - val_loss: 1.0940 - val_accuracy: 0.5500\n",
      "Epoch 493/500\n",
      "6/6 [==============================] - 0s 4ms/step - loss: 0.3953 - accuracy: 0.8222 - val_loss: 1.0664 - val_accuracy: 0.5500\n",
      "Epoch 494/500\n",
      "6/6 [==============================] - 0s 4ms/step - loss: 0.3780 - accuracy: 0.8278 - val_loss: 1.0681 - val_accuracy: 0.5500\n",
      "Epoch 495/500\n",
      "6/6 [==============================] - 0s 4ms/step - loss: 0.3939 - accuracy: 0.8167 - val_loss: 1.0642 - val_accuracy: 0.5500\n",
      "Epoch 496/500\n",
      "6/6 [==============================] - 0s 4ms/step - loss: 0.3691 - accuracy: 0.8222 - val_loss: 1.0729 - val_accuracy: 0.5500\n",
      "Epoch 497/500\n",
      "6/6 [==============================] - 0s 4ms/step - loss: 0.4186 - accuracy: 0.8278 - val_loss: 1.0918 - val_accuracy: 0.5500\n",
      "Epoch 498/500\n",
      "6/6 [==============================] - 0s 4ms/step - loss: 0.4313 - accuracy: 0.7667 - val_loss: 1.0911 - val_accuracy: 0.5500\n",
      "Epoch 499/500\n",
      "6/6 [==============================] - 0s 4ms/step - loss: 0.4035 - accuracy: 0.8000 - val_loss: 1.1074 - val_accuracy: 0.5500\n",
      "Epoch 500/500\n",
      "6/6 [==============================] - 0s 4ms/step - loss: 0.4570 - accuracy: 0.7722 - val_loss: 1.1293 - val_accuracy: 0.5000\n"
     ]
    },
    {
     "data": {
      "text/plain": "<Figure size 1200x600 with 2 Axes>",
      "image/png": "[encoded data removed]"
     },
     "metadata": {},
     "output_type": "display_data"
    }
   ],
   "source": [
    "history = model.fit(X_train, y_train, epochs=500, batch_size=32, validation_split=0.1)\n",
    "\n",
    "# Plot loss and accuracy during training\n",
    "fig, (ax1, ax2) = plt.subplots(1, 2, figsize=(12, 6))\n",
    "\n",
    "# Loss plot\n",
    "ax1.plot(history.history['loss'], label='Training Loss')\n",
    "ax1.plot(history.history['val_loss'], label='Validation Loss')\n",
    "ax1.set_title('Loss')\n",
    "ax1.set_xlabel('Epochs')\n",
    "ax1.set_ylabel('Loss')\n",
    "ax1.legend()\n",
    "\n",
    "# Accuracy plot\n",
    "ax2.plot(history.history['accuracy'], label='Training Accuracy')\n",
    "ax2.plot(history.history['val_accuracy'], label='Validation Accuracy')\n",
    "ax2.set_title('Accuracy')\n",
    "ax2.set_xlabel('Epochs')\n",
    "ax2.set_ylabel('Accuracy')\n",
    "ax2.legend()\n",
    "\n",
    "plt.show()"
   ],
   "metadata": {
    "collapsed": false,
    "pycharm": {
     "name": "#%%\n"
    }
   }
  },
  {
   "cell_type": "markdown",
   "source": [
    "### Accuracy\n",
    "The proportion of correctly classified instances out of the total instances. It's a commonly used metric but can be misleading in imbalanced datasets."
   ],
   "metadata": {
    "collapsed": false,
    "pycharm": {
     "name": "#%% md\n"
    }
   }
  },
  {
   "cell_type": "code",
   "execution_count": 92,
   "outputs": [
    {
     "name": "stdout",
     "output_type": "stream",
     "text": [
      "Accuracy: 0.52\n"
     ]
    }
   ],
   "source": [
    "from sklearn.metrics import accuracy_score, precision_recall_fscore_support, cohen_kappa_score, log_loss\n",
    "\n",
    "accuracy = accuracy_score(y_test, y_pred_int)\n",
    "print(f'Accuracy: {accuracy:.2f}')"
   ],
   "metadata": {
    "collapsed": false,
    "pycharm": {
     "name": "#%%\n"
    }
   }
  },
  {
   "cell_type": "markdown",
   "source": [
    "### Precision\n",
    "The proportion of true positive instances out of the total predicted positive instances. It measures the model's ability to correctly identify positive instances."
   ],
   "metadata": {
    "collapsed": false,
    "pycharm": {
     "name": "#%% md\n"
    }
   }
  },
  {
   "cell_type": "code",
   "execution_count": 93,
   "outputs": [
    {
     "name": "stdout",
     "output_type": "stream",
     "text": [
      "Precision: 0.00\n"
     ]
    },
    {
     "name": "stderr",
     "output_type": "stream",
     "text": [
      "C:\\respository\\stock-market-forecast\\venv\\lib\\site-packages\\sklearn\\metrics\\_classification.py:1221: UndefinedMetricWarning: Precision and F-score are ill-defined and being set to 0.0 due to no predicted samples. Use `zero_division` parameter to control this behavior.\n",
      "  _warn_prf(average, modifier, msg_start, len(result))\n"
     ]
    }
   ],
   "source": [
    "precision = precision_recall_fscore_support(y_test, y_pred_int, average='binary')[0]\n",
    "print(f'Precision: {precision:.2f}')"
   ],
   "metadata": {
    "collapsed": false,
    "pycharm": {
     "name": "#%%\n"
    }
   }
  },
  {
   "cell_type": "markdown",
   "source": [
    "### Recall (Sensitivity or True Positive Rate)\n",
    "The proportion of true positive instances out of the total actual positive instances. It measures the model's ability to identify all the positive instances."
   ],
   "metadata": {
    "collapsed": false,
    "pycharm": {
     "name": "#%% md\n"
    }
   }
  },
  {
   "cell_type": "code",
   "execution_count": 94,
   "outputs": [
    {
     "name": "stdout",
     "output_type": "stream",
     "text": [
      "Recall: 0.00\n"
     ]
    },
    {
     "name": "stderr",
     "output_type": "stream",
     "text": [
      "C:\\respository\\stock-market-forecast\\venv\\lib\\site-packages\\sklearn\\metrics\\_classification.py:1221: UndefinedMetricWarning: Precision and F-score are ill-defined and being set to 0.0 due to no predicted samples. Use `zero_division` parameter to control this behavior.\n",
      "  _warn_prf(average, modifier, msg_start, len(result))\n"
     ]
    }
   ],
   "source": [
    "recall = precision_recall_fscore_support(y_test, y_pred_int, average='binary')[1]\n",
    "print(f'Recall: {recall:.2f}')"
   ],
   "metadata": {
    "collapsed": false,
    "pycharm": {
     "name": "#%%\n"
    }
   }
  },
  {
   "cell_type": "markdown",
   "source": [
    "### F1 Score\n",
    "The harmonic mean of precision and recall. It provides a balance between precision and recall, and it's especially useful when dealing with imbalanced datasets."
   ],
   "metadata": {
    "collapsed": false,
    "pycharm": {
     "name": "#%% md\n"
    }
   }
  },
  {
   "cell_type": "code",
   "execution_count": 95,
   "outputs": [
    {
     "name": "stdout",
     "output_type": "stream",
     "text": [
      "F1 Score: 0.00\n"
     ]
    },
    {
     "name": "stderr",
     "output_type": "stream",
     "text": [
      "C:\\respository\\stock-market-forecast\\venv\\lib\\site-packages\\sklearn\\metrics\\_classification.py:1221: UndefinedMetricWarning: Precision and F-score are ill-defined and being set to 0.0 due to no predicted samples. Use `zero_division` parameter to control this behavior.\n",
      "  _warn_prf(average, modifier, msg_start, len(result))\n"
     ]
    }
   ],
   "source": [
    "f1 = precision_recall_fscore_support(y_test, y_pred_int, average='binary')[2]\n",
    "print(f'F1 Score: {f1:.2f}')"
   ],
   "metadata": {
    "collapsed": false,
    "pycharm": {
     "name": "#%%\n"
    }
   }
  },
  {
   "cell_type": "markdown",
   "source": [
    "### Cohen's Kappa\n",
    "A measure of agreement between two raters, adjusting for the agreement expected by chance. It's a more robust metric than accuracy, as it considers the possibility of a correct classification occurring by chance. A value of 1 indicates perfect agreement, while 0 indicates agreement equivalent to random chance."
   ],
   "metadata": {
    "collapsed": false,
    "pycharm": {
     "name": "#%% md\n"
    }
   }
  },
  {
   "cell_type": "code",
   "execution_count": 98,
   "outputs": [
    {
     "ename": "AttributeError",
     "evalue": "module 'numpy' has no attribute 'int'",
     "output_type": "error",
     "traceback": [
      "\u001B[1;31m---------------------------------------------------------------------------\u001B[0m",
      "\u001B[1;31mAttributeError\u001B[0m                            Traceback (most recent call last)",
      "Cell \u001B[1;32mIn[98], line 7\u001B[0m\n\u001B[0;32m      4\u001B[0m y_pred_flat \u001B[38;5;241m=\u001B[39m y_pred_int\u001B[38;5;241m.\u001B[39mflatten()\n\u001B[0;32m      6\u001B[0m \u001B[38;5;66;03m# Calculate Cohen's Kappa score\u001B[39;00m\n\u001B[1;32m----> 7\u001B[0m kappa \u001B[38;5;241m=\u001B[39m \u001B[43mcohen_kappa_score\u001B[49m\u001B[43m(\u001B[49m\u001B[43my_test\u001B[49m\u001B[43m,\u001B[49m\u001B[43m \u001B[49m\u001B[43my_pred_flat\u001B[49m\u001B[43m)\u001B[49m\n\u001B[0;32m      8\u001B[0m \u001B[38;5;28mprint\u001B[39m(\u001B[38;5;124mf\u001B[39m\u001B[38;5;124m\"\u001B[39m\u001B[38;5;124mCohen\u001B[39m\u001B[38;5;124m'\u001B[39m\u001B[38;5;124ms Kappa: \u001B[39m\u001B[38;5;132;01m{\u001B[39;00mkappa\u001B[38;5;132;01m:\u001B[39;00m\u001B[38;5;124m.2f\u001B[39m\u001B[38;5;132;01m}\u001B[39;00m\u001B[38;5;124m\"\u001B[39m)\n",
      "File \u001B[1;32mC:\\respository\\stock-market-forecast\\venv\\lib\\site-packages\\sklearn\\utils\\validation.py:73\u001B[0m, in \u001B[0;36m_deprecate_positional_args.<locals>.inner_f\u001B[1;34m(*args, **kwargs)\u001B[0m\n\u001B[0;32m     68\u001B[0m     warnings\u001B[38;5;241m.\u001B[39mwarn(\u001B[38;5;124m\"\u001B[39m\u001B[38;5;124mPass \u001B[39m\u001B[38;5;132;01m{}\u001B[39;00m\u001B[38;5;124m as keyword args. From version 0.25 \u001B[39m\u001B[38;5;124m\"\u001B[39m\n\u001B[0;32m     69\u001B[0m                   \u001B[38;5;124m\"\u001B[39m\u001B[38;5;124mpassing these as positional arguments will \u001B[39m\u001B[38;5;124m\"\u001B[39m\n\u001B[0;32m     70\u001B[0m                   \u001B[38;5;124m\"\u001B[39m\u001B[38;5;124mresult in an error\u001B[39m\u001B[38;5;124m\"\u001B[39m\u001B[38;5;241m.\u001B[39mformat(\u001B[38;5;124m\"\u001B[39m\u001B[38;5;124m, \u001B[39m\u001B[38;5;124m\"\u001B[39m\u001B[38;5;241m.\u001B[39mjoin(args_msg)),\n\u001B[0;32m     71\u001B[0m                   \u001B[38;5;167;01mFutureWarning\u001B[39;00m)\n\u001B[0;32m     72\u001B[0m kwargs\u001B[38;5;241m.\u001B[39mupdate({k: arg \u001B[38;5;28;01mfor\u001B[39;00m k, arg \u001B[38;5;129;01min\u001B[39;00m \u001B[38;5;28mzip\u001B[39m(sig\u001B[38;5;241m.\u001B[39mparameters, args)})\n\u001B[1;32m---> 73\u001B[0m \u001B[38;5;28;01mreturn\u001B[39;00m \u001B[43mf\u001B[49m\u001B[43m(\u001B[49m\u001B[38;5;241;43m*\u001B[39;49m\u001B[38;5;241;43m*\u001B[39;49m\u001B[43mkwargs\u001B[49m\u001B[43m)\u001B[49m\n",
      "File \u001B[1;32mC:\\respository\\stock-market-forecast\\venv\\lib\\site-packages\\sklearn\\metrics\\_classification.py:608\u001B[0m, in \u001B[0;36mcohen_kappa_score\u001B[1;34m(y1, y2, labels, weights, sample_weight)\u001B[0m\n\u001B[0;32m    605\u001B[0m expected \u001B[38;5;241m=\u001B[39m np\u001B[38;5;241m.\u001B[39mouter(sum0, sum1) \u001B[38;5;241m/\u001B[39m np\u001B[38;5;241m.\u001B[39msum(sum0)\n\u001B[0;32m    607\u001B[0m \u001B[38;5;28;01mif\u001B[39;00m weights \u001B[38;5;129;01mis\u001B[39;00m \u001B[38;5;28;01mNone\u001B[39;00m:\n\u001B[1;32m--> 608\u001B[0m     w_mat \u001B[38;5;241m=\u001B[39m np\u001B[38;5;241m.\u001B[39mones([n_classes, n_classes], dtype\u001B[38;5;241m=\u001B[39m\u001B[43mnp\u001B[49m\u001B[38;5;241;43m.\u001B[39;49m\u001B[43mint\u001B[49m)\n\u001B[0;32m    609\u001B[0m     w_mat\u001B[38;5;241m.\u001B[39mflat[:: n_classes \u001B[38;5;241m+\u001B[39m \u001B[38;5;241m1\u001B[39m] \u001B[38;5;241m=\u001B[39m \u001B[38;5;241m0\u001B[39m\n\u001B[0;32m    610\u001B[0m \u001B[38;5;28;01melif\u001B[39;00m weights \u001B[38;5;241m==\u001B[39m \u001B[38;5;124m\"\u001B[39m\u001B[38;5;124mlinear\u001B[39m\u001B[38;5;124m\"\u001B[39m \u001B[38;5;129;01mor\u001B[39;00m weights \u001B[38;5;241m==\u001B[39m \u001B[38;5;124m\"\u001B[39m\u001B[38;5;124mquadratic\u001B[39m\u001B[38;5;124m\"\u001B[39m:\n",
      "File \u001B[1;32mC:\\respository\\stock-market-forecast\\venv\\lib\\site-packages\\numpy\\__init__.py:284\u001B[0m, in \u001B[0;36m__getattr__\u001B[1;34m(attr)\u001B[0m\n\u001B[0;32m    281\u001B[0m     \u001B[38;5;28;01mfrom\u001B[39;00m \u001B[38;5;21;01m.\u001B[39;00m\u001B[38;5;21;01mtesting\u001B[39;00m \u001B[38;5;28;01mimport\u001B[39;00m Tester\n\u001B[0;32m    282\u001B[0m     \u001B[38;5;28;01mreturn\u001B[39;00m Tester\n\u001B[1;32m--> 284\u001B[0m \u001B[38;5;28;01mraise\u001B[39;00m \u001B[38;5;167;01mAttributeError\u001B[39;00m(\u001B[38;5;124m\"\u001B[39m\u001B[38;5;124mmodule \u001B[39m\u001B[38;5;132;01m{!r}\u001B[39;00m\u001B[38;5;124m has no attribute \u001B[39m\u001B[38;5;124m\"\u001B[39m\n\u001B[0;32m    285\u001B[0m                      \u001B[38;5;124m\"\u001B[39m\u001B[38;5;132;01m{!r}\u001B[39;00m\u001B[38;5;124m\"\u001B[39m\u001B[38;5;241m.\u001B[39mformat(\u001B[38;5;18m__name__\u001B[39m, attr))\n",
      "\u001B[1;31mAttributeError\u001B[0m: module 'numpy' has no attribute 'int'"
     ]
    }
   ],
   "source": [
    "from sklearn.metrics import cohen_kappa_score\n",
    "\n",
    "# Flatten y_pred to a 1D array\n",
    "y_pred_flat = y_pred_int.flatten()\n",
    "\n",
    "# Calculate Cohen's Kappa score\n",
    "kappa = cohen_kappa_score(y_test, y_pred_flat)\n",
    "print(f\"Cohen's Kappa: {kappa:.2f}\")\n"
   ],
   "metadata": {
    "collapsed": false,
    "pycharm": {
     "name": "#%%\n"
    }
   }
  },
  {
   "cell_type": "code",
   "execution_count": 99,
   "outputs": [
    {
     "name": "stdout",
     "output_type": "stream",
     "text": [
      "[1 0 0 1 0 1 1 0 1 0 0 0 1 0 0 1 0 1 1 0 0 1 0 0 1 1 1 1 0 0 1]\n",
      "[0 0 0 0 0 0 0 0 0 0 0 0 0 0 0 0 0 0 0 0 0 0 0 0 0 0 0 0 0 0 0]\n"
     ]
    }
   ],
   "source": [
    "print(y_test)\n",
    "print(y_pred_flat)"
   ],
   "metadata": {
    "collapsed": false,
    "pycharm": {
     "name": "#%%\n"
    }
   }
  },
  {
   "cell_type": "markdown",
   "source": [
    "### Log Loss (Binary Cross-Entropy)\n",
    "The logarithm of the likelihood of the true labels given the predicted probabilities. It's useful for models that output probabilities, as it evaluates how close the predicted probabilities are to the true labels. Lower values are better."
   ],
   "metadata": {
    "collapsed": false,
    "pycharm": {
     "name": "#%% md\n"
    }
   }
  },
  {
   "cell_type": "code",
   "execution_count": 100,
   "outputs": [
    {
     "name": "stdout",
     "output_type": "stream",
     "text": [
      "1/1 [==============================] - 0s 10ms/step\n",
      "Log Loss: 0.90\n"
     ]
    }
   ],
   "source": [
    "y_pred_probs = model.predict(X_test)\n",
    "logloss = log_loss(y_test, y_pred_probs)\n",
    "print(f'Log Loss: {logloss:.2f}')"
   ],
   "metadata": {
    "collapsed": false,
    "pycharm": {
     "name": "#%%\n"
    }
   }
  },
  {
   "cell_type": "markdown",
   "source": [
    "### Precision-Recall Curve"
   ],
   "metadata": {
    "collapsed": false,
    "pycharm": {
     "name": "#%% md\n"
    }
   }
  },
  {
   "cell_type": "code",
   "execution_count": 101,
   "outputs": [
    {
     "data": {
      "text/plain": "<Figure size 640x480 with 1 Axes>",
      "image/png": "[encoded data removed]"
     },
     "metadata": {},
     "output_type": "display_data"
    }
   ],
   "source": [
    "from sklearn.metrics import precision_recall_curve, auc\n",
    "import matplotlib.pyplot as plt\n",
    "\n",
    "precisions, recalls, thresholds = precision_recall_curve(y_test, y_pred_probs)\n",
    "plt.plot(recalls, precisions, marker='.')\n",
    "plt.xlabel('Recall')\n",
    "plt.ylabel('Precision')\n",
    "plt.title('Precision-Recall Curve')\n",
    "plt.show()"
   ],
   "metadata": {
    "collapsed": false,
    "pycharm": {
     "name": "#%%\n"
    }
   }
  },
  {
   "cell_type": "markdown",
   "source": [
    "### ROC Curve"
   ],
   "metadata": {
    "collapsed": false,
    "pycharm": {
     "name": "#%% md\n"
    }
   }
  },
  {
   "cell_type": "code",
   "execution_count": 102,
   "outputs": [
    {
     "data": {
      "text/plain": "<Figure size 640x480 with 1 Axes>",
      "image/png": "[encoded data removed]"
     },
     "metadata": {},
     "output_type": "display_data"
    }
   ],
   "source": [
    "from sklearn.metrics import roc_curve, roc_auc_score\n",
    "\n",
    "fpr, tpr, thresholds = roc_curve(y_test, y_pred_probs)\n",
    "roc_auc = roc_auc_score(y_test, y_pred_probs)\n",
    "plt.plot(fpr, tpr, label=f'AUC = {roc_auc:.2f}')\n",
    "plt.xlabel('False Positive Rate')\n",
    "plt.ylabel('True Positive Rate')\n",
    "plt.title('ROC Curve')\n",
    "plt.legend(loc='lower right')\n",
    "plt.plot([0, 1], [0, 1], linestyle='--')\n",
    "plt.show()"
   ],
   "metadata": {
    "collapsed": false,
    "pycharm": {
     "name": "#%%\n"
    }
   }
  },
  {
   "cell_type": "markdown",
   "source": [
    "### Hyperparameter Tuning\n",
    "Perform a search for the best hyperparameters, such as the number of hidden layers, number of neurons per layer, learning rate, batch size, and dropout rate. You can use grid search, random search, or more advanced methods like Bayesian optimization.\n",
    "\n",
    "In our implementation, we perform hyperparameter tuning with Keras and scikit-learn using `GridSearchCV`\n"
   ],
   "metadata": {
    "collapsed": false,
    "pycharm": {
     "name": "#%% md\n"
    }
   }
  },
  {
   "cell_type": "code",
   "execution_count": 103,
   "outputs": [
    {
     "name": "stderr",
     "output_type": "stream",
     "text": [
      "C:\\Users\\Vikra\\AppData\\Local\\Temp\\ipykernel_10156\\1610150982.py:16: DeprecationWarning: KerasClassifier is deprecated, use Sci-Keras (https://github.com/adriangb/scikeras) instead. See https://www.adriangb.com/scikeras/stable/migration.html for help migrating.\n",
      "  model = KerasClassifier(build_fn=create_model, epochs=100, batch_size=32, verbose=0)\n",
      "C:\\respository\\stock-market-forecast\\venv\\lib\\site-packages\\sklearn\\base.py:88: DeprecationWarning: KerasClassifier is deprecated, use Sci-Keras (https://github.com/adriangb/scikeras) instead. See https://www.adriangb.com/scikeras/stable/migration.html for help migrating.\n",
      "  new_object = klass(**new_object_params)\n"
     ]
    },
    {
     "ename": "AttributeError",
     "evalue": "module 'numpy' has no attribute 'int'",
     "output_type": "error",
     "traceback": [
      "\u001B[1;31m---------------------------------------------------------------------------\u001B[0m",
      "\u001B[1;31mAttributeError\u001B[0m                            Traceback (most recent call last)",
      "Cell \u001B[1;32mIn[103], line 27\u001B[0m\n\u001B[0;32m     25\u001B[0m \u001B[38;5;66;03m# Perform the grid search\u001B[39;00m\n\u001B[0;32m     26\u001B[0m grid \u001B[38;5;241m=\u001B[39m GridSearchCV(estimator\u001B[38;5;241m=\u001B[39mmodel, param_grid\u001B[38;5;241m=\u001B[39mparam_grid, cv\u001B[38;5;241m=\u001B[39m\u001B[38;5;241m3\u001B[39m)\n\u001B[1;32m---> 27\u001B[0m grid_result \u001B[38;5;241m=\u001B[39m \u001B[43mgrid\u001B[49m\u001B[38;5;241;43m.\u001B[39;49m\u001B[43mfit\u001B[49m\u001B[43m(\u001B[49m\u001B[43mX_train\u001B[49m\u001B[43m,\u001B[49m\u001B[43m \u001B[49m\u001B[43my_train\u001B[49m\u001B[43m)\u001B[49m\n\u001B[0;32m     29\u001B[0m \u001B[38;5;66;03m# Display the results\u001B[39;00m\n\u001B[0;32m     30\u001B[0m \u001B[38;5;28mprint\u001B[39m(\u001B[38;5;124mf\u001B[39m\u001B[38;5;124m'\u001B[39m\u001B[38;5;124mBest Score: \u001B[39m\u001B[38;5;132;01m{\u001B[39;00mgrid_result\u001B[38;5;241m.\u001B[39mbest_score_\u001B[38;5;132;01m:\u001B[39;00m\u001B[38;5;124m.2f\u001B[39m\u001B[38;5;132;01m}\u001B[39;00m\u001B[38;5;124m'\u001B[39m)\n",
      "File \u001B[1;32mC:\\respository\\stock-market-forecast\\venv\\lib\\site-packages\\sklearn\\utils\\validation.py:73\u001B[0m, in \u001B[0;36m_deprecate_positional_args.<locals>.inner_f\u001B[1;34m(*args, **kwargs)\u001B[0m\n\u001B[0;32m     68\u001B[0m     warnings\u001B[38;5;241m.\u001B[39mwarn(\u001B[38;5;124m\"\u001B[39m\u001B[38;5;124mPass \u001B[39m\u001B[38;5;132;01m{}\u001B[39;00m\u001B[38;5;124m as keyword args. From version 0.25 \u001B[39m\u001B[38;5;124m\"\u001B[39m\n\u001B[0;32m     69\u001B[0m                   \u001B[38;5;124m\"\u001B[39m\u001B[38;5;124mpassing these as positional arguments will \u001B[39m\u001B[38;5;124m\"\u001B[39m\n\u001B[0;32m     70\u001B[0m                   \u001B[38;5;124m\"\u001B[39m\u001B[38;5;124mresult in an error\u001B[39m\u001B[38;5;124m\"\u001B[39m\u001B[38;5;241m.\u001B[39mformat(\u001B[38;5;124m\"\u001B[39m\u001B[38;5;124m, \u001B[39m\u001B[38;5;124m\"\u001B[39m\u001B[38;5;241m.\u001B[39mjoin(args_msg)),\n\u001B[0;32m     71\u001B[0m                   \u001B[38;5;167;01mFutureWarning\u001B[39;00m)\n\u001B[0;32m     72\u001B[0m kwargs\u001B[38;5;241m.\u001B[39mupdate({k: arg \u001B[38;5;28;01mfor\u001B[39;00m k, arg \u001B[38;5;129;01min\u001B[39;00m \u001B[38;5;28mzip\u001B[39m(sig\u001B[38;5;241m.\u001B[39mparameters, args)})\n\u001B[1;32m---> 73\u001B[0m \u001B[38;5;28;01mreturn\u001B[39;00m \u001B[43mf\u001B[49m\u001B[43m(\u001B[49m\u001B[38;5;241;43m*\u001B[39;49m\u001B[38;5;241;43m*\u001B[39;49m\u001B[43mkwargs\u001B[49m\u001B[43m)\u001B[49m\n",
      "File \u001B[1;32mC:\\respository\\stock-market-forecast\\venv\\lib\\site-packages\\sklearn\\model_selection\\_search.py:736\u001B[0m, in \u001B[0;36mBaseSearchCV.fit\u001B[1;34m(self, X, y, groups, **fit_params)\u001B[0m\n\u001B[0;32m    732\u001B[0m         results \u001B[38;5;241m=\u001B[39m \u001B[38;5;28mself\u001B[39m\u001B[38;5;241m.\u001B[39m_format_results(\n\u001B[0;32m    733\u001B[0m             all_candidate_params, scorers, n_splits, all_out)\n\u001B[0;32m    734\u001B[0m         \u001B[38;5;28;01mreturn\u001B[39;00m results\n\u001B[1;32m--> 736\u001B[0m     \u001B[38;5;28;43mself\u001B[39;49m\u001B[38;5;241;43m.\u001B[39;49m\u001B[43m_run_search\u001B[49m\u001B[43m(\u001B[49m\u001B[43mevaluate_candidates\u001B[49m\u001B[43m)\u001B[49m\n\u001B[0;32m    738\u001B[0m \u001B[38;5;66;03m# For multi-metric evaluation, store the best_index_, best_params_ and\u001B[39;00m\n\u001B[0;32m    739\u001B[0m \u001B[38;5;66;03m# best_score_ iff refit is one of the scorer names\u001B[39;00m\n\u001B[0;32m    740\u001B[0m \u001B[38;5;66;03m# In single metric evaluation, refit_metric is \"score\"\u001B[39;00m\n\u001B[0;32m    741\u001B[0m \u001B[38;5;28;01mif\u001B[39;00m \u001B[38;5;28mself\u001B[39m\u001B[38;5;241m.\u001B[39mrefit \u001B[38;5;129;01mor\u001B[39;00m \u001B[38;5;129;01mnot\u001B[39;00m \u001B[38;5;28mself\u001B[39m\u001B[38;5;241m.\u001B[39mmultimetric_:\n\u001B[0;32m    742\u001B[0m     \u001B[38;5;66;03m# If callable, refit is expected to return the index of the best\u001B[39;00m\n\u001B[0;32m    743\u001B[0m     \u001B[38;5;66;03m# parameter set.\u001B[39;00m\n",
      "File \u001B[1;32mC:\\respository\\stock-market-forecast\\venv\\lib\\site-packages\\sklearn\\model_selection\\_search.py:1188\u001B[0m, in \u001B[0;36mGridSearchCV._run_search\u001B[1;34m(self, evaluate_candidates)\u001B[0m\n\u001B[0;32m   1186\u001B[0m \u001B[38;5;28;01mdef\u001B[39;00m \u001B[38;5;21m_run_search\u001B[39m(\u001B[38;5;28mself\u001B[39m, evaluate_candidates):\n\u001B[0;32m   1187\u001B[0m     \u001B[38;5;124;03m\"\"\"Search all candidates in param_grid\"\"\"\u001B[39;00m\n\u001B[1;32m-> 1188\u001B[0m     \u001B[43mevaluate_candidates\u001B[49m\u001B[43m(\u001B[49m\u001B[43mParameterGrid\u001B[49m\u001B[43m(\u001B[49m\u001B[38;5;28;43mself\u001B[39;49m\u001B[38;5;241;43m.\u001B[39;49m\u001B[43mparam_grid\u001B[49m\u001B[43m)\u001B[49m\u001B[43m)\u001B[49m\n",
      "File \u001B[1;32mC:\\respository\\stock-market-forecast\\venv\\lib\\site-packages\\sklearn\\model_selection\\_search.py:714\u001B[0m, in \u001B[0;36mBaseSearchCV.fit.<locals>.evaluate_candidates\u001B[1;34m(candidate_params)\u001B[0m\n\u001B[0;32m    703\u001B[0m \u001B[38;5;28;01mif\u001B[39;00m \u001B[38;5;28mself\u001B[39m\u001B[38;5;241m.\u001B[39mverbose \u001B[38;5;241m>\u001B[39m \u001B[38;5;241m0\u001B[39m:\n\u001B[0;32m    704\u001B[0m     \u001B[38;5;28mprint\u001B[39m(\u001B[38;5;124m\"\u001B[39m\u001B[38;5;124mFitting \u001B[39m\u001B[38;5;132;01m{0}\u001B[39;00m\u001B[38;5;124m folds for each of \u001B[39m\u001B[38;5;132;01m{1}\u001B[39;00m\u001B[38;5;124m candidates,\u001B[39m\u001B[38;5;124m\"\u001B[39m\n\u001B[0;32m    705\u001B[0m           \u001B[38;5;124m\"\u001B[39m\u001B[38;5;124m totalling \u001B[39m\u001B[38;5;132;01m{2}\u001B[39;00m\u001B[38;5;124m fits\u001B[39m\u001B[38;5;124m\"\u001B[39m\u001B[38;5;241m.\u001B[39mformat(\n\u001B[0;32m    706\u001B[0m               n_splits, n_candidates, n_candidates \u001B[38;5;241m*\u001B[39m n_splits))\n\u001B[0;32m    708\u001B[0m out \u001B[38;5;241m=\u001B[39m parallel(delayed(_fit_and_score)(clone(base_estimator),\n\u001B[0;32m    709\u001B[0m                                        X, y,\n\u001B[0;32m    710\u001B[0m                                        train\u001B[38;5;241m=\u001B[39mtrain, test\u001B[38;5;241m=\u001B[39mtest,\n\u001B[0;32m    711\u001B[0m                                        parameters\u001B[38;5;241m=\u001B[39mparameters,\n\u001B[0;32m    712\u001B[0m                                        \u001B[38;5;241m*\u001B[39m\u001B[38;5;241m*\u001B[39mfit_and_score_kwargs)\n\u001B[0;32m    713\u001B[0m                \u001B[38;5;28;01mfor\u001B[39;00m parameters, (train, test)\n\u001B[1;32m--> 714\u001B[0m                \u001B[38;5;129;01min\u001B[39;00m \u001B[43mproduct\u001B[49m\u001B[43m(\u001B[49m\u001B[43mcandidate_params\u001B[49m\u001B[43m,\u001B[49m\n\u001B[0;32m    715\u001B[0m \u001B[43m                          \u001B[49m\u001B[43mcv\u001B[49m\u001B[38;5;241;43m.\u001B[39;49m\u001B[43msplit\u001B[49m\u001B[43m(\u001B[49m\u001B[43mX\u001B[49m\u001B[43m,\u001B[49m\u001B[43m \u001B[49m\u001B[43my\u001B[49m\u001B[43m,\u001B[49m\u001B[43m \u001B[49m\u001B[43mgroups\u001B[49m\u001B[43m)\u001B[49m\u001B[43m)\u001B[49m)\n\u001B[0;32m    717\u001B[0m \u001B[38;5;28;01mif\u001B[39;00m \u001B[38;5;28mlen\u001B[39m(out) \u001B[38;5;241m<\u001B[39m \u001B[38;5;241m1\u001B[39m:\n\u001B[0;32m    718\u001B[0m     \u001B[38;5;28;01mraise\u001B[39;00m \u001B[38;5;167;01mValueError\u001B[39;00m(\u001B[38;5;124m'\u001B[39m\u001B[38;5;124mNo fits were performed. \u001B[39m\u001B[38;5;124m'\u001B[39m\n\u001B[0;32m    719\u001B[0m                      \u001B[38;5;124m'\u001B[39m\u001B[38;5;124mWas the CV iterator empty? \u001B[39m\u001B[38;5;124m'\u001B[39m\n\u001B[0;32m    720\u001B[0m                      \u001B[38;5;124m'\u001B[39m\u001B[38;5;124mWere there no candidates?\u001B[39m\u001B[38;5;124m'\u001B[39m)\n",
      "File \u001B[1;32mC:\\respository\\stock-market-forecast\\venv\\lib\\site-packages\\sklearn\\model_selection\\_split.py:336\u001B[0m, in \u001B[0;36m_BaseKFold.split\u001B[1;34m(self, X, y, groups)\u001B[0m\n\u001B[0;32m    330\u001B[0m \u001B[38;5;28;01mif\u001B[39;00m \u001B[38;5;28mself\u001B[39m\u001B[38;5;241m.\u001B[39mn_splits \u001B[38;5;241m>\u001B[39m n_samples:\n\u001B[0;32m    331\u001B[0m     \u001B[38;5;28;01mraise\u001B[39;00m \u001B[38;5;167;01mValueError\u001B[39;00m(\n\u001B[0;32m    332\u001B[0m         (\u001B[38;5;124m\"\u001B[39m\u001B[38;5;124mCannot have number of splits n_splits=\u001B[39m\u001B[38;5;132;01m{0}\u001B[39;00m\u001B[38;5;124m greater\u001B[39m\u001B[38;5;124m\"\u001B[39m\n\u001B[0;32m    333\u001B[0m          \u001B[38;5;124m\"\u001B[39m\u001B[38;5;124m than the number of samples: n_samples=\u001B[39m\u001B[38;5;132;01m{1}\u001B[39;00m\u001B[38;5;124m.\u001B[39m\u001B[38;5;124m\"\u001B[39m)\n\u001B[0;32m    334\u001B[0m         \u001B[38;5;241m.\u001B[39mformat(\u001B[38;5;28mself\u001B[39m\u001B[38;5;241m.\u001B[39mn_splits, n_samples))\n\u001B[1;32m--> 336\u001B[0m \u001B[38;5;28;01mfor\u001B[39;00m train, test \u001B[38;5;129;01min\u001B[39;00m \u001B[38;5;28msuper\u001B[39m()\u001B[38;5;241m.\u001B[39msplit(X, y, groups):\n\u001B[0;32m    337\u001B[0m     \u001B[38;5;28;01myield\u001B[39;00m train, test\n",
      "File \u001B[1;32mC:\\respository\\stock-market-forecast\\venv\\lib\\site-packages\\sklearn\\model_selection\\_split.py:80\u001B[0m, in \u001B[0;36mBaseCrossValidator.split\u001B[1;34m(self, X, y, groups)\u001B[0m\n\u001B[0;32m     78\u001B[0m X, y, groups \u001B[38;5;241m=\u001B[39m indexable(X, y, groups)\n\u001B[0;32m     79\u001B[0m indices \u001B[38;5;241m=\u001B[39m np\u001B[38;5;241m.\u001B[39marange(_num_samples(X))\n\u001B[1;32m---> 80\u001B[0m \u001B[38;5;28;01mfor\u001B[39;00m test_index \u001B[38;5;129;01min\u001B[39;00m \u001B[38;5;28mself\u001B[39m\u001B[38;5;241m.\u001B[39m_iter_test_masks(X, y, groups):\n\u001B[0;32m     81\u001B[0m     train_index \u001B[38;5;241m=\u001B[39m indices[np\u001B[38;5;241m.\u001B[39mlogical_not(test_index)]\n\u001B[0;32m     82\u001B[0m     test_index \u001B[38;5;241m=\u001B[39m indices[test_index]\n",
      "File \u001B[1;32mC:\\respository\\stock-market-forecast\\venv\\lib\\site-packages\\sklearn\\model_selection\\_split.py:92\u001B[0m, in \u001B[0;36mBaseCrossValidator._iter_test_masks\u001B[1;34m(self, X, y, groups)\u001B[0m\n\u001B[0;32m     87\u001B[0m \u001B[38;5;28;01mdef\u001B[39;00m \u001B[38;5;21m_iter_test_masks\u001B[39m(\u001B[38;5;28mself\u001B[39m, X\u001B[38;5;241m=\u001B[39m\u001B[38;5;28;01mNone\u001B[39;00m, y\u001B[38;5;241m=\u001B[39m\u001B[38;5;28;01mNone\u001B[39;00m, groups\u001B[38;5;241m=\u001B[39m\u001B[38;5;28;01mNone\u001B[39;00m):\n\u001B[0;32m     88\u001B[0m     \u001B[38;5;124;03m\"\"\"Generates boolean masks corresponding to test sets.\u001B[39;00m\n\u001B[0;32m     89\u001B[0m \n\u001B[0;32m     90\u001B[0m \u001B[38;5;124;03m    By default, delegates to _iter_test_indices(X, y, groups)\u001B[39;00m\n\u001B[0;32m     91\u001B[0m \u001B[38;5;124;03m    \"\"\"\u001B[39;00m\n\u001B[1;32m---> 92\u001B[0m     \u001B[38;5;28;01mfor\u001B[39;00m test_index \u001B[38;5;129;01min\u001B[39;00m \u001B[38;5;28mself\u001B[39m\u001B[38;5;241m.\u001B[39m_iter_test_indices(X, y, groups):\n\u001B[0;32m     93\u001B[0m         test_mask \u001B[38;5;241m=\u001B[39m np\u001B[38;5;241m.\u001B[39mzeros(_num_samples(X), dtype\u001B[38;5;241m=\u001B[39mnp\u001B[38;5;241m.\u001B[39mbool)\n\u001B[0;32m     94\u001B[0m         test_mask[test_index] \u001B[38;5;241m=\u001B[39m \u001B[38;5;28;01mTrue\u001B[39;00m\n",
      "File \u001B[1;32mC:\\respository\\stock-market-forecast\\venv\\lib\\site-packages\\sklearn\\model_selection\\_split.py:443\u001B[0m, in \u001B[0;36mKFold._iter_test_indices\u001B[1;34m(self, X, y, groups)\u001B[0m\n\u001B[0;32m    440\u001B[0m     check_random_state(\u001B[38;5;28mself\u001B[39m\u001B[38;5;241m.\u001B[39mrandom_state)\u001B[38;5;241m.\u001B[39mshuffle(indices)\n\u001B[0;32m    442\u001B[0m n_splits \u001B[38;5;241m=\u001B[39m \u001B[38;5;28mself\u001B[39m\u001B[38;5;241m.\u001B[39mn_splits\n\u001B[1;32m--> 443\u001B[0m fold_sizes \u001B[38;5;241m=\u001B[39m np\u001B[38;5;241m.\u001B[39mfull(n_splits, n_samples \u001B[38;5;241m/\u001B[39m\u001B[38;5;241m/\u001B[39m n_splits, dtype\u001B[38;5;241m=\u001B[39m\u001B[43mnp\u001B[49m\u001B[38;5;241;43m.\u001B[39;49m\u001B[43mint\u001B[49m)\n\u001B[0;32m    444\u001B[0m fold_sizes[:n_samples \u001B[38;5;241m%\u001B[39m n_splits] \u001B[38;5;241m+\u001B[39m\u001B[38;5;241m=\u001B[39m \u001B[38;5;241m1\u001B[39m\n\u001B[0;32m    445\u001B[0m current \u001B[38;5;241m=\u001B[39m \u001B[38;5;241m0\u001B[39m\n",
      "File \u001B[1;32mC:\\respository\\stock-market-forecast\\venv\\lib\\site-packages\\numpy\\__init__.py:284\u001B[0m, in \u001B[0;36m__getattr__\u001B[1;34m(attr)\u001B[0m\n\u001B[0;32m    281\u001B[0m     \u001B[38;5;28;01mfrom\u001B[39;00m \u001B[38;5;21;01m.\u001B[39;00m\u001B[38;5;21;01mtesting\u001B[39;00m \u001B[38;5;28;01mimport\u001B[39;00m Tester\n\u001B[0;32m    282\u001B[0m     \u001B[38;5;28;01mreturn\u001B[39;00m Tester\n\u001B[1;32m--> 284\u001B[0m \u001B[38;5;28;01mraise\u001B[39;00m \u001B[38;5;167;01mAttributeError\u001B[39;00m(\u001B[38;5;124m\"\u001B[39m\u001B[38;5;124mmodule \u001B[39m\u001B[38;5;132;01m{!r}\u001B[39;00m\u001B[38;5;124m has no attribute \u001B[39m\u001B[38;5;124m\"\u001B[39m\n\u001B[0;32m    285\u001B[0m                      \u001B[38;5;124m\"\u001B[39m\u001B[38;5;132;01m{!r}\u001B[39;00m\u001B[38;5;124m\"\u001B[39m\u001B[38;5;241m.\u001B[39mformat(\u001B[38;5;18m__name__\u001B[39m, attr))\n",
      "\u001B[1;31mAttributeError\u001B[0m: module 'numpy' has no attribute 'int'"
     ]
    }
   ],
   "source": [
    "from keras.wrappers.scikit_learn import KerasClassifier\n",
    "from sklearn.model_selection import GridSearchCV\n",
    "\n",
    "# Define a function to create the model\n",
    "def create_model(optimizer='adam', neurons=32, dropout_rate=0.5):\n",
    "    model = Sequential()\n",
    "    model.add(Dense(neurons, input_dim=X.shape[1], activation='relu'))\n",
    "    model.add(Dropout(dropout_rate))\n",
    "    model.add(Dense(neurons, activation='relu'))\n",
    "    model.add(Dropout(dropout_rate))\n",
    "    model.add(Dense(1, activation='sigmoid'))\n",
    "    model.compile(loss='binary_crossentropy', optimizer=optimizer, metrics=['accuracy'])\n",
    "    return model\n",
    "\n",
    "# Create the KerasClassifier wrapper\n",
    "model = KerasClassifier(build_fn=create_model, epochs=100, batch_size=32, verbose=0)\n",
    "\n",
    "# Define the hyperparameter search space\n",
    "param_grid = {\n",
    "    'optimizer': ['adam', 'rmsprop', 'sgd'],\n",
    "    'neurons': [16, 32, 64],\n",
    "    'dropout_rate': [0.25, 0.5, 0.75]\n",
    "}\n",
    "\n",
    "# Perform the grid search\n",
    "grid = GridSearchCV(estimator=model, param_grid=param_grid, cv=3)\n",
    "grid_result = grid.fit(X_train, y_train)\n",
    "\n",
    "# Display the results\n",
    "print(f'Best Score: {grid_result.best_score_:.2f}')\n",
    "print(f'Best Parameters: {grid_result.best_params_}')"
   ],
   "metadata": {
    "collapsed": false,
    "pycharm": {
     "name": "#%%\n"
    }
   }
  },
  {
   "cell_type": "code",
   "execution_count": 46,
   "outputs": [],
   "source": [],
   "metadata": {
    "collapsed": false,
    "pycharm": {
     "name": "#%%\n"
    }
   }
  },
  {
   "cell_type": "code",
   "execution_count": 30,
   "outputs": [],
   "source": [
    "# IL: create confusion matrix.\n",
    "from keras.layers import Dense\n",
    "from tensorflow.python.keras import Sequential\n",
    "from sklearn.preprocessing import LabelEncoder\n",
    "\n",
    "\n",
    "def mlalgo(X_train, X_test, y_train, y_test):\n",
    "    # Encode the output labels\n",
    "    encoder = LabelEncoder()\n",
    "    y_train = encoder.fit_transform(y_train)\n",
    "\n",
    "    # Build the model\n",
    "    model = Sequential()\n",
    "    model.add(Dense(10, input_dim=X.shape[1], activation='relu'))\n",
    "    model.add(Dense(1, activation='sigmoid'))\n",
    "\n",
    "    # Compile the model\n",
    "    model.compile(loss='binary_crossentropy', optimizer='adam', metrics=['accuracy'])\n",
    "\n",
    "    # Fit the mode (X,d) - Train and validation\n",
    "    model.fit(X_train, y_train, epochs=50, batch_size=32)\n",
    "\n",
    "    # Evaluate the model\n",
    "    scores = model.evaluate(X_test, y_test)\n",
    "    # print(f'Accuracy: {scores[1]:.2f}')\n",
    "    return scores"
   ],
   "metadata": {
    "collapsed": false,
    "pycharm": {
     "name": "#%%\n"
    }
   }
  },
  {
   "cell_type": "code",
   "execution_count": 31,
   "outputs": [
    {
     "data": {
      "text/plain": "                open      high       low  adjusted_close     volume  count  \\\ndate                                                                         \n2021-12-22  35491.71  35764.67  35433.13        35753.89  290725286     58   \n2021-12-23  35782.42  36060.99  35782.42        35950.56  250941712     57   \n2021-12-27  35954.48  36306.61  35954.48        36302.38  250260983     55   \n2021-12-28  36302.99  36527.26  36302.99        36398.21  239087792     59   \n2021-12-29  36421.14  36571.55  36396.19        36488.63  214403952     52   \n\n            normalized  \ndate                    \n2021-12-22     -0.3296  \n2021-12-23     -0.1820  \n2021-12-27     -0.2837  \n2021-12-28     -0.2321  \n2021-12-29     -0.2934  ",
      "text/html": "<div>\n<style scoped>\n    .dataframe tbody tr th:only-of-type {\n        vertical-align: middle;\n    }\n\n    .dataframe tbody tr th {\n        vertical-align: top;\n    }\n\n    .dataframe thead th {\n        text-align: right;\n    }\n</style>\n<table border=\"1\" class=\"dataframe\">\n  <thead>\n    <tr style=\"text-align: right;\">\n      <th></th>\n      <th>open</th>\n      <th>high</th>\n      <th>low</th>\n      <th>adjusted_close</th>\n      <th>volume</th>\n      <th>count</th>\n      <th>normalized</th>\n    </tr>\n    <tr>\n      <th>date</th>\n      <th></th>\n      <th></th>\n      <th></th>\n      <th></th>\n      <th></th>\n      <th></th>\n      <th></th>\n    </tr>\n  </thead>\n  <tbody>\n    <tr>\n      <th>2021-12-22</th>\n      <td>35491.71</td>\n      <td>35764.67</td>\n      <td>35433.13</td>\n      <td>35753.89</td>\n      <td>290725286</td>\n      <td>58</td>\n      <td>-0.3296</td>\n    </tr>\n    <tr>\n      <th>2021-12-23</th>\n      <td>35782.42</td>\n      <td>36060.99</td>\n      <td>35782.42</td>\n      <td>35950.56</td>\n      <td>250941712</td>\n      <td>57</td>\n      <td>-0.1820</td>\n    </tr>\n    <tr>\n      <th>2021-12-27</th>\n      <td>35954.48</td>\n      <td>36306.61</td>\n      <td>35954.48</td>\n      <td>36302.38</td>\n      <td>250260983</td>\n      <td>55</td>\n      <td>-0.2837</td>\n    </tr>\n    <tr>\n      <th>2021-12-28</th>\n      <td>36302.99</td>\n      <td>36527.26</td>\n      <td>36302.99</td>\n      <td>36398.21</td>\n      <td>239087792</td>\n      <td>59</td>\n      <td>-0.2321</td>\n    </tr>\n    <tr>\n      <th>2021-12-29</th>\n      <td>36421.14</td>\n      <td>36571.55</td>\n      <td>36396.19</td>\n      <td>36488.63</td>\n      <td>214403952</td>\n      <td>52</td>\n      <td>-0.2934</td>\n    </tr>\n  </tbody>\n</table>\n</div>"
     },
     "execution_count": 31,
     "metadata": {},
     "output_type": "execute_result"
    }
   ],
   "source": [
    "X.head()"
   ],
   "metadata": {
    "collapsed": false,
    "pycharm": {
     "name": "#%%\n"
    }
   }
  },
  {
   "cell_type": "code",
   "execution_count": 32,
   "outputs": [],
   "source": [
    "sample_df = df_merge.copy()\n",
    "sample_data = sample_df.resample('B').asfreq()\n",
    "sample_data.fillna(method=\"ffill\", inplace=True)"
   ],
   "metadata": {
    "collapsed": false,
    "pycharm": {
     "name": "#%%\n"
    }
   }
  },
  {
   "cell_type": "code",
   "execution_count": 33,
   "outputs": [
    {
     "data": {
      "text/plain": "            Unnamed: 0_x        open        high         low       close  \\\ndate                                                                       \n2021-12-22       16138.0  35491.7100  35764.6700  35433.1300  35753.8900   \n2021-12-23       16139.0  35782.4200  36060.9900  35782.4200  35950.5600   \n2021-12-24       16139.0  35782.4200  36060.9900  35782.4200  35950.5600   \n2021-12-27       16140.0  35954.4800  36306.6100  35954.4800  36302.3800   \n2021-12-28       16141.0  36302.9900  36527.2600  36302.9900  36398.2100   \n...                  ...         ...         ...         ...         ...   \n2022-12-19       16386.0  32921.4492  33038.9414  32581.9707  32757.5391   \n2022-12-20       16387.0  32735.2402  32992.2305  32649.4492  32849.7383   \n2022-12-21       16388.0  33028.0898  33437.8398  33028.0898  33376.4805   \n2022-12-22       16389.0  33233.3516  33233.3516  32573.4297  33027.4883   \n2022-12-23       16390.0  32961.0586  33226.1406  32814.0195  33203.9297   \n\n            adjusted_close       volume  Unnamed: 0_y  count  normalized  \\\ndate                                                                       \n2021-12-22      35753.8900  290725286.0         329.0   58.0     -0.3296   \n2021-12-23      35950.5600  250941712.0         328.0   57.0     -0.1820   \n2021-12-24      35950.5600  250941712.0         328.0   57.0     -0.1820   \n2021-12-27      36302.3800  250260983.0         324.0   55.0     -0.2837   \n2021-12-28      36398.2100  239087792.0         323.0   59.0     -0.2321   \n...                    ...          ...           ...    ...         ...   \n2022-12-19      32757.5391  326430000.0           7.0   13.0      0.2466   \n2022-12-20      32849.7383  303970000.0           6.0   10.0     -0.0499   \n2022-12-21      33376.4805  328020000.0           5.0   18.0      0.2316   \n2022-12-22      33027.4883  340640000.0           4.0    6.0      0.3884   \n2022-12-23      33203.9297  221050000.0           3.0   16.0      0.1991   \n\n            pct_change  direction  \ndate                               \n2021-12-22   -0.007305        0.0  \n2021-12-23   -0.005471        0.0  \n2021-12-24   -0.005471        0.0  \n2021-12-27   -0.009691        0.0  \n2021-12-28   -0.002633        0.0  \n...                ...        ...  \n2022-12-19    0.004974        1.0  \n2022-12-20   -0.002807        1.0  \n2022-12-21   -0.015782        0.0  \n2022-12-22    0.010567        0.0  \n2022-12-23   -0.005314        1.0  \n\n[263 rows x 12 columns]",
      "text/html": "<div>\n<style scoped>\n    .dataframe tbody tr th:only-of-type {\n        vertical-align: middle;\n    }\n\n    .dataframe tbody tr th {\n        vertical-align: top;\n    }\n\n    .dataframe thead th {\n        text-align: right;\n    }\n</style>\n<table border=\"1\" class=\"dataframe\">\n  <thead>\n    <tr style=\"text-align: right;\">\n      <th></th>\n      <th>Unnamed: 0_x</th>\n      <th>open</th>\n      <th>high</th>\n      <th>low</th>\n      <th>close</th>\n      <th>adjusted_close</th>\n      <th>volume</th>\n      <th>Unnamed: 0_y</th>\n      <th>count</th>\n      <th>normalized</th>\n      <th>pct_change</th>\n      <th>direction</th>\n    </tr>\n    <tr>\n      <th>date</th>\n      <th></th>\n      <th></th>\n      <th></th>\n      <th></th>\n      <th></th>\n      <th></th>\n      <th></th>\n      <th></th>\n      <th></th>\n      <th></th>\n      <th></th>\n      <th></th>\n    </tr>\n  </thead>\n  <tbody>\n    <tr>\n      <th>2021-12-22</th>\n      <td>16138.0</td>\n      <td>35491.7100</td>\n      <td>35764.6700</td>\n      <td>35433.1300</td>\n      <td>35753.8900</td>\n      <td>35753.8900</td>\n      <td>290725286.0</td>\n      <td>329.0</td>\n      <td>58.0</td>\n      <td>-0.3296</td>\n      <td>-0.007305</td>\n      <td>0.0</td>\n    </tr>\n    <tr>\n      <th>2021-12-23</th>\n      <td>16139.0</td>\n      <td>35782.4200</td>\n      <td>36060.9900</td>\n      <td>35782.4200</td>\n      <td>35950.5600</td>\n      <td>35950.5600</td>\n      <td>250941712.0</td>\n      <td>328.0</td>\n      <td>57.0</td>\n      <td>-0.1820</td>\n      <td>-0.005471</td>\n      <td>0.0</td>\n    </tr>\n    <tr>\n      <th>2021-12-24</th>\n      <td>16139.0</td>\n      <td>35782.4200</td>\n      <td>36060.9900</td>\n      <td>35782.4200</td>\n      <td>35950.5600</td>\n      <td>35950.5600</td>\n      <td>250941712.0</td>\n      <td>328.0</td>\n      <td>57.0</td>\n      <td>-0.1820</td>\n      <td>-0.005471</td>\n      <td>0.0</td>\n    </tr>\n    <tr>\n      <th>2021-12-27</th>\n      <td>16140.0</td>\n      <td>35954.4800</td>\n      <td>36306.6100</td>\n      <td>35954.4800</td>\n      <td>36302.3800</td>\n      <td>36302.3800</td>\n      <td>250260983.0</td>\n      <td>324.0</td>\n      <td>55.0</td>\n      <td>-0.2837</td>\n      <td>-0.009691</td>\n      <td>0.0</td>\n    </tr>\n    <tr>\n      <th>2021-12-28</th>\n      <td>16141.0</td>\n      <td>36302.9900</td>\n      <td>36527.2600</td>\n      <td>36302.9900</td>\n      <td>36398.2100</td>\n      <td>36398.2100</td>\n      <td>239087792.0</td>\n      <td>323.0</td>\n      <td>59.0</td>\n      <td>-0.2321</td>\n      <td>-0.002633</td>\n      <td>0.0</td>\n    </tr>\n    <tr>\n      <th>...</th>\n      <td>...</td>\n      <td>...</td>\n      <td>...</td>\n      <td>...</td>\n      <td>...</td>\n      <td>...</td>\n      <td>...</td>\n      <td>...</td>\n      <td>...</td>\n      <td>...</td>\n      <td>...</td>\n      <td>...</td>\n    </tr>\n    <tr>\n      <th>2022-12-19</th>\n      <td>16386.0</td>\n      <td>32921.4492</td>\n      <td>33038.9414</td>\n      <td>32581.9707</td>\n      <td>32757.5391</td>\n      <td>32757.5391</td>\n      <td>326430000.0</td>\n      <td>7.0</td>\n      <td>13.0</td>\n      <td>0.2466</td>\n      <td>0.004974</td>\n      <td>1.0</td>\n    </tr>\n    <tr>\n      <th>2022-12-20</th>\n      <td>16387.0</td>\n      <td>32735.2402</td>\n      <td>32992.2305</td>\n      <td>32649.4492</td>\n      <td>32849.7383</td>\n      <td>32849.7383</td>\n      <td>303970000.0</td>\n      <td>6.0</td>\n      <td>10.0</td>\n      <td>-0.0499</td>\n      <td>-0.002807</td>\n      <td>1.0</td>\n    </tr>\n    <tr>\n      <th>2022-12-21</th>\n      <td>16388.0</td>\n      <td>33028.0898</td>\n      <td>33437.8398</td>\n      <td>33028.0898</td>\n      <td>33376.4805</td>\n      <td>33376.4805</td>\n      <td>328020000.0</td>\n      <td>5.0</td>\n      <td>18.0</td>\n      <td>0.2316</td>\n      <td>-0.015782</td>\n      <td>0.0</td>\n    </tr>\n    <tr>\n      <th>2022-12-22</th>\n      <td>16389.0</td>\n      <td>33233.3516</td>\n      <td>33233.3516</td>\n      <td>32573.4297</td>\n      <td>33027.4883</td>\n      <td>33027.4883</td>\n      <td>340640000.0</td>\n      <td>4.0</td>\n      <td>6.0</td>\n      <td>0.3884</td>\n      <td>0.010567</td>\n      <td>0.0</td>\n    </tr>\n    <tr>\n      <th>2022-12-23</th>\n      <td>16390.0</td>\n      <td>32961.0586</td>\n      <td>33226.1406</td>\n      <td>32814.0195</td>\n      <td>33203.9297</td>\n      <td>33203.9297</td>\n      <td>221050000.0</td>\n      <td>3.0</td>\n      <td>16.0</td>\n      <td>0.1991</td>\n      <td>-0.005314</td>\n      <td>1.0</td>\n    </tr>\n  </tbody>\n</table>\n<p>263 rows × 12 columns</p>\n</div>"
     },
     "execution_count": 33,
     "metadata": {},
     "output_type": "execute_result"
    }
   ],
   "source": [
    "sample_data"
   ],
   "metadata": {
    "collapsed": false,
    "pycharm": {
     "name": "#%%\n"
    }
   }
  },
  {
   "cell_type": "code",
   "execution_count": 34,
   "outputs": [
    {
     "data": {
      "text/plain": "<tensorflow.python.keras.engine.sequential.Sequential at 0x1c9342e88e0>"
     },
     "execution_count": 34,
     "metadata": {},
     "output_type": "execute_result"
    }
   ],
   "source": [
    "model"
   ],
   "metadata": {
    "collapsed": false,
    "pycharm": {
     "name": "#%%\n"
    }
   }
  },
  {
   "cell_type": "code",
   "execution_count": 43,
   "outputs": [
    {
     "ename": "ValueError",
     "evalue": "in user code:\n\n\n    ValueError: Cannot iterate over a shape with unknown rank.\n",
     "output_type": "error",
     "traceback": [
      "\u001B[1;31m---------------------------------------------------------------------------\u001B[0m",
      "\u001B[1;31mValueError\u001B[0m                                Traceback (most recent call last)",
      "Cell \u001B[1;32mIn[43], line 1\u001B[0m\n\u001B[1;32m----> 1\u001B[0m \u001B[43mmodel\u001B[49m\u001B[38;5;241;43m.\u001B[39;49m\u001B[43mpredict\u001B[49m\u001B[43m(\u001B[49m\u001B[43mX\u001B[49m\u001B[38;5;241;43m.\u001B[39;49m\u001B[43mloc\u001B[49m\u001B[43m[\u001B[49m\u001B[38;5;124;43m'\u001B[39;49m\u001B[38;5;124;43m2022-12-20\u001B[39;49m\u001B[38;5;124;43m'\u001B[39;49m\u001B[43m]\u001B[49m\u001B[43m)\u001B[49m\n",
      "File \u001B[1;32mC:\\respository\\stock-market-forecast\\venv\\lib\\site-packages\\tensorflow\\python\\keras\\engine\\training.py:1741\u001B[0m, in \u001B[0;36mModel.predict\u001B[1;34m(self, x, batch_size, verbose, steps, callbacks, max_queue_size, workers, use_multiprocessing)\u001B[0m\n\u001B[0;32m   1739\u001B[0m \u001B[38;5;28;01mfor\u001B[39;00m step \u001B[38;5;129;01min\u001B[39;00m data_handler\u001B[38;5;241m.\u001B[39msteps():\n\u001B[0;32m   1740\u001B[0m   callbacks\u001B[38;5;241m.\u001B[39mon_predict_batch_begin(step)\n\u001B[1;32m-> 1741\u001B[0m   tmp_batch_outputs \u001B[38;5;241m=\u001B[39m \u001B[38;5;28;43mself\u001B[39;49m\u001B[38;5;241;43m.\u001B[39;49m\u001B[43mpredict_function\u001B[49m\u001B[43m(\u001B[49m\u001B[43miterator\u001B[49m\u001B[43m)\u001B[49m\n\u001B[0;32m   1742\u001B[0m   \u001B[38;5;28;01mif\u001B[39;00m data_handler\u001B[38;5;241m.\u001B[39mshould_sync:\n\u001B[0;32m   1743\u001B[0m     context\u001B[38;5;241m.\u001B[39masync_wait()\n",
      "File \u001B[1;32mC:\\respository\\stock-market-forecast\\venv\\lib\\site-packages\\tensorflow\\python\\util\\traceback_utils.py:153\u001B[0m, in \u001B[0;36mfilter_traceback.<locals>.error_handler\u001B[1;34m(*args, **kwargs)\u001B[0m\n\u001B[0;32m    151\u001B[0m \u001B[38;5;28;01mexcept\u001B[39;00m \u001B[38;5;167;01mException\u001B[39;00m \u001B[38;5;28;01mas\u001B[39;00m e:\n\u001B[0;32m    152\u001B[0m   filtered_tb \u001B[38;5;241m=\u001B[39m _process_traceback_frames(e\u001B[38;5;241m.\u001B[39m__traceback__)\n\u001B[1;32m--> 153\u001B[0m   \u001B[38;5;28;01mraise\u001B[39;00m e\u001B[38;5;241m.\u001B[39mwith_traceback(filtered_tb) \u001B[38;5;28;01mfrom\u001B[39;00m \u001B[38;5;28mNone\u001B[39m\n\u001B[0;32m    154\u001B[0m \u001B[38;5;28;01mfinally\u001B[39;00m:\n\u001B[0;32m    155\u001B[0m   \u001B[38;5;28;01mdel\u001B[39;00m filtered_tb\n",
      "File \u001B[1;32m~\\AppData\\Local\\Temp\\__autograph_generated_filekix5y471.py:15\u001B[0m, in \u001B[0;36mouter_factory.<locals>.inner_factory.<locals>.tf__predict_function\u001B[1;34m(iterator)\u001B[0m\n\u001B[0;32m     13\u001B[0m \u001B[38;5;28;01mtry\u001B[39;00m:\n\u001B[0;32m     14\u001B[0m     do_return \u001B[38;5;241m=\u001B[39m \u001B[38;5;28;01mTrue\u001B[39;00m\n\u001B[1;32m---> 15\u001B[0m     retval_ \u001B[38;5;241m=\u001B[39m ag__\u001B[38;5;241m.\u001B[39mconverted_call(ag__\u001B[38;5;241m.\u001B[39mld(step_function), (ag__\u001B[38;5;241m.\u001B[39mld(\u001B[38;5;28mself\u001B[39m), ag__\u001B[38;5;241m.\u001B[39mld(iterator)), \u001B[38;5;28;01mNone\u001B[39;00m, fscope)\n\u001B[0;32m     16\u001B[0m \u001B[38;5;28;01mexcept\u001B[39;00m:\n\u001B[0;32m     17\u001B[0m     do_return \u001B[38;5;241m=\u001B[39m \u001B[38;5;28;01mFalse\u001B[39;00m\n",
      "\u001B[1;31mValueError\u001B[0m: in user code:\n\n\n    ValueError: Cannot iterate over a shape with unknown rank.\n"
     ]
    }
   ],
   "source": [
    "model.predict(X.loc['2022-12-20'])"
   ],
   "metadata": {
    "collapsed": false,
    "pycharm": {
     "name": "#%%\n"
    }
   }
  },
  {
   "cell_type": "code",
   "execution_count": 44,
   "outputs": [
    {
     "data": {
      "text/plain": "                  open        high         low  adjusted_close     volume  \\\ndate                                                                        \n2022-12-20  32735.2402  32992.2305  32649.4492      32849.7383  303970000   \n2022-12-21  33028.0898  33437.8398  33028.0898      33376.4805  328020000   \n2022-12-22  33233.3516  33233.3516  32573.4297      33027.4883  340640000   \n2022-12-23  32961.0586  33226.1406  32814.0195      33203.9297  221050000   \n\n            count  normalized  \ndate                           \n2022-12-20     10     -0.0499  \n2022-12-21     18      0.2316  \n2022-12-22      6      0.3884  \n2022-12-23     16      0.1991  ",
      "text/html": "<div>\n<style scoped>\n    .dataframe tbody tr th:only-of-type {\n        vertical-align: middle;\n    }\n\n    .dataframe tbody tr th {\n        vertical-align: top;\n    }\n\n    .dataframe thead th {\n        text-align: right;\n    }\n</style>\n<table border=\"1\" class=\"dataframe\">\n  <thead>\n    <tr style=\"text-align: right;\">\n      <th></th>\n      <th>open</th>\n      <th>high</th>\n      <th>low</th>\n      <th>adjusted_close</th>\n      <th>volume</th>\n      <th>count</th>\n      <th>normalized</th>\n    </tr>\n    <tr>\n      <th>date</th>\n      <th></th>\n      <th></th>\n      <th></th>\n      <th></th>\n      <th></th>\n      <th></th>\n      <th></th>\n    </tr>\n  </thead>\n  <tbody>\n    <tr>\n      <th>2022-12-20</th>\n      <td>32735.2402</td>\n      <td>32992.2305</td>\n      <td>32649.4492</td>\n      <td>32849.7383</td>\n      <td>303970000</td>\n      <td>10</td>\n      <td>-0.0499</td>\n    </tr>\n    <tr>\n      <th>2022-12-21</th>\n      <td>33028.0898</td>\n      <td>33437.8398</td>\n      <td>33028.0898</td>\n      <td>33376.4805</td>\n      <td>328020000</td>\n      <td>18</td>\n      <td>0.2316</td>\n    </tr>\n    <tr>\n      <th>2022-12-22</th>\n      <td>33233.3516</td>\n      <td>33233.3516</td>\n      <td>32573.4297</td>\n      <td>33027.4883</td>\n      <td>340640000</td>\n      <td>6</td>\n      <td>0.3884</td>\n    </tr>\n    <tr>\n      <th>2022-12-23</th>\n      <td>32961.0586</td>\n      <td>33226.1406</td>\n      <td>32814.0195</td>\n      <td>33203.9297</td>\n      <td>221050000</td>\n      <td>16</td>\n      <td>0.1991</td>\n    </tr>\n  </tbody>\n</table>\n</div>"
     },
     "execution_count": 44,
     "metadata": {},
     "output_type": "execute_result"
    }
   ],
   "source": [
    "X.loc['2022-12-20':'2022-12-25']"
   ],
   "metadata": {
    "collapsed": false,
    "pycharm": {
     "name": "#%%\n"
    }
   }
  },
  {
   "cell_type": "code",
   "execution_count": 47,
   "outputs": [
    {
     "data": {
      "text/plain": "        Date  prediction\n0 2022-12-20         0.0\n1 2022-12-21         0.0\n2 2022-12-22         0.0\n3 2022-12-23         0.0",
      "text/html": "<div>\n<style scoped>\n    .dataframe tbody tr th:only-of-type {\n        vertical-align: middle;\n    }\n\n    .dataframe tbody tr th {\n        vertical-align: top;\n    }\n\n    .dataframe thead th {\n        text-align: right;\n    }\n</style>\n<table border=\"1\" class=\"dataframe\">\n  <thead>\n    <tr style=\"text-align: right;\">\n      <th></th>\n      <th>Date</th>\n      <th>prediction</th>\n    </tr>\n  </thead>\n  <tbody>\n    <tr>\n      <th>0</th>\n      <td>2022-12-20</td>\n      <td>0.0</td>\n    </tr>\n    <tr>\n      <th>1</th>\n      <td>2022-12-21</td>\n      <td>0.0</td>\n    </tr>\n    <tr>\n      <th>2</th>\n      <td>2022-12-22</td>\n      <td>0.0</td>\n    </tr>\n    <tr>\n      <th>3</th>\n      <td>2022-12-23</td>\n      <td>0.0</td>\n    </tr>\n  </tbody>\n</table>\n</div>"
     },
     "execution_count": 47,
     "metadata": {},
     "output_type": "execute_result"
    }
   ],
   "source": [
    "df_result = pd.DataFrame()\n",
    "df_result['Date'] = X.loc['2022-12-20':'2022-12-25'].index\n",
    "df_result['prediction'] = model.predict(X.loc['2022-12-20':'2022-12-30'])\n",
    "# model.predict(X.loc['2022-12-20':'2022-12-25'])\n",
    "df_result"
   ],
   "metadata": {
    "collapsed": false,
    "pycharm": {
     "name": "#%%\n"
    }
   }
  },
  {
   "cell_type": "code",
   "execution_count": 46,
   "outputs": [
    {
     "data": {
      "text/plain": "open              3.468619e+04\nhigh              3.504779e+04\nlow               3.468619e+04\nadjusted_close    3.498884e+04\nvolume            3.056666e+08\ncount             1.000000e+00\nnormalized        0.000000e+00\nName: 2022-02-15 00:00:00, dtype: float64"
     },
     "execution_count": 46,
     "metadata": {},
     "output_type": "execute_result"
    }
   ],
   "source": [
    "X_train.iloc[25]"
   ],
   "metadata": {
    "collapsed": false,
    "pycharm": {
     "name": "#%%\n"
    }
   }
  },
  {
   "cell_type": "code",
   "execution_count": 35,
   "outputs": [
    {
     "data": {
      "text/plain": "date\n2021-12-22    0.0\n2021-12-23    0.0\n2021-12-27    0.0\n2021-12-28    0.0\n2021-12-29    0.0\n             ... \n2022-12-19    1.0\n2022-12-20    1.0\n2022-12-21    0.0\n2022-12-22    0.0\n2022-12-23    1.0\nName: direction, Length: 231, dtype: float64"
     },
     "execution_count": 35,
     "metadata": {},
     "output_type": "execute_result"
    }
   ],
   "source": [
    "y"
   ],
   "metadata": {
    "collapsed": false,
    "pycharm": {
     "name": "#%%\n"
    }
   }
  },
  {
   "cell_type": "code",
   "execution_count": null,
   "outputs": [],
   "source": [
    "# confusion matrix\n",
    "# create a function which creates d col\n",
    "# create additional matrix, binary cross-entropy, accuracy, prec-rec, f1, kappa\n",
    "# area under the curve (ROC-AUC chart)\n",
    "# plot x axis time - y axis - binary (0,1) - my pred Blue, actual value Red - if mine is wrong - we have 2 dots and if its correct we have one dot\n",
    "# create validation set (passed to keras to fit func)"
   ],
   "metadata": {
    "collapsed": false,
    "pycharm": {
     "name": "#%%\n"
    }
   }
  }
 ],
 "metadata": {
  "kernelspec": {
   "name": "python3",
   "language": "python",
   "display_name": "Python 3 (ipykernel)"
  },
  "language_info": {
   "codemirror_mode": {
    "name": "ipython",
    "version": 3
   },
   "file_extension": ".py",
   "mimetype": "text/x-python",
   "name": "python",
   "nbconvert_exporter": "python",
   "pygments_lexer": "ipython3",
   "version": "3.10.9"
  }
 },
 "nbformat": 4,
 "nbformat_minor": 5
}