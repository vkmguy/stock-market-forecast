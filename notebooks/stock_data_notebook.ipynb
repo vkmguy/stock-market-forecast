{
 "cells": [
  {
   "cell_type": "markdown",
   "id": "1deb36f6",
   "metadata": {},
   "source": [
    "# Import DJI data from catalog"
   ]
  },
  {
   "cell_type": "code",
   "execution_count": null,
   "id": "3f65f62b",
   "metadata": {},
   "outputs": [],
   "source": [
    "import pandas as pd\n",
    "import matplotlib.pyplot as plt\n",
    "from bokeh.plotting import figure, show, output_file"
   ]
  },
  {
   "cell_type": "code",
   "execution_count": null,
   "id": "68fc3958",
   "metadata": {},
   "outputs": [],
   "source": [
    "djiStockData = catalog.load(\"dji_stock\")\n",
    "djiStockData.drop(['Unnamed: 0'], axis=1,inplace=True)\n",
    "djiStockData.head()"
   ]
  },
  {
   "cell_type": "markdown",
   "id": "eb4e119f",
   "metadata": {
    "pycharm": {
     "name": "#%% md\n"
    }
   },
   "source": [
    "## Check the head of the dataframe"
   ]
  },
  {
   "cell_type": "code",
   "execution_count": null,
   "id": "236540a6",
   "metadata": {
    "pycharm": {
     "name": "#%%\n"
    }
   },
   "outputs": [],
   "source": [
    "djiStockData.head()"
   ]
  },
  {
   "cell_type": "markdown",
   "id": "3d125e09",
   "metadata": {
    "pycharm": {
     "name": "#%% md\n"
    }
   },
   "source": [
    "## Printing the data set metadata"
   ]
  },
  {
   "cell_type": "code",
   "execution_count": null,
   "id": "155cd90e",
   "metadata": {
    "pycharm": {
     "name": "#%%\n"
    }
   },
   "outputs": [],
   "source": [
    "print(\"Metadata of the dataset:\\n\")\n",
    "djiStockData.info()\n",
    "print(\"----\" * 20)\n",
    "\n",
    "# missing values\n",
    "print(\"Sum of null values in the dataset:\\n\")\n",
    "null = djiStockData.isnull().sum()\n",
    "print(null)\n",
    "print(\"----\" * 20)\n",
    "\n",
    "# max range of stocks dataset\n",
    "delta = (pd.to_datetime(djiStockData['date']).max() - pd.to_datetime(djiStockData['date']).min())\n",
    "print(\"Time range of stocks dataset:\\n\", delta)\n",
    "print(\"----\" * 20)"
   ]
  },
  {
   "cell_type": "markdown",
   "id": "c4a84de9",
   "metadata": {
    "pycharm": {
     "name": "#%% md\n"
    }
   },
   "source": [
    "# Historical view of Closing Price\n",
    "The historical view gives us an estimate of how a security is being traded at a certain date in the past. This visualization can be used by investors to make a stock decision after analyzing it. The stock price will tell you where the stock opened and closed on a given day."
   ]
  },
  {
   "cell_type": "code",
   "execution_count": null,
   "id": "6fa62257",
   "metadata": {
    "pycharm": {
     "name": "#%%\n"
    },
    "scrolled": false
   },
   "outputs": [],
   "source": [
    "plt.figure(figsize=(12,6))\n",
    "plt.subplot(1, 1, 1)\n",
    "djiStockData['adjusted_close'].plot()\n",
    "plt.ylabel('Adjusted Closing Price')\n",
    "plt.xlabel('date')\n",
    "plt.title(f\"Historical Closing Price of DJIA Companies\")\n",
    "plt.tight_layout()"
   ]
  },
  {
   "cell_type": "markdown",
   "id": "ac7a3ec3",
   "metadata": {},
   "source": [
    "# Historical view of Closing Price - bokeh"
   ]
  },
  {
   "cell_type": "code",
   "execution_count": null,
   "id": "effb1be9",
   "metadata": {},
   "outputs": [],
   "source": [
    "output_file(\"img/historical_view_cp.html\")\n",
    "hv = figure(x_axis_type=\"datetime\", title=\"Historical Closing Price of DJI Companies\", width=1200, height=600,background_fill_color=\"#fafafa\")\n",
    "hv.grid.grid_line_alpha=0.3\n",
    "hv.xaxis.axis_label = \"Date\"\n",
    "hv.yaxis.axis_label = \"Adjusted Closing Price\"\n",
    "hv.line(djiStockData['date'], djiStockData['adjusted_close'])\n",
    "show(hv)"
   ]
  },
  {
   "cell_type": "markdown",
   "id": "fbc4cc00",
   "metadata": {
    "pycharm": {
     "name": "#%% md\n"
    }
   },
   "source": [
    "# Total Volume of Stocks Traded\n",
    "The volume of stocks traded is an important indicator in technical analysis because it quantifies the relative importance of any market move. If the volume traded is relatively high, it indicates that the stock has gained positive popularity in a short period of time, which lends credibility, or it may indicate that investors are watching it with positive skepticism."
   ]
  },
  {
   "cell_type": "code",
   "execution_count": null,
   "id": "e72437a0",
   "metadata": {
    "pycharm": {
     "name": "#%%\n"
    }
   },
   "outputs": [],
   "source": [
    "plt.figure(figsize=(12,6))\n",
    "plt.subplot(1, 1, 1)\n",
    "djiStockData['volume'].plot()\n",
    "plt.ylabel('Volume of Stocks Traded')\n",
    "plt.xlabel('date')\n",
    "plt.title(f\"Sales Volume Traded for DJI Companies\")\n",
    "plt.tight_layout()"
   ]
  },
  {
   "cell_type": "markdown",
   "id": "715a1b0d",
   "metadata": {},
   "source": [
    "# Total Volume of Stocks Traded - Bokeh"
   ]
  },
  {
   "cell_type": "code",
   "execution_count": null,
   "id": "651599ac",
   "metadata": {},
   "outputs": [],
   "source": [
    "output_file(\"img/total_volume_st.html\")\n",
    "st = figure(x_axis_type=\"datetime\", title=\"Historical Closing Price of S&P 500 Companies\", width=1200, height=600,background_fill_color=\"#fafafa\")\n",
    "st.grid.grid_line_alpha=0.3\n",
    "st.xaxis.axis_label = \"Date\"\n",
    "st.yaxis.axis_label = \"Sales Volume Traded for DJI Companies\"\n",
    "st.line(djiStockData['date'], djiStockData['volume'])\n",
    "show(st)"
   ]
  },
  {
   "cell_type": "markdown",
   "id": "3315fb14",
   "metadata": {
    "pycharm": {
     "name": "#%% md\n"
    }
   },
   "source": [
    "# Moving Averages for DJI stocks\n",
    "Moving averages provide an overall picture of an asset's fundamental value in relation to market volatility. It is also known as a lagging indicator because it follows the price of the asset and averages it with the current price. Using this indicator, we can also determine the asset's overall momentum."
   ]
  },
  {
   "cell_type": "code",
   "execution_count": null,
   "id": "6fe5e32f",
   "metadata": {
    "pycharm": {
     "name": "#%%\n"
    }
   },
   "outputs": [],
   "source": [
    "djiStockDataCopy = djiStockData.copy()\n",
    "moving_avg_days = [10, 50, 200]\n",
    "\n",
    "for ma in moving_avg_days:\n",
    "    column_name = f\"MA for {ma} days\"\n",
    "    djiStockDataCopy[column_name] = djiStockDataCopy['adjusted_close'].rolling(ma).mean()"
   ]
  },
  {
   "cell_type": "code",
   "execution_count": null,
   "id": "34994c75",
   "metadata": {
    "pycharm": {
     "name": "#%%\n"
    }
   },
   "outputs": [],
   "source": [
    "plt.figure(figsize=(12,6))\n",
    "plt.subplot(1, 1, 1)\n",
    "plt.ylabel('Volume')\n",
    "plt.xlabel('Date')\n",
    "djiStockDataCopy['adjusted_close'].plot(legend=True)\n",
    "djiStockDataCopy['MA for 10 days'].plot(legend=True)\n",
    "djiStockDataCopy['MA for 50 days'].plot(legend=True)\n",
    "djiStockDataCopy['MA for 200 days'].plot(legend=True)\n",
    "plt.title('DJI Stocks')\n",
    "plt.tight_layout()"
   ]
  },
  {
   "cell_type": "markdown",
   "id": "602f6ed8",
   "metadata": {},
   "source": [
    "# Moving Averages for DJI stocks - Bokeh"
   ]
  },
  {
   "cell_type": "code",
   "execution_count": null,
   "id": "88df120f",
   "metadata": {},
   "outputs": [],
   "source": [
    "output_file(\"img/moving_average.html\")\n",
    "mv_avg = figure(x_axis_type=\"datetime\", title=\"DJI Stocks Moving Average\", width=1200, height=600,background_fill_color=\"#fafafa\")\n",
    "mv_avg.grid.grid_line_alpha=0\n",
    "mv_avg.xaxis.axis_label = \"Date\"\n",
    "mv_avg.yaxis.axis_label = \"Price\"\n",
    "mv_avg.line(djiStockDataCopy['date'], djiStockDataCopy['MA for 10 days'], color='navy', legend_label='MA for 10 days')\n",
    "mv_avg.line(djiStockDataCopy['date'], djiStockDataCopy['MA for 50 days'], color = 'red', legend_label='MA for 50 days')\n",
    "mv_avg.line(djiStockDataCopy['date'], djiStockDataCopy['MA for 200 days'], color = 'brown', legend_label='MA for 200 days')\n",
    "mv_avg.legend.location = 'top_left'\n",
    "show(mv_avg)"
   ]
  },
  {
   "cell_type": "markdown",
   "id": "17fb15ae",
   "metadata": {
    "pycharm": {
     "name": "#%% md\n"
    }
   },
   "source": [
    "# Daily Return of Stocks\n",
    "The daily return on stocks compares the current day's closing price to the previous day's closing price. It provides information about an asset's day-to-day performance. If we have a positive daily return, it means that the asset is increasing in value on a daily basis."
   ]
  },
  {
   "cell_type": "code",
   "execution_count": null,
   "id": "b7e032b2",
   "metadata": {
    "pycharm": {
     "name": "#%%\n"
    }
   },
   "outputs": [],
   "source": [
    "djiStockDataCopy['Daily Return'] = djiStockDataCopy['adjusted_close'].pct_change()"
   ]
  },
  {
   "cell_type": "code",
   "execution_count": null,
   "id": "1f7ffa4b",
   "metadata": {
    "pycharm": {
     "name": "#%%\n"
    }
   },
   "outputs": [],
   "source": [
    "plt.figure(figsize=(12,6))\n",
    "plt.subplot(1, 1, 1)\n",
    "plt.ylabel('Percentage Return')\n",
    "plt.xlabel('Date')\n",
    "djiStockDataCopy['Daily Return'].plot(legend=True, linestyle='--', marker='o')\n",
    "plt.tight_layout()"
   ]
  },
  {
   "cell_type": "code",
   "execution_count": null,
   "id": "f21c367f",
   "metadata": {
    "pycharm": {
     "name": "#%%\n"
    }
   },
   "outputs": [],
   "source": [
    "plt.figure(figsize=(12,6))\n",
    "plt.subplot(1, 1, 1)\n",
    "djiStockDataCopy['Daily Return'].hist(bins=20)\n",
    "plt.ylabel('Daily Return')\n",
    "plt.title('Histogram of Daily returns')\n",
    "plt.tight_layout()"
   ]
  },
  {
   "cell_type": "markdown",
   "id": "f0a70f3f",
   "metadata": {},
   "source": [
    "# Daily Return of Stocks - Bokeh"
   ]
  },
  {
   "cell_type": "code",
   "execution_count": null,
   "id": "62e37711",
   "metadata": {},
   "outputs": [],
   "source": [
    "output_file(\"img/daily_return.html\")\n",
    "d_return = figure(x_axis_type=\"datetime\", title=\"DJI Stocks percentage return\", width=1200, height=600,background_fill_color=\"#fafafa\")\n",
    "d_return.grid.grid_line_alpha=0\n",
    "d_return.xaxis.axis_label = \"Date\"\n",
    "d_return.yaxis.axis_label = \"Percentage Return\"\n",
    "d_return.circle(djiStockDataCopy['date'], djiStockDataCopy['Daily Return'])\n",
    "show(d_return)"
   ]
  }
 ],
 "metadata": {
  "kernelspec": {
   "display_name": "Kedro (stock_market_forecast)",
   "language": "python",
   "name": "kedro_stock_market_forecast"
  },
  "language_info": {
   "codemirror_mode": {
    "name": "ipython",
    "version": 3
   },
   "file_extension": ".py",
   "mimetype": "text/x-python",
   "name": "python",
   "nbconvert_exporter": "python",
   "pygments_lexer": "ipython3",
   "version": "3.10.9"
  }
 },
 "nbformat": 4,
 "nbformat_minor": 5
}
